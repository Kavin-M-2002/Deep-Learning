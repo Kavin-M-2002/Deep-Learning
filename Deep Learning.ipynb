{
 "cells": [
  {
   "cell_type": "markdown",
   "id": "cd5e5ae0",
   "metadata": {},
   "source": [
    "## Module 1 Assignment"
   ]
  },
  {
   "cell_type": "code",
   "execution_count": 1,
   "id": "bcf1cf5e",
   "metadata": {},
   "outputs": [],
   "source": [
    "import pandas as pd\n",
    "import seaborn as sns"
   ]
  },
  {
   "cell_type": "code",
   "execution_count": 2,
   "id": "fc6672d8",
   "metadata": {},
   "outputs": [
    {
     "data": {
      "text/html": [
       "<div>\n",
       "<style scoped>\n",
       "    .dataframe tbody tr th:only-of-type {\n",
       "        vertical-align: middle;\n",
       "    }\n",
       "\n",
       "    .dataframe tbody tr th {\n",
       "        vertical-align: top;\n",
       "    }\n",
       "\n",
       "    .dataframe thead th {\n",
       "        text-align: right;\n",
       "    }\n",
       "</style>\n",
       "<table border=\"1\" class=\"dataframe\">\n",
       "  <thead>\n",
       "    <tr style=\"text-align: right;\">\n",
       "      <th></th>\n",
       "      <th>Wage_Euro</th>\n",
       "      <th>Value_Euro</th>\n",
       "      <th>Name</th>\n",
       "      <th>Age</th>\n",
       "      <th>Nationality</th>\n",
       "      <th>Overall</th>\n",
       "      <th>Potential</th>\n",
       "      <th>Club</th>\n",
       "      <th>Special</th>\n",
       "      <th>Acceleration</th>\n",
       "      <th>Aggression</th>\n",
       "      <th>Agility</th>\n",
       "    </tr>\n",
       "  </thead>\n",
       "  <tbody>\n",
       "    <tr>\n",
       "      <th>0</th>\n",
       "      <td>565000</td>\n",
       "      <td>95500000</td>\n",
       "      <td>Cristiano Ronaldo</td>\n",
       "      <td>32</td>\n",
       "      <td>Portugal</td>\n",
       "      <td>94</td>\n",
       "      <td>94</td>\n",
       "      <td>Real Madrid CF</td>\n",
       "      <td>2228</td>\n",
       "      <td>89.0</td>\n",
       "      <td>63.0</td>\n",
       "      <td>89.0</td>\n",
       "    </tr>\n",
       "    <tr>\n",
       "      <th>1</th>\n",
       "      <td>565000</td>\n",
       "      <td>105000000</td>\n",
       "      <td>L. Messi</td>\n",
       "      <td>30</td>\n",
       "      <td>Argentina</td>\n",
       "      <td>93</td>\n",
       "      <td>93</td>\n",
       "      <td>FC Barcelona</td>\n",
       "      <td>2154</td>\n",
       "      <td>92.0</td>\n",
       "      <td>48.0</td>\n",
       "      <td>90.0</td>\n",
       "    </tr>\n",
       "    <tr>\n",
       "      <th>2</th>\n",
       "      <td>280000</td>\n",
       "      <td>123000000</td>\n",
       "      <td>Neymar</td>\n",
       "      <td>25</td>\n",
       "      <td>Brazil</td>\n",
       "      <td>92</td>\n",
       "      <td>94</td>\n",
       "      <td>Paris Saint-Germain</td>\n",
       "      <td>2100</td>\n",
       "      <td>94.0</td>\n",
       "      <td>56.0</td>\n",
       "      <td>96.0</td>\n",
       "    </tr>\n",
       "    <tr>\n",
       "      <th>3</th>\n",
       "      <td>510000</td>\n",
       "      <td>97000000</td>\n",
       "      <td>L. Suárez</td>\n",
       "      <td>30</td>\n",
       "      <td>Uruguay</td>\n",
       "      <td>92</td>\n",
       "      <td>92</td>\n",
       "      <td>FC Barcelona</td>\n",
       "      <td>2291</td>\n",
       "      <td>88.0</td>\n",
       "      <td>78.0</td>\n",
       "      <td>86.0</td>\n",
       "    </tr>\n",
       "    <tr>\n",
       "      <th>4</th>\n",
       "      <td>230000</td>\n",
       "      <td>61000000</td>\n",
       "      <td>M. Neuer</td>\n",
       "      <td>31</td>\n",
       "      <td>Germany</td>\n",
       "      <td>92</td>\n",
       "      <td>92</td>\n",
       "      <td>FC Bayern Munich</td>\n",
       "      <td>1493</td>\n",
       "      <td>58.0</td>\n",
       "      <td>29.0</td>\n",
       "      <td>52.0</td>\n",
       "    </tr>\n",
       "  </tbody>\n",
       "</table>\n",
       "</div>"
      ],
      "text/plain": [
       "   Wage_Euro  Value_Euro               Name  Age Nationality  Overall  \\\n",
       "0     565000    95500000  Cristiano Ronaldo   32    Portugal       94   \n",
       "1     565000   105000000           L. Messi   30   Argentina       93   \n",
       "2     280000   123000000             Neymar   25      Brazil       92   \n",
       "3     510000    97000000          L. Suárez   30     Uruguay       92   \n",
       "4     230000    61000000           M. Neuer   31     Germany       92   \n",
       "\n",
       "   Potential                 Club  Special  Acceleration  Aggression  Agility  \n",
       "0         94       Real Madrid CF     2228          89.0        63.0     89.0  \n",
       "1         93         FC Barcelona     2154          92.0        48.0     90.0  \n",
       "2         94  Paris Saint-Germain     2100          94.0        56.0     96.0  \n",
       "3         92         FC Barcelona     2291          88.0        78.0     86.0  \n",
       "4         92     FC Bayern Munich     1493          58.0        29.0     52.0  "
      ]
     },
     "execution_count": 2,
     "metadata": {},
     "output_type": "execute_result"
    }
   ],
   "source": [
    "fifa_df=pd.read_csv('C:/Users/kavin/Downloads/Assignment_2_fifa18_clean.csv')\n",
    "fifa_df.head(5)"
   ]
  },
  {
   "cell_type": "code",
   "execution_count": 3,
   "id": "de77acf1",
   "metadata": {},
   "outputs": [
    {
     "data": {
      "text/html": [
       "<div>\n",
       "<style scoped>\n",
       "    .dataframe tbody tr th:only-of-type {\n",
       "        vertical-align: middle;\n",
       "    }\n",
       "\n",
       "    .dataframe tbody tr th {\n",
       "        vertical-align: top;\n",
       "    }\n",
       "\n",
       "    .dataframe thead th {\n",
       "        text-align: right;\n",
       "    }\n",
       "</style>\n",
       "<table border=\"1\" class=\"dataframe\">\n",
       "  <thead>\n",
       "    <tr style=\"text-align: right;\">\n",
       "      <th></th>\n",
       "      <th>Wage_Euro</th>\n",
       "      <th>Value_Euro</th>\n",
       "      <th>Age</th>\n",
       "      <th>Overall</th>\n",
       "      <th>Potential</th>\n",
       "      <th>Special</th>\n",
       "      <th>Acceleration</th>\n",
       "      <th>Aggression</th>\n",
       "      <th>Agility</th>\n",
       "    </tr>\n",
       "  </thead>\n",
       "  <tbody>\n",
       "    <tr>\n",
       "      <th>count</th>\n",
       "      <td>17981.000000</td>\n",
       "      <td>1.798100e+04</td>\n",
       "      <td>17981.000000</td>\n",
       "      <td>17981.000000</td>\n",
       "      <td>17981.000000</td>\n",
       "      <td>17981.000000</td>\n",
       "      <td>17897.000000</td>\n",
       "      <td>17913.000000</td>\n",
       "      <td>17910.000000</td>\n",
       "    </tr>\n",
       "    <tr>\n",
       "      <th>mean</th>\n",
       "      <td>11546.966242</td>\n",
       "      <td>2.385390e+06</td>\n",
       "      <td>25.144541</td>\n",
       "      <td>66.247984</td>\n",
       "      <td>71.190813</td>\n",
       "      <td>1594.095100</td>\n",
       "      <td>64.576521</td>\n",
       "      <td>55.791492</td>\n",
       "      <td>63.333613</td>\n",
       "    </tr>\n",
       "    <tr>\n",
       "      <th>std</th>\n",
       "      <td>23080.000139</td>\n",
       "      <td>5.353970e+06</td>\n",
       "      <td>4.614272</td>\n",
       "      <td>6.987965</td>\n",
       "      <td>6.102199</td>\n",
       "      <td>272.151435</td>\n",
       "      <td>14.918313</td>\n",
       "      <td>17.476572</td>\n",
       "      <td>14.802800</td>\n",
       "    </tr>\n",
       "    <tr>\n",
       "      <th>min</th>\n",
       "      <td>0.000000</td>\n",
       "      <td>0.000000e+00</td>\n",
       "      <td>16.000000</td>\n",
       "      <td>46.000000</td>\n",
       "      <td>46.000000</td>\n",
       "      <td>728.000000</td>\n",
       "      <td>11.000000</td>\n",
       "      <td>11.000000</td>\n",
       "      <td>14.000000</td>\n",
       "    </tr>\n",
       "    <tr>\n",
       "      <th>25%</th>\n",
       "      <td>2000.000000</td>\n",
       "      <td>3.000000e+05</td>\n",
       "      <td>21.000000</td>\n",
       "      <td>62.000000</td>\n",
       "      <td>67.000000</td>\n",
       "      <td>1449.000000</td>\n",
       "      <td>56.000000</td>\n",
       "      <td>43.000000</td>\n",
       "      <td>55.000000</td>\n",
       "    </tr>\n",
       "    <tr>\n",
       "      <th>50%</th>\n",
       "      <td>4000.000000</td>\n",
       "      <td>6.750000e+05</td>\n",
       "      <td>25.000000</td>\n",
       "      <td>66.000000</td>\n",
       "      <td>71.000000</td>\n",
       "      <td>1633.000000</td>\n",
       "      <td>67.000000</td>\n",
       "      <td>59.000000</td>\n",
       "      <td>65.000000</td>\n",
       "    </tr>\n",
       "    <tr>\n",
       "      <th>75%</th>\n",
       "      <td>12000.000000</td>\n",
       "      <td>2.100000e+06</td>\n",
       "      <td>28.000000</td>\n",
       "      <td>71.000000</td>\n",
       "      <td>75.000000</td>\n",
       "      <td>1786.000000</td>\n",
       "      <td>75.000000</td>\n",
       "      <td>69.000000</td>\n",
       "      <td>74.000000</td>\n",
       "    </tr>\n",
       "    <tr>\n",
       "      <th>max</th>\n",
       "      <td>565000.000000</td>\n",
       "      <td>1.230000e+08</td>\n",
       "      <td>47.000000</td>\n",
       "      <td>94.000000</td>\n",
       "      <td>94.000000</td>\n",
       "      <td>2291.000000</td>\n",
       "      <td>96.000000</td>\n",
       "      <td>96.000000</td>\n",
       "      <td>96.000000</td>\n",
       "    </tr>\n",
       "  </tbody>\n",
       "</table>\n",
       "</div>"
      ],
      "text/plain": [
       "           Wage_Euro    Value_Euro           Age       Overall     Potential  \\\n",
       "count   17981.000000  1.798100e+04  17981.000000  17981.000000  17981.000000   \n",
       "mean    11546.966242  2.385390e+06     25.144541     66.247984     71.190813   \n",
       "std     23080.000139  5.353970e+06      4.614272      6.987965      6.102199   \n",
       "min         0.000000  0.000000e+00     16.000000     46.000000     46.000000   \n",
       "25%      2000.000000  3.000000e+05     21.000000     62.000000     67.000000   \n",
       "50%      4000.000000  6.750000e+05     25.000000     66.000000     71.000000   \n",
       "75%     12000.000000  2.100000e+06     28.000000     71.000000     75.000000   \n",
       "max    565000.000000  1.230000e+08     47.000000     94.000000     94.000000   \n",
       "\n",
       "            Special  Acceleration    Aggression       Agility  \n",
       "count  17981.000000  17897.000000  17913.000000  17910.000000  \n",
       "mean    1594.095100     64.576521     55.791492     63.333613  \n",
       "std      272.151435     14.918313     17.476572     14.802800  \n",
       "min      728.000000     11.000000     11.000000     14.000000  \n",
       "25%     1449.000000     56.000000     43.000000     55.000000  \n",
       "50%     1633.000000     67.000000     59.000000     65.000000  \n",
       "75%     1786.000000     75.000000     69.000000     74.000000  \n",
       "max     2291.000000     96.000000     96.000000     96.000000  "
      ]
     },
     "execution_count": 3,
     "metadata": {},
     "output_type": "execute_result"
    }
   ],
   "source": [
    "fifa_df.describe()"
   ]
  },
  {
   "cell_type": "code",
   "execution_count": 4,
   "id": "b5cc776f",
   "metadata": {},
   "outputs": [
    {
     "name": "stderr",
     "output_type": "stream",
     "text": [
      "C:\\Anaconda Navigator\\lib\\site-packages\\seaborn\\distributions.py:2619: FutureWarning: `distplot` is a deprecated function and will be removed in a future version. Please adapt your code to use either `displot` (a figure-level function with similar flexibility) or `histplot` (an axes-level function for histograms).\n",
      "  warnings.warn(msg, FutureWarning)\n"
     ]
    },
    {
     "data": {
      "text/plain": [
       "<AxesSubplot:xlabel='Wage_Euro', ylabel='Density'>"
      ]
     },
     "execution_count": 4,
     "metadata": {},
     "output_type": "execute_result"
    },
    {
     "data": {
      "image/png": "[encoded data removed]",
      "text/plain": [
       "<Figure size 432x288 with 1 Axes>"
      ]
     },
     "metadata": {
      "needs_background": "light"
     },
     "output_type": "display_data"
    }
   ],
   "source": [
    "sns.distplot(fifa_df.Wage_Euro,kde=True,color=\"red\")"
   ]
  },
  {
   "cell_type": "code",
   "execution_count": 5,
   "id": "55950923",
   "metadata": {},
   "outputs": [
    {
     "data": {
      "text/plain": [
       "<seaborn.axisgrid.JointGrid at 0x1fe3e45a4f0>"
      ]
     },
     "execution_count": 5,
     "metadata": {},
     "output_type": "execute_result"
    },
    {
     "data": {
      "image/png": "[encoded data removed]",
      "text/plain": [
       "<Figure size 432x432 with 3 Axes>"
      ]
     },
     "metadata": {
      "needs_background": "light"
     },
     "output_type": "display_data"
    }
   ],
   "source": [
    "sns.jointplot(data=fifa_df,x='Wage_Euro',y='Overall')"
   ]
  },
  {
   "cell_type": "code",
   "execution_count": 6,
   "id": "12e0f601",
   "metadata": {},
   "outputs": [
    {
     "data": {
      "text/plain": [
       "'esruoc nohtyP'"
      ]
     },
     "execution_count": 6,
     "metadata": {},
     "output_type": "execute_result"
    }
   ],
   "source": [
    "str=\"Python course\"\n",
    "str[::-1]"
   ]
  },
  {
   "cell_type": "markdown",
   "id": "067054aa",
   "metadata": {},
   "source": [
    "## Simple Perceptron model (single layer)"
   ]
  },
  {
   "cell_type": "code",
   "execution_count": 7,
   "id": "2887709b",
   "metadata": {},
   "outputs": [
    {
     "data": {
      "text/plain": [
       "{'data': array([[5.1, 3.5, 1.4, 0.2],\n",
       "        [4.9, 3. , 1.4, 0.2],\n",
       "        [4.7, 3.2, 1.3, 0.2],\n",
       "        [4.6, 3.1, 1.5, 0.2],\n",
       "        [5. , 3.6, 1.4, 0.2],\n",
       "        [5.4, 3.9, 1.7, 0.4],\n",
       "        [4.6, 3.4, 1.4, 0.3],\n",
       "        [5. , 3.4, 1.5, 0.2],\n",
       "        [4.4, 2.9, 1.4, 0.2],\n",
       "        [4.9, 3.1, 1.5, 0.1],\n",
       "        [5.4, 3.7, 1.5, 0.2],\n",
       "        [4.8, 3.4, 1.6, 0.2],\n",
       "        [4.8, 3. , 1.4, 0.1],\n",
       "        [4.3, 3. , 1.1, 0.1],\n",
       "        [5.8, 4. , 1.2, 0.2],\n",
       "        [5.7, 4.4, 1.5, 0.4],\n",
       "        [5.4, 3.9, 1.3, 0.4],\n",
       "        [5.1, 3.5, 1.4, 0.3],\n",
       "        [5.7, 3.8, 1.7, 0.3],\n",
       "        [5.1, 3.8, 1.5, 0.3],\n",
       "        [5.4, 3.4, 1.7, 0.2],\n",
       "        [5.1, 3.7, 1.5, 0.4],\n",
       "        [4.6, 3.6, 1. , 0.2],\n",
       "        [5.1, 3.3, 1.7, 0.5],\n",
       "        [4.8, 3.4, 1.9, 0.2],\n",
       "        [5. , 3. , 1.6, 0.2],\n",
       "        [5. , 3.4, 1.6, 0.4],\n",
       "        [5.2, 3.5, 1.5, 0.2],\n",
       "        [5.2, 3.4, 1.4, 0.2],\n",
       "        [4.7, 3.2, 1.6, 0.2],\n",
       "        [4.8, 3.1, 1.6, 0.2],\n",
       "        [5.4, 3.4, 1.5, 0.4],\n",
       "        [5.2, 4.1, 1.5, 0.1],\n",
       "        [5.5, 4.2, 1.4, 0.2],\n",
       "        [4.9, 3.1, 1.5, 0.2],\n",
       "        [5. , 3.2, 1.2, 0.2],\n",
       "        [5.5, 3.5, 1.3, 0.2],\n",
       "        [4.9, 3.6, 1.4, 0.1],\n",
       "        [4.4, 3. , 1.3, 0.2],\n",
       "        [5.1, 3.4, 1.5, 0.2],\n",
       "        [5. , 3.5, 1.3, 0.3],\n",
       "        [4.5, 2.3, 1.3, 0.3],\n",
       "        [4.4, 3.2, 1.3, 0.2],\n",
       "        [5. , 3.5, 1.6, 0.6],\n",
       "        [5.1, 3.8, 1.9, 0.4],\n",
       "        [4.8, 3. , 1.4, 0.3],\n",
       "        [5.1, 3.8, 1.6, 0.2],\n",
       "        [4.6, 3.2, 1.4, 0.2],\n",
       "        [5.3, 3.7, 1.5, 0.2],\n",
       "        [5. , 3.3, 1.4, 0.2],\n",
       "        [7. , 3.2, 4.7, 1.4],\n",
       "        [6.4, 3.2, 4.5, 1.5],\n",
       "        [6.9, 3.1, 4.9, 1.5],\n",
       "        [5.5, 2.3, 4. , 1.3],\n",
       "        [6.5, 2.8, 4.6, 1.5],\n",
       "        [5.7, 2.8, 4.5, 1.3],\n",
       "        [6.3, 3.3, 4.7, 1.6],\n",
       "        [4.9, 2.4, 3.3, 1. ],\n",
       "        [6.6, 2.9, 4.6, 1.3],\n",
       "        [5.2, 2.7, 3.9, 1.4],\n",
       "        [5. , 2. , 3.5, 1. ],\n",
       "        [5.9, 3. , 4.2, 1.5],\n",
       "        [6. , 2.2, 4. , 1. ],\n",
       "        [6.1, 2.9, 4.7, 1.4],\n",
       "        [5.6, 2.9, 3.6, 1.3],\n",
       "        [6.7, 3.1, 4.4, 1.4],\n",
       "        [5.6, 3. , 4.5, 1.5],\n",
       "        [5.8, 2.7, 4.1, 1. ],\n",
       "        [6.2, 2.2, 4.5, 1.5],\n",
       "        [5.6, 2.5, 3.9, 1.1],\n",
       "        [5.9, 3.2, 4.8, 1.8],\n",
       "        [6.1, 2.8, 4. , 1.3],\n",
       "        [6.3, 2.5, 4.9, 1.5],\n",
       "        [6.1, 2.8, 4.7, 1.2],\n",
       "        [6.4, 2.9, 4.3, 1.3],\n",
       "        [6.6, 3. , 4.4, 1.4],\n",
       "        [6.8, 2.8, 4.8, 1.4],\n",
       "        [6.7, 3. , 5. , 1.7],\n",
       "        [6. , 2.9, 4.5, 1.5],\n",
       "        [5.7, 2.6, 3.5, 1. ],\n",
       "        [5.5, 2.4, 3.8, 1.1],\n",
       "        [5.5, 2.4, 3.7, 1. ],\n",
       "        [5.8, 2.7, 3.9, 1.2],\n",
       "        [6. , 2.7, 5.1, 1.6],\n",
       "        [5.4, 3. , 4.5, 1.5],\n",
       "        [6. , 3.4, 4.5, 1.6],\n",
       "        [6.7, 3.1, 4.7, 1.5],\n",
       "        [6.3, 2.3, 4.4, 1.3],\n",
       "        [5.6, 3. , 4.1, 1.3],\n",
       "        [5.5, 2.5, 4. , 1.3],\n",
       "        [5.5, 2.6, 4.4, 1.2],\n",
       "        [6.1, 3. , 4.6, 1.4],\n",
       "        [5.8, 2.6, 4. , 1.2],\n",
       "        [5. , 2.3, 3.3, 1. ],\n",
       "        [5.6, 2.7, 4.2, 1.3],\n",
       "        [5.7, 3. , 4.2, 1.2],\n",
       "        [5.7, 2.9, 4.2, 1.3],\n",
       "        [6.2, 2.9, 4.3, 1.3],\n",
       "        [5.1, 2.5, 3. , 1.1],\n",
       "        [5.7, 2.8, 4.1, 1.3],\n",
       "        [6.3, 3.3, 6. , 2.5],\n",
       "        [5.8, 2.7, 5.1, 1.9],\n",
       "        [7.1, 3. , 5.9, 2.1],\n",
       "        [6.3, 2.9, 5.6, 1.8],\n",
       "        [6.5, 3. , 5.8, 2.2],\n",
       "        [7.6, 3. , 6.6, 2.1],\n",
       "        [4.9, 2.5, 4.5, 1.7],\n",
       "        [7.3, 2.9, 6.3, 1.8],\n",
       "        [6.7, 2.5, 5.8, 1.8],\n",
       "        [7.2, 3.6, 6.1, 2.5],\n",
       "        [6.5, 3.2, 5.1, 2. ],\n",
       "        [6.4, 2.7, 5.3, 1.9],\n",
       "        [6.8, 3. , 5.5, 2.1],\n",
       "        [5.7, 2.5, 5. , 2. ],\n",
       "        [5.8, 2.8, 5.1, 2.4],\n",
       "        [6.4, 3.2, 5.3, 2.3],\n",
       "        [6.5, 3. , 5.5, 1.8],\n",
       "        [7.7, 3.8, 6.7, 2.2],\n",
       "        [7.7, 2.6, 6.9, 2.3],\n",
       "        [6. , 2.2, 5. , 1.5],\n",
       "        [6.9, 3.2, 5.7, 2.3],\n",
       "        [5.6, 2.8, 4.9, 2. ],\n",
       "        [7.7, 2.8, 6.7, 2. ],\n",
       "        [6.3, 2.7, 4.9, 1.8],\n",
       "        [6.7, 3.3, 5.7, 2.1],\n",
       "        [7.2, 3.2, 6. , 1.8],\n",
       "        [6.2, 2.8, 4.8, 1.8],\n",
       "        [6.1, 3. , 4.9, 1.8],\n",
       "        [6.4, 2.8, 5.6, 2.1],\n",
       "        [7.2, 3. , 5.8, 1.6],\n",
       "        [7.4, 2.8, 6.1, 1.9],\n",
       "        [7.9, 3.8, 6.4, 2. ],\n",
       "        [6.4, 2.8, 5.6, 2.2],\n",
       "        [6.3, 2.8, 5.1, 1.5],\n",
       "        [6.1, 2.6, 5.6, 1.4],\n",
       "        [7.7, 3. , 6.1, 2.3],\n",
       "        [6.3, 3.4, 5.6, 2.4],\n",
       "        [6.4, 3.1, 5.5, 1.8],\n",
       "        [6. , 3. , 4.8, 1.8],\n",
       "        [6.9, 3.1, 5.4, 2.1],\n",
       "        [6.7, 3.1, 5.6, 2.4],\n",
       "        [6.9, 3.1, 5.1, 2.3],\n",
       "        [5.8, 2.7, 5.1, 1.9],\n",
       "        [6.8, 3.2, 5.9, 2.3],\n",
       "        [6.7, 3.3, 5.7, 2.5],\n",
       "        [6.7, 3. , 5.2, 2.3],\n",
       "        [6.3, 2.5, 5. , 1.9],\n",
       "        [6.5, 3. , 5.2, 2. ],\n",
       "        [6.2, 3.4, 5.4, 2.3],\n",
       "        [5.9, 3. , 5.1, 1.8]]),\n",
       " 'target': array([0, 0, 0, 0, 0, 0, 0, 0, 0, 0, 0, 0, 0, 0, 0, 0, 0, 0, 0, 0, 0, 0,\n",
       "        0, 0, 0, 0, 0, 0, 0, 0, 0, 0, 0, 0, 0, 0, 0, 0, 0, 0, 0, 0, 0, 0,\n",
       "        0, 0, 0, 0, 0, 0, 1, 1, 1, 1, 1, 1, 1, 1, 1, 1, 1, 1, 1, 1, 1, 1,\n",
       "        1, 1, 1, 1, 1, 1, 1, 1, 1, 1, 1, 1, 1, 1, 1, 1, 1, 1, 1, 1, 1, 1,\n",
       "        1, 1, 1, 1, 1, 1, 1, 1, 1, 1, 1, 1, 2, 2, 2, 2, 2, 2, 2, 2, 2, 2,\n",
       "        2, 2, 2, 2, 2, 2, 2, 2, 2, 2, 2, 2, 2, 2, 2, 2, 2, 2, 2, 2, 2, 2,\n",
       "        2, 2, 2, 2, 2, 2, 2, 2, 2, 2, 2, 2, 2, 2, 2, 2, 2, 2]),\n",
       " 'frame': None,\n",
       " 'target_names': array(['setosa', 'versicolor', 'virginica'], dtype='<U10'),\n",
       " 'DESCR': '.. _iris_dataset:\\n\\nIris plants dataset\\n--------------------\\n\\n**Data Set Characteristics:**\\n\\n    :Number of Instances: 150 (50 in each of three classes)\\n    :Number of Attributes: 4 numeric, predictive attributes and the class\\n    :Attribute Information:\\n        - sepal length in cm\\n        - sepal width in cm\\n        - petal length in cm\\n        - petal width in cm\\n        - class:\\n                - Iris-Setosa\\n                - Iris-Versicolour\\n                - Iris-Virginica\\n                \\n    :Summary Statistics:\\n\\n    ============== ==== ==== ======= ===== ====================\\n                    Min  Max   Mean    SD   Class Correlation\\n    ============== ==== ==== ======= ===== ====================\\n    sepal length:   4.3  7.9   5.84   0.83    0.7826\\n    sepal width:    2.0  4.4   3.05   0.43   -0.4194\\n    petal length:   1.0  6.9   3.76   1.76    0.9490  (high!)\\n    petal width:    0.1  2.5   1.20   0.76    0.9565  (high!)\\n    ============== ==== ==== ======= ===== ====================\\n\\n    :Missing Attribute Values: None\\n    :Class Distribution: 33.3% for each of 3 classes.\\n    :Creator: R.A. Fisher\\n    :Donor: Michael Marshall (MARSHALL%PLU@io.arc.nasa.gov)\\n    :Date: July, 1988\\n\\nThe famous Iris database, first used by Sir R.A. Fisher. The dataset is taken\\nfrom Fisher\\'s paper. Note that it\\'s the same as in R, but not as in the UCI\\nMachine Learning Repository, which has two wrong data points.\\n\\nThis is perhaps the best known database to be found in the\\npattern recognition literature.  Fisher\\'s paper is a classic in the field and\\nis referenced frequently to this day.  (See Duda & Hart, for example.)  The\\ndata set contains 3 classes of 50 instances each, where each class refers to a\\ntype of iris plant.  One class is linearly separable from the other 2; the\\nlatter are NOT linearly separable from each other.\\n\\n.. topic:: References\\n\\n   - Fisher, R.A. \"The use of multiple measurements in taxonomic problems\"\\n     Annual Eugenics, 7, Part II, 179-188 (1936); also in \"Contributions to\\n     Mathematical Statistics\" (John Wiley, NY, 1950).\\n   - Duda, R.O., & Hart, P.E. (1973) Pattern Classification and Scene Analysis.\\n     (Q327.D83) John Wiley & Sons.  ISBN 0-471-22361-1.  See page 218.\\n   - Dasarathy, B.V. (1980) \"Nosing Around the Neighborhood: A New System\\n     Structure and Classification Rule for Recognition in Partially Exposed\\n     Environments\".  IEEE Transactions on Pattern Analysis and Machine\\n     Intelligence, Vol. PAMI-2, No. 1, 67-71.\\n   - Gates, G.W. (1972) \"The Reduced Nearest Neighbor Rule\".  IEEE Transactions\\n     on Information Theory, May 1972, 431-433.\\n   - See also: 1988 MLC Proceedings, 54-64.  Cheeseman et al\"s AUTOCLASS II\\n     conceptual clustering system finds 3 classes in the data.\\n   - Many, many more ...',\n",
       " 'feature_names': ['sepal length (cm)',\n",
       "  'sepal width (cm)',\n",
       "  'petal length (cm)',\n",
       "  'petal width (cm)'],\n",
       " 'filename': 'iris.csv',\n",
       " 'data_module': 'sklearn.datasets.data'}"
      ]
     },
     "execution_count": 7,
     "metadata": {},
     "output_type": "execute_result"
    }
   ],
   "source": [
    "from sklearn.datasets import load_iris\n",
    "iris_df=load_iris()\n",
    "iris_df"
   ]
  },
  {
   "cell_type": "code",
   "execution_count": 8,
   "id": "a7e4a944",
   "metadata": {},
   "outputs": [],
   "source": [
    "x=iris_df.data[:,(2,3)] #petal length and width"
   ]
  },
  {
   "cell_type": "code",
   "execution_count": 9,
   "id": "b7f6ccf9",
   "metadata": {},
   "outputs": [
    {
     "data": {
      "text/plain": [
       "array([[1.4, 0.2],\n",
       "       [1.4, 0.2],\n",
       "       [1.3, 0.2],\n",
       "       [1.5, 0.2],\n",
       "       [1.4, 0.2],\n",
       "       [1.7, 0.4],\n",
       "       [1.4, 0.3],\n",
       "       [1.5, 0.2],\n",
       "       [1.4, 0.2],\n",
       "       [1.5, 0.1],\n",
       "       [1.5, 0.2],\n",
       "       [1.6, 0.2],\n",
       "       [1.4, 0.1],\n",
       "       [1.1, 0.1],\n",
       "       [1.2, 0.2],\n",
       "       [1.5, 0.4],\n",
       "       [1.3, 0.4],\n",
       "       [1.4, 0.3],\n",
       "       [1.7, 0.3],\n",
       "       [1.5, 0.3],\n",
       "       [1.7, 0.2],\n",
       "       [1.5, 0.4],\n",
       "       [1. , 0.2],\n",
       "       [1.7, 0.5],\n",
       "       [1.9, 0.2],\n",
       "       [1.6, 0.2],\n",
       "       [1.6, 0.4],\n",
       "       [1.5, 0.2],\n",
       "       [1.4, 0.2],\n",
       "       [1.6, 0.2],\n",
       "       [1.6, 0.2],\n",
       "       [1.5, 0.4],\n",
       "       [1.5, 0.1],\n",
       "       [1.4, 0.2],\n",
       "       [1.5, 0.2],\n",
       "       [1.2, 0.2],\n",
       "       [1.3, 0.2],\n",
       "       [1.4, 0.1],\n",
       "       [1.3, 0.2],\n",
       "       [1.5, 0.2],\n",
       "       [1.3, 0.3],\n",
       "       [1.3, 0.3],\n",
       "       [1.3, 0.2],\n",
       "       [1.6, 0.6],\n",
       "       [1.9, 0.4],\n",
       "       [1.4, 0.3],\n",
       "       [1.6, 0.2],\n",
       "       [1.4, 0.2],\n",
       "       [1.5, 0.2],\n",
       "       [1.4, 0.2],\n",
       "       [4.7, 1.4],\n",
       "       [4.5, 1.5],\n",
       "       [4.9, 1.5],\n",
       "       [4. , 1.3],\n",
       "       [4.6, 1.5],\n",
       "       [4.5, 1.3],\n",
       "       [4.7, 1.6],\n",
       "       [3.3, 1. ],\n",
       "       [4.6, 1.3],\n",
       "       [3.9, 1.4],\n",
       "       [3.5, 1. ],\n",
       "       [4.2, 1.5],\n",
       "       [4. , 1. ],\n",
       "       [4.7, 1.4],\n",
       "       [3.6, 1.3],\n",
       "       [4.4, 1.4],\n",
       "       [4.5, 1.5],\n",
       "       [4.1, 1. ],\n",
       "       [4.5, 1.5],\n",
       "       [3.9, 1.1],\n",
       "       [4.8, 1.8],\n",
       "       [4. , 1.3],\n",
       "       [4.9, 1.5],\n",
       "       [4.7, 1.2],\n",
       "       [4.3, 1.3],\n",
       "       [4.4, 1.4],\n",
       "       [4.8, 1.4],\n",
       "       [5. , 1.7],\n",
       "       [4.5, 1.5],\n",
       "       [3.5, 1. ],\n",
       "       [3.8, 1.1],\n",
       "       [3.7, 1. ],\n",
       "       [3.9, 1.2],\n",
       "       [5.1, 1.6],\n",
       "       [4.5, 1.5],\n",
       "       [4.5, 1.6],\n",
       "       [4.7, 1.5],\n",
       "       [4.4, 1.3],\n",
       "       [4.1, 1.3],\n",
       "       [4. , 1.3],\n",
       "       [4.4, 1.2],\n",
       "       [4.6, 1.4],\n",
       "       [4. , 1.2],\n",
       "       [3.3, 1. ],\n",
       "       [4.2, 1.3],\n",
       "       [4.2, 1.2],\n",
       "       [4.2, 1.3],\n",
       "       [4.3, 1.3],\n",
       "       [3. , 1.1],\n",
       "       [4.1, 1.3],\n",
       "       [6. , 2.5],\n",
       "       [5.1, 1.9],\n",
       "       [5.9, 2.1],\n",
       "       [5.6, 1.8],\n",
       "       [5.8, 2.2],\n",
       "       [6.6, 2.1],\n",
       "       [4.5, 1.7],\n",
       "       [6.3, 1.8],\n",
       "       [5.8, 1.8],\n",
       "       [6.1, 2.5],\n",
       "       [5.1, 2. ],\n",
       "       [5.3, 1.9],\n",
       "       [5.5, 2.1],\n",
       "       [5. , 2. ],\n",
       "       [5.1, 2.4],\n",
       "       [5.3, 2.3],\n",
       "       [5.5, 1.8],\n",
       "       [6.7, 2.2],\n",
       "       [6.9, 2.3],\n",
       "       [5. , 1.5],\n",
       "       [5.7, 2.3],\n",
       "       [4.9, 2. ],\n",
       "       [6.7, 2. ],\n",
       "       [4.9, 1.8],\n",
       "       [5.7, 2.1],\n",
       "       [6. , 1.8],\n",
       "       [4.8, 1.8],\n",
       "       [4.9, 1.8],\n",
       "       [5.6, 2.1],\n",
       "       [5.8, 1.6],\n",
       "       [6.1, 1.9],\n",
       "       [6.4, 2. ],\n",
       "       [5.6, 2.2],\n",
       "       [5.1, 1.5],\n",
       "       [5.6, 1.4],\n",
       "       [6.1, 2.3],\n",
       "       [5.6, 2.4],\n",
       "       [5.5, 1.8],\n",
       "       [4.8, 1.8],\n",
       "       [5.4, 2.1],\n",
       "       [5.6, 2.4],\n",
       "       [5.1, 2.3],\n",
       "       [5.1, 1.9],\n",
       "       [5.9, 2.3],\n",
       "       [5.7, 2.5],\n",
       "       [5.2, 2.3],\n",
       "       [5. , 1.9],\n",
       "       [5.2, 2. ],\n",
       "       [5.4, 2.3],\n",
       "       [5.1, 1.8]])"
      ]
     },
     "execution_count": 9,
     "metadata": {},
     "output_type": "execute_result"
    }
   ],
   "source": [
    "x #training data"
   ]
  },
  {
   "cell_type": "code",
   "execution_count": 10,
   "id": "d7eec8cb",
   "metadata": {},
   "outputs": [
    {
     "data": {
      "text/plain": [
       "array([0, 0, 0, 0, 0, 0, 0, 0, 0, 0, 0, 0, 0, 0, 0, 0, 0, 0, 0, 0, 0, 0,\n",
       "       0, 0, 0, 0, 0, 0, 0, 0, 0, 0, 0, 0, 0, 0, 0, 0, 0, 0, 0, 0, 0, 0,\n",
       "       0, 0, 0, 0, 0, 0, 1, 1, 1, 1, 1, 1, 1, 1, 1, 1, 1, 1, 1, 1, 1, 1,\n",
       "       1, 1, 1, 1, 1, 1, 1, 1, 1, 1, 1, 1, 1, 1, 1, 1, 1, 1, 1, 1, 1, 1,\n",
       "       1, 1, 1, 1, 1, 1, 1, 1, 1, 1, 1, 1, 2, 2, 2, 2, 2, 2, 2, 2, 2, 2,\n",
       "       2, 2, 2, 2, 2, 2, 2, 2, 2, 2, 2, 2, 2, 2, 2, 2, 2, 2, 2, 2, 2, 2,\n",
       "       2, 2, 2, 2, 2, 2, 2, 2, 2, 2, 2, 2, 2, 2, 2, 2, 2, 2])"
      ]
     },
     "execution_count": 10,
     "metadata": {},
     "output_type": "execute_result"
    }
   ],
   "source": [
    "iris_df.target"
   ]
  },
  {
   "cell_type": "markdown",
   "id": "8541481e",
   "metadata": {},
   "source": [
    "**Categories**\n",
    "\n",
    "    > 0- setosa\n",
    "    \n",
    "    > 1- versicolor\n",
    "    \n",
    "    > 2- virginica"
   ]
  },
  {
   "cell_type": "code",
   "execution_count": 11,
   "id": "911b8a22",
   "metadata": {},
   "outputs": [
    {
     "name": "stderr",
     "output_type": "stream",
     "text": [
      "C:\\Users\\kavin\\AppData\\Local\\Temp\\ipykernel_1480\\1615278111.py:3: DeprecationWarning: `np.int` is a deprecated alias for the builtin `int`. To silence this warning, use `int` by itself. Doing this will not modify any behavior and is safe. When replacing `np.int`, you may wish to use e.g. `np.int64` or `np.int32` to specify the precision. If you wish to review your current use, check the release note link for additional information.\n",
      "Deprecated in NumPy 1.20; for more details and guidance: https://numpy.org/devdocs/release/1.20.0-notes.html#deprecations\n",
      "  y=(iris_df.target==0).astype(np.int)\n"
     ]
    },
    {
     "data": {
      "text/plain": [
       "array([1, 1, 1, 1, 1, 1, 1, 1, 1, 1, 1, 1, 1, 1, 1, 1, 1, 1, 1, 1, 1, 1,\n",
       "       1, 1, 1, 1, 1, 1, 1, 1, 1, 1, 1, 1, 1, 1, 1, 1, 1, 1, 1, 1, 1, 1,\n",
       "       1, 1, 1, 1, 1, 1, 0, 0, 0, 0, 0, 0, 0, 0, 0, 0, 0, 0, 0, 0, 0, 0,\n",
       "       0, 0, 0, 0, 0, 0, 0, 0, 0, 0, 0, 0, 0, 0, 0, 0, 0, 0, 0, 0, 0, 0,\n",
       "       0, 0, 0, 0, 0, 0, 0, 0, 0, 0, 0, 0, 0, 0, 0, 0, 0, 0, 0, 0, 0, 0,\n",
       "       0, 0, 0, 0, 0, 0, 0, 0, 0, 0, 0, 0, 0, 0, 0, 0, 0, 0, 0, 0, 0, 0,\n",
       "       0, 0, 0, 0, 0, 0, 0, 0, 0, 0, 0, 0, 0, 0, 0, 0, 0, 0])"
      ]
     },
     "execution_count": 11,
     "metadata": {},
     "output_type": "execute_result"
    }
   ],
   "source": [
    "#setosa\n",
    "import numpy as np\n",
    "y=(iris_df.target==0).astype(np.int)\n",
    "y"
   ]
  },
  {
   "cell_type": "code",
   "execution_count": 12,
   "id": "ca0ecf17",
   "metadata": {},
   "outputs": [],
   "source": [
    "from sklearn.linear_model import Perceptron"
   ]
  },
  {
   "cell_type": "code",
   "execution_count": 13,
   "id": "04928bfc",
   "metadata": {},
   "outputs": [
    {
     "data": {
      "text/html": [
       "<style>#sk-container-id-1 {color: black;background-color: white;}#sk-container-id-1 pre{padding: 0;}#sk-container-id-1 div.sk-toggleable {background-color: white;}#sk-container-id-1 label.sk-toggleable__label {cursor: pointer;display: block;width: 100%;margin-bottom: 0;padding: 0.3em;box-sizing: border-box;text-align: center;}#sk-container-id-1 label.sk-toggleable__label-arrow:before {content: \"▸\";float: left;margin-right: 0.25em;color: #696969;}#sk-container-id-1 label.sk-toggleable__label-arrow:hover:before {color: black;}#sk-container-id-1 div.sk-estimator:hover label.sk-toggleable__label-arrow:before {color: black;}#sk-container-id-1 div.sk-toggleable__content {max-height: 0;max-width: 0;overflow: hidden;text-align: left;background-color: #f0f8ff;}#sk-container-id-1 div.sk-toggleable__content pre {margin: 0.2em;color: black;border-radius: 0.25em;background-color: #f0f8ff;}#sk-container-id-1 input.sk-toggleable__control:checked~div.sk-toggleable__content {max-height: 200px;max-width: 100%;overflow: auto;}#sk-container-id-1 input.sk-toggleable__control:checked~label.sk-toggleable__label-arrow:before {content: \"▾\";}#sk-container-id-1 div.sk-estimator input.sk-toggleable__control:checked~label.sk-toggleable__label {background-color: #d4ebff;}#sk-container-id-1 div.sk-label input.sk-toggleable__control:checked~label.sk-toggleable__label {background-color: #d4ebff;}#sk-container-id-1 input.sk-hidden--visually {border: 0;clip: rect(1px 1px 1px 1px);clip: rect(1px, 1px, 1px, 1px);height: 1px;margin: -1px;overflow: hidden;padding: 0;position: absolute;width: 1px;}#sk-container-id-1 div.sk-estimator {font-family: monospace;background-color: #f0f8ff;border: 1px dotted black;border-radius: 0.25em;box-sizing: border-box;margin-bottom: 0.5em;}#sk-container-id-1 div.sk-estimator:hover {background-color: #d4ebff;}#sk-container-id-1 div.sk-parallel-item::after {content: \"\";width: 100%;border-bottom: 1px solid gray;flex-grow: 1;}#sk-container-id-1 div.sk-label:hover label.sk-toggleable__label {background-color: #d4ebff;}#sk-container-id-1 div.sk-serial::before {content: \"\";position: absolute;border-left: 1px solid gray;box-sizing: border-box;top: 0;bottom: 0;left: 50%;z-index: 0;}#sk-container-id-1 div.sk-serial {display: flex;flex-direction: column;align-items: center;background-color: white;padding-right: 0.2em;padding-left: 0.2em;position: relative;}#sk-container-id-1 div.sk-item {position: relative;z-index: 1;}#sk-container-id-1 div.sk-parallel {display: flex;align-items: stretch;justify-content: center;background-color: white;position: relative;}#sk-container-id-1 div.sk-item::before, #sk-container-id-1 div.sk-parallel-item::before {content: \"\";position: absolute;border-left: 1px solid gray;box-sizing: border-box;top: 0;bottom: 0;left: 50%;z-index: -1;}#sk-container-id-1 div.sk-parallel-item {display: flex;flex-direction: column;z-index: 1;position: relative;background-color: white;}#sk-container-id-1 div.sk-parallel-item:first-child::after {align-self: flex-end;width: 50%;}#sk-container-id-1 div.sk-parallel-item:last-child::after {align-self: flex-start;width: 50%;}#sk-container-id-1 div.sk-parallel-item:only-child::after {width: 0;}#sk-container-id-1 div.sk-dashed-wrapped {border: 1px dashed gray;margin: 0 0.4em 0.5em 0.4em;box-sizing: border-box;padding-bottom: 0.4em;background-color: white;}#sk-container-id-1 div.sk-label label {font-family: monospace;font-weight: bold;display: inline-block;line-height: 1.2em;}#sk-container-id-1 div.sk-label-container {text-align: center;}#sk-container-id-1 div.sk-container {/* jupyter's `normalize.less` sets `[hidden] { display: none; }` but bootstrap.min.css set `[hidden] { display: none !important; }` so we also need the `!important` here to be able to override the default hidden behavior on the sphinx rendered scikit-learn.org. See: https://github.com/scikit-learn/scikit-learn/issues/21755 */display: inline-block !important;position: relative;}#sk-container-id-1 div.sk-text-repr-fallback {display: none;}</style><div id=\"sk-container-id-1\" class=\"sk-top-container\"><div class=\"sk-text-repr-fallback\"><pre>Perceptron(random_state=42)</pre><b>In a Jupyter environment, please rerun this cell to show the HTML representation or trust the notebook. <br />On GitHub, the HTML representation is unable to render, please try loading this page with nbviewer.org.</b></div><div class=\"sk-container\" hidden><div class=\"sk-item\"><div class=\"sk-estimator sk-toggleable\"><input class=\"sk-toggleable__control sk-hidden--visually\" id=\"sk-estimator-id-1\" type=\"checkbox\" checked><label for=\"sk-estimator-id-1\" class=\"sk-toggleable__label sk-toggleable__label-arrow\">Perceptron</label><div class=\"sk-toggleable__content\"><pre>Perceptron(random_state=42)</pre></div></div></div></div></div>"
      ],
      "text/plain": [
       "Perceptron(random_state=42)"
      ]
     },
     "execution_count": 13,
     "metadata": {},
     "output_type": "execute_result"
    }
   ],
   "source": [
    "perceptron_clf=Perceptron(random_state=42)\n",
    "perceptron_clf.fit(x,y)"
   ]
  },
  {
   "cell_type": "code",
   "execution_count": 14,
   "id": "2ae4cbeb",
   "metadata": {},
   "outputs": [
    {
     "data": {
      "text/plain": [
       "array([1, 1, 1, 1, 1, 1, 1, 1, 1, 1, 1, 1, 1, 1, 1, 1, 1, 1, 1, 1, 1, 1,\n",
       "       1, 1, 1, 1, 1, 1, 1, 1, 1, 1, 1, 1, 1, 1, 1, 1, 1, 1, 1, 1, 1, 1,\n",
       "       1, 1, 1, 1, 1, 1, 0, 0, 0, 0, 0, 0, 0, 0, 0, 0, 0, 0, 0, 0, 0, 0,\n",
       "       0, 0, 0, 0, 0, 0, 0, 0, 0, 0, 0, 0, 0, 0, 0, 0, 0, 0, 0, 0, 0, 0,\n",
       "       0, 0, 0, 0, 0, 0, 0, 0, 0, 0, 0, 0, 0, 0, 0, 0, 0, 0, 0, 0, 0, 0,\n",
       "       0, 0, 0, 0, 0, 0, 0, 0, 0, 0, 0, 0, 0, 0, 0, 0, 0, 0, 0, 0, 0, 0,\n",
       "       0, 0, 0, 0, 0, 0, 0, 0, 0, 0, 0, 0, 0, 0, 0, 0, 0, 0])"
      ]
     },
     "execution_count": 14,
     "metadata": {},
     "output_type": "execute_result"
    }
   ],
   "source": [
    "y_pred=perceptron_clf.predict(x)\n",
    "y_pred"
   ]
  },
  {
   "cell_type": "code",
   "execution_count": 15,
   "id": "2817d64c",
   "metadata": {},
   "outputs": [
    {
     "data": {
      "text/plain": [
       "1.0"
      ]
     },
     "execution_count": 15,
     "metadata": {},
     "output_type": "execute_result"
    }
   ],
   "source": [
    "from sklearn.metrics import accuracy_score\n",
    "accuracy_score(y,y_pred)\n",
    "#100% accuracy"
   ]
  },
  {
   "cell_type": "code",
   "execution_count": 16,
   "id": "d112b1b4",
   "metadata": {},
   "outputs": [
    {
     "data": {
      "text/plain": [
       "array([[-1.4, -2.2]])"
      ]
     },
     "execution_count": 16,
     "metadata": {},
     "output_type": "execute_result"
    }
   ],
   "source": [
    "perceptron_clf.coef_ \n",
    "# 4-1.4 petal length and -2.2 petal width"
   ]
  },
  {
   "cell_type": "code",
   "execution_count": 17,
   "id": "8e638137",
   "metadata": {},
   "outputs": [
    {
     "data": {
      "text/plain": [
       "array([4.])"
      ]
     },
     "execution_count": 17,
     "metadata": {},
     "output_type": "execute_result"
    }
   ],
   "source": [
    "perceptron_clf.intercept_"
   ]
  },
  {
   "cell_type": "markdown",
   "id": "fc19e2f8",
   "metadata": {},
   "source": [
    "## ANN in Python\n",
    "\n",
    "**`Tensorflow`** & **`Keras`**"
   ]
  },
  {
   "cell_type": "code",
   "execution_count": 18,
   "id": "94d398e0",
   "metadata": {},
   "outputs": [],
   "source": [
    "import matplotlib.pyplot as plt\n",
    "%matplotlib inline\n",
    "import matplotlib"
   ]
  },
  {
   "cell_type": "code",
   "execution_count": 19,
   "id": "95e3a936",
   "metadata": {},
   "outputs": [
    {
     "name": "stdout",
     "output_type": "stream",
     "text": [
      "Requirement already satisfied: tensorflow in c:\\anaconda navigator\\lib\\site-packages (2.12.0)\n",
      "Requirement already satisfied: tensorflow-intel==2.12.0 in c:\\anaconda navigator\\lib\\site-packages (from tensorflow) (2.12.0)\n",
      "Requirement already satisfied: keras<2.13,>=2.12.0 in c:\\anaconda navigator\\lib\\site-packages (from tensorflow-intel==2.12.0->tensorflow) (2.12.0)\n",
      "Requirement already satisfied: typing-extensions>=3.6.6 in c:\\anaconda navigator\\lib\\site-packages (from tensorflow-intel==2.12.0->tensorflow) (4.1.1)\n",
      "Requirement already satisfied: setuptools in c:\\anaconda navigator\\lib\\site-packages (from tensorflow-intel==2.12.0->tensorflow) (61.2.0)\n",
      "Requirement already satisfied: absl-py>=1.0.0 in c:\\anaconda navigator\\lib\\site-packages (from tensorflow-intel==2.12.0->tensorflow) (1.4.0)\n",
      "Requirement already satisfied: tensorflow-io-gcs-filesystem>=0.23.1 in c:\\anaconda navigator\\lib\\site-packages (from tensorflow-intel==2.12.0->tensorflow) (0.31.0)\n",
      "Requirement already satisfied: numpy<1.24,>=1.22 in c:\\anaconda navigator\\lib\\site-packages (from tensorflow-intel==2.12.0->tensorflow) (1.22.4)\n",
      "Requirement already satisfied: libclang>=13.0.0 in c:\\anaconda navigator\\lib\\site-packages (from tensorflow-intel==2.12.0->tensorflow) (16.0.0)\n",
      "Requirement already satisfied: six>=1.12.0 in c:\\anaconda navigator\\lib\\site-packages (from tensorflow-intel==2.12.0->tensorflow) (1.16.0)\n",
      "Requirement already satisfied: google-pasta>=0.1.1 in c:\\anaconda navigator\\lib\\site-packages (from tensorflow-intel==2.12.0->tensorflow) (0.2.0)\n",
      "Note: you may need to restart the kernel to use updated packages.Requirement already satisfied: grpcio<2.0,>=1.24.3 in c:\\anaconda navigator\\lib\\site-packages (from tensorflow-intel==2.12.0->tensorflow) (1.54.2)\n",
      "Requirement already satisfied: tensorflow-estimator<2.13,>=2.12.0 in c:\\anaconda navigator\\lib\\site-packages (from tensorflow-intel==2.12.0->tensorflow) (2.12.0)\n",
      "Requirement already satisfied: tensorboard<2.13,>=2.12 in c:\\anaconda navigator\\lib\\site-packages (from tensorflow-intel==2.12.0->tensorflow) (2.12.3)\n",
      "Requirement already satisfied: termcolor>=1.1.0 in c:\\anaconda navigator\\lib\\site-packages (from tensorflow-intel==2.12.0->tensorflow) (2.3.0)\n",
      "Requirement already satisfied: gast<=0.4.0,>=0.2.1 in c:\\anaconda navigator\\lib\\site-packages (from tensorflow-intel==2.12.0->tensorflow) (0.4.0)\n",
      "Requirement already satisfied: protobuf!=4.21.0,!=4.21.1,!=4.21.2,!=4.21.3,!=4.21.4,!=4.21.5,<5.0.0dev,>=3.20.3 in c:\\anaconda navigator\\lib\\site-packages (from tensorflow-intel==2.12.0->tensorflow) (4.23.3)\n",
      "Requirement already satisfied: astunparse>=1.6.0 in c:\\anaconda navigator\\lib\\site-packages (from tensorflow-intel==2.12.0->tensorflow) (1.6.3)\n",
      "Requirement already satisfied: flatbuffers>=2.0 in c:\\anaconda navigator\\lib\\site-packages (from tensorflow-intel==2.12.0->tensorflow) (23.5.26)\n",
      "Requirement already satisfied: jax>=0.3.15 in c:\\anaconda navigator\\lib\\site-packages (from tensorflow-intel==2.12.0->tensorflow) (0.4.12)\n",
      "Requirement already satisfied: wrapt<1.15,>=1.11.0 in c:\\anaconda navigator\\lib\\site-packages (from tensorflow-intel==2.12.0->tensorflow) (1.12.1)\n",
      "Requirement already satisfied: packaging in c:\\anaconda navigator\\lib\\site-packages (from tensorflow-intel==2.12.0->tensorflow) (21.3)\n",
      "Requirement already satisfied: opt-einsum>=2.3.2 in c:\\anaconda navigator\\lib\\site-packages (from tensorflow-intel==2.12.0->tensorflow) (3.3.0)\n",
      "Requirement already satisfied: h5py>=2.9.0 in c:\\anaconda navigator\\lib\\site-packages (from tensorflow-intel==2.12.0->tensorflow) (3.6.0)\n",
      "Requirement already satisfied: wheel<1.0,>=0.23.0 in c:\\anaconda navigator\\lib\\site-packages (from astunparse>=1.6.0->tensorflow-intel==2.12.0->tensorflow) (0.37.1)\n",
      "Requirement already satisfied: scipy>=1.7 in c:\\anaconda navigator\\lib\\site-packages (from jax>=0.3.15->tensorflow-intel==2.12.0->tensorflow) (1.7.3)\n",
      "Requirement already satisfied: importlib-metadata>=4.6 in c:\\anaconda navigator\\lib\\site-packages (from jax>=0.3.15->tensorflow-intel==2.12.0->tensorflow) (4.11.3)\n",
      "Requirement already satisfied: ml-dtypes>=0.1.0 in c:\\anaconda navigator\\lib\\site-packages (from jax>=0.3.15->tensorflow-intel==2.12.0->tensorflow) (0.2.0)\n",
      "Requirement already satisfied: zipp>=0.5 in c:\\anaconda navigator\\lib\\site-packages (from importlib-metadata>=4.6->jax>=0.3.15->tensorflow-intel==2.12.0->tensorflow) (3.7.0)\n",
      "\n",
      "Requirement already satisfied: requests<3,>=2.21.0 in c:\\anaconda navigator\\lib\\site-packages (from tensorboard<2.13,>=2.12->tensorflow-intel==2.12.0->tensorflow) (2.27.1)\n",
      "Requirement already satisfied: markdown>=2.6.8 in c:\\anaconda navigator\\lib\\site-packages (from tensorboard<2.13,>=2.12->tensorflow-intel==2.12.0->tensorflow) (3.3.4)\n",
      "Requirement already satisfied: werkzeug>=1.0.1 in c:\\anaconda navigator\\lib\\site-packages (from tensorboard<2.13,>=2.12->tensorflow-intel==2.12.0->tensorflow) (2.0.3)\n",
      "Requirement already satisfied: google-auth-oauthlib<1.1,>=0.5 in c:\\anaconda navigator\\lib\\site-packages (from tensorboard<2.13,>=2.12->tensorflow-intel==2.12.0->tensorflow) (1.0.0)\n",
      "Requirement already satisfied: tensorboard-data-server<0.8.0,>=0.7.0 in c:\\anaconda navigator\\lib\\site-packages (from tensorboard<2.13,>=2.12->tensorflow-intel==2.12.0->tensorflow) (0.7.1)\n",
      "Requirement already satisfied: google-auth<3,>=1.6.3 in c:\\anaconda navigator\\lib\\site-packages (from tensorboard<2.13,>=2.12->tensorflow-intel==2.12.0->tensorflow) (2.20.0)\n",
      "Requirement already satisfied: urllib3<2.0 in c:\\anaconda navigator\\lib\\site-packages (from google-auth<3,>=1.6.3->tensorboard<2.13,>=2.12->tensorflow-intel==2.12.0->tensorflow) (1.26.9)\n",
      "Requirement already satisfied: cachetools<6.0,>=2.0.0 in c:\\anaconda navigator\\lib\\site-packages (from google-auth<3,>=1.6.3->tensorboard<2.13,>=2.12->tensorflow-intel==2.12.0->tensorflow) (4.2.2)\n",
      "Requirement already satisfied: pyasn1-modules>=0.2.1 in c:\\anaconda navigator\\lib\\site-packages (from google-auth<3,>=1.6.3->tensorboard<2.13,>=2.12->tensorflow-intel==2.12.0->tensorflow) (0.2.8)\n",
      "Requirement already satisfied: rsa<5,>=3.1.4 in c:\\anaconda navigator\\lib\\site-packages (from google-auth<3,>=1.6.3->tensorboard<2.13,>=2.12->tensorflow-intel==2.12.0->tensorflow) (4.7.2)\n",
      "Requirement already satisfied: requests-oauthlib>=0.7.0 in c:\\anaconda navigator\\lib\\site-packages (from google-auth-oauthlib<1.1,>=0.5->tensorboard<2.13,>=2.12->tensorflow-intel==2.12.0->tensorflow) (1.3.1)\n",
      "Requirement already satisfied: pyasn1<0.5.0,>=0.4.6 in c:\\anaconda navigator\\lib\\site-packages (from pyasn1-modules>=0.2.1->google-auth<3,>=1.6.3->tensorboard<2.13,>=2.12->tensorflow-intel==2.12.0->tensorflow) (0.4.8)\n",
      "Requirement already satisfied: certifi>=2017.4.17 in c:\\anaconda navigator\\lib\\site-packages (from requests<3,>=2.21.0->tensorboard<2.13,>=2.12->tensorflow-intel==2.12.0->tensorflow) (2022.12.7)\n",
      "Requirement already satisfied: idna<4,>=2.5 in c:\\anaconda navigator\\lib\\site-packages (from requests<3,>=2.21.0->tensorboard<2.13,>=2.12->tensorflow-intel==2.12.0->tensorflow) (3.3)\n",
      "Requirement already satisfied: charset-normalizer~=2.0.0 in c:\\anaconda navigator\\lib\\site-packages (from requests<3,>=2.21.0->tensorboard<2.13,>=2.12->tensorflow-intel==2.12.0->tensorflow) (2.0.4)\n",
      "Requirement already satisfied: oauthlib>=3.0.0 in c:\\anaconda navigator\\lib\\site-packages (from requests-oauthlib>=0.7.0->google-auth-oauthlib<1.1,>=0.5->tensorboard<2.13,>=2.12->tensorflow-intel==2.12.0->tensorflow) (3.2.2)\n",
      "Requirement already satisfied: pyparsing!=3.0.5,>=2.0.2 in c:\\anaconda navigator\\lib\\site-packages (from packaging->tensorflow-intel==2.12.0->tensorflow) (3.0.4)\n"
     ]
    }
   ],
   "source": [
    "pip install tensorflow"
   ]
  },
  {
   "cell_type": "code",
   "execution_count": 20,
   "id": "a3267122",
   "metadata": {},
   "outputs": [],
   "source": [
    "import tensorflow as tf"
   ]
  },
  {
   "cell_type": "code",
   "execution_count": 21,
   "id": "1809d27e",
   "metadata": {},
   "outputs": [],
   "source": [
    "from tensorflow import keras"
   ]
  },
  {
   "cell_type": "code",
   "execution_count": 22,
   "id": "98a992fc",
   "metadata": {},
   "outputs": [
    {
     "data": {
      "text/plain": [
       "'2.12.0'"
      ]
     },
     "execution_count": 22,
     "metadata": {},
     "output_type": "execute_result"
    }
   ],
   "source": [
    "tf.__version__"
   ]
  },
  {
   "cell_type": "code",
   "execution_count": 23,
   "id": "85dd0fab",
   "metadata": {},
   "outputs": [
    {
     "data": {
      "text/plain": [
       "'2.12.0'"
      ]
     },
     "execution_count": 23,
     "metadata": {},
     "output_type": "execute_result"
    }
   ],
   "source": [
    "keras.__version__"
   ]
  },
  {
   "cell_type": "markdown",
   "id": "a48147be",
   "metadata": {},
   "source": [
    "### Sample Project"
   ]
  },
  {
   "cell_type": "code",
   "execution_count": 24,
   "id": "b73c882a",
   "metadata": {},
   "outputs": [
    {
     "data": {
      "text/plain": [
       "<module 'keras.api._v2.keras.datasets.fashion_mnist' from 'C:\\\\Anaconda Navigator\\\\lib\\\\site-packages\\\\keras\\\\api\\\\_v2\\\\keras\\\\datasets\\\\fashion_mnist\\\\__init__.py'>"
      ]
     },
     "execution_count": 24,
     "metadata": {},
     "output_type": "execute_result"
    }
   ],
   "source": [
    "fashion_df=keras.datasets.fashion_mnist\n",
    "fashion_df"
   ]
  },
  {
   "cell_type": "code",
   "execution_count": 25,
   "id": "cec85503",
   "metadata": {},
   "outputs": [],
   "source": [
    "(x_train_full,y_train_full),(x_test,y_test)=fashion_df.load_data()"
   ]
  },
  {
   "cell_type": "code",
   "execution_count": 26,
   "id": "9d57a2b7",
   "metadata": {},
   "outputs": [
    {
     "data": {
      "text/plain": [
       "<matplotlib.image.AxesImage at 0x1fe51e88b80>"
      ]
     },
     "execution_count": 26,
     "metadata": {},
     "output_type": "execute_result"
    },
    {
     "data": {
      "image/png": "[encoded data removed]",
      "text/plain": [
       "<Figure size 432x288 with 1 Axes>"
      ]
     },
     "metadata": {
      "needs_background": "light"
     },
     "output_type": "display_data"
    }
   ],
   "source": [
    "plt.imshow(x_train_full[5])"
   ]
  },
  {
   "cell_type": "code",
   "execution_count": 27,
   "id": "d8f2d1e8",
   "metadata": {},
   "outputs": [
    {
     "data": {
      "text/plain": [
       "2"
      ]
     },
     "execution_count": 27,
     "metadata": {},
     "output_type": "execute_result"
    }
   ],
   "source": [
    "y_train_full[5]"
   ]
  },
  {
   "cell_type": "code",
   "execution_count": 28,
   "id": "15122554",
   "metadata": {},
   "outputs": [
    {
     "data": {
      "text/plain": [
       "'Pullover'"
      ]
     },
     "execution_count": 28,
     "metadata": {},
     "output_type": "execute_result"
    }
   ],
   "source": [
    "class_names=[\"T-shirt/top\",\"Trouser\",\"Pullover\",\"Dress\",\"Coat\",\"Sandal\"\n",
    "            ,\"Shirt\",\"Sneaker\",\"Bag\",\"Ankle Boot\"]\n",
    "class_names[y_train_full[5]]"
   ]
  },
  {
   "cell_type": "code",
   "execution_count": 29,
   "id": "82892168",
   "metadata": {},
   "outputs": [
    {
     "data": {
      "text/plain": [
       "array([[  0,   0,   0,   0,   1,   0,   0,   0,   0,  22,  88, 188, 172,\n",
       "        132, 125, 141, 199, 143,   9,   0,   0,   0,   1,   0,   0,   0,\n",
       "          0,   0],\n",
       "       [  0,   0,   0,   1,   0,   0,  20, 131, 199, 206, 196, 202, 242,\n",
       "        255, 255, 250, 222, 197, 206, 188, 126,  17,   0,   0,   0,   0,\n",
       "          0,   0],\n",
       "       [  0,   0,   0,   1,   0,  35, 214, 191, 183, 178, 175, 168, 150,\n",
       "        162, 159, 152, 158, 179, 183, 189, 195, 185,  82,   0,   0,   0,\n",
       "          0,   0],\n",
       "       [  0,   0,   0,   0,   0, 170, 190, 172, 177, 176, 171, 169, 162,\n",
       "        155, 148, 154, 169, 174, 175, 175, 177, 183, 188,  12,   0,   0,\n",
       "          0,   0],\n",
       "       [  0,   0,   0,   0,  25, 194, 180, 178, 174, 184, 187, 189, 187,\n",
       "        184, 181, 189, 200, 197, 193, 190, 178, 175, 194,  90,   0,   0,\n",
       "          0,   0],\n",
       "       [  0,   0,   0,   0,  42, 218, 191, 197, 208, 204, 211, 209, 210,\n",
       "        212, 211, 214, 215, 213, 214, 211, 211, 191, 200, 158,   0,   0,\n",
       "          0,   0],\n",
       "       [  0,   0,   0,   0,  88, 221, 215, 217, 219, 211, 185, 150, 118,\n",
       "        107,  99,  88,  83,  90, 135, 212, 203, 207, 219, 169,   0,   0,\n",
       "          0,   0],\n",
       "       [  0,   0,   0,   0,   0,  27, 118, 162,  40,   0,   0,   0,  10,\n",
       "         19,  28,  39,  47,  36,   0,   0, 203, 230, 220, 203,   0,   0,\n",
       "          0,   0],\n",
       "       [  0,   0,   0,   0, 138, 136,  71,  69,  54, 216, 217, 203, 184,\n",
       "        168, 163, 162, 163, 178, 221, 186,  38,  26,   7,   0,   0,   0,\n",
       "          0,   0],\n",
       "       [  0,   0,   0,   0,  67, 134, 154, 224, 129,  66,  81, 117, 129,\n",
       "        128, 132, 137, 131, 129,  86,  73, 157, 151, 134, 216,  18,   0,\n",
       "          0,   0],\n",
       "       [  0,   0,   0,   0, 203, 198, 172, 183, 206, 255, 255, 250, 243,\n",
       "        240, 239, 235, 238, 244, 255, 238, 184, 160,  86,  98,   0,   0,\n",
       "          0,   0],\n",
       "       [  0,   0,   0,   0, 122, 188, 224, 151, 105, 127,  97, 100, 105,\n",
       "        114, 117, 117, 113, 103,  98, 111, 142, 254, 191, 255,  49,   0,\n",
       "          0,   0],\n",
       "       [  0,   0,   0,   0, 163, 179, 200,  95, 154, 198, 197, 200, 200,\n",
       "        198, 197, 198, 199, 202, 200, 176,  86, 206, 157, 162,  10,   0,\n",
       "          0,   0],\n",
       "       [  0,   0,   0,   0, 197, 201, 229,  71, 144, 194, 181, 183, 179,\n",
       "        182, 180, 179, 180, 190, 185, 197,  76, 219, 185, 201,  34,   0,\n",
       "          0,   0],\n",
       "       [  0,   0,   0,   0, 199, 193, 226,  58, 154, 192, 184, 187, 184,\n",
       "        186, 184, 185, 183, 192, 191, 200,  56, 219, 203, 207,  60,   0,\n",
       "          0,   0],\n",
       "       [  0,   0,   0,   0, 201, 194, 224,  41, 163, 190, 186, 186, 184,\n",
       "        185, 183, 185, 178, 190, 194, 202,  33, 211, 200, 206,  73,   0,\n",
       "          0,   0],\n",
       "       [  0,   0,   0,   0, 201, 197, 222,  17, 172, 190, 186, 187, 182,\n",
       "        186, 185, 187, 180, 187, 193, 202,  26, 212, 202, 203,  76,   0,\n",
       "          0,   0],\n",
       "       [  0,   0,   0,   0, 200, 197, 223,   0, 177, 189, 184, 185, 178,\n",
       "        184, 183, 184, 180, 183, 189, 203,  35, 196, 203, 203,  84,   0,\n",
       "          0,   0],\n",
       "       [  0,   0,   0,   0, 200, 197, 223,   0, 185, 187, 185, 187, 180,\n",
       "        184, 182, 183, 178, 182, 183, 205,  44, 159, 207, 201,  85,   0,\n",
       "          0,   0],\n",
       "       [  0,   0,   0,   0, 187, 198, 225,   0, 194, 188, 184, 185, 180,\n",
       "        183, 183, 184, 181, 181, 177, 206,  46, 129, 211, 200,  88,   0,\n",
       "          0,   0],\n",
       "       [  0,   0,   0,   6, 186, 200, 211,   0, 199, 189, 184, 184, 185,\n",
       "        182, 183, 184, 185, 182, 175, 205,  50,  97, 216, 197,  93,   0,\n",
       "          0,   0],\n",
       "       [  0,   0,   0,   5, 185, 204, 184,   0, 202, 188, 182, 182, 183,\n",
       "        183, 184, 182, 180, 182, 174, 202,  63,  59, 220, 196,  94,   0,\n",
       "          0,   0],\n",
       "       [  0,   0,   0,   5, 184, 206, 157,   0, 204, 187, 187, 189, 192,\n",
       "        190, 190, 191, 190, 187, 183, 202,  78,  35, 222, 197,  95,   0,\n",
       "          0,   0],\n",
       "       [  0,   0,   0,   5, 183, 208, 127,   0, 197, 166, 153, 149, 149,\n",
       "        146, 148, 149, 150, 151, 158, 191,  90,   8, 223, 195,  99,   0,\n",
       "          0,   0],\n",
       "       [  0,   0,   0,   6, 184, 208, 114,   0, 204, 173, 161, 180, 176,\n",
       "        172, 173, 173, 174, 176, 162, 202, 115,   0, 229, 199, 105,   0,\n",
       "          0,   0],\n",
       "       [  0,   0,   0,   9, 178, 204, 115,   0, 121, 135, 114, 117, 114,\n",
       "        114, 117, 118, 119, 117, 113, 147,  63,   0, 225, 196, 107,   0,\n",
       "          0,   0],\n",
       "       [  0,   0,   0,  18, 180, 206, 131,   0,   0,   0,   0,   0,   0,\n",
       "          0,   0,   0,   0,   0,   0,   0,   0,   0, 224, 197, 123,   0,\n",
       "          0,   0],\n",
       "       [  0,   0,   0,   0, 141, 151,  76,   0,   1,   1,   0,   0,   0,\n",
       "          0,   0,   0,   0,   0,   0,   0,   0,   0, 133, 167,  73,   0,\n",
       "          0,   0]], dtype=uint8)"
      ]
     },
     "execution_count": 29,
     "metadata": {},
     "output_type": "execute_result"
    }
   ],
   "source": [
    "x_train_full[5]"
   ]
  },
  {
   "cell_type": "code",
   "execution_count": 30,
   "id": "2e54ac56",
   "metadata": {},
   "outputs": [],
   "source": [
    "#Data Normalization\n",
    "x_train=x_train_full/255.\n",
    "x_test=x_test/255."
   ]
  },
  {
   "cell_type": "code",
   "execution_count": 31,
   "id": "4c46428f",
   "metadata": {},
   "outputs": [
    {
     "data": {
      "text/plain": [
       "array([[[0., 0., 0., ..., 0., 0., 0.],\n",
       "        [0., 0., 0., ..., 0., 0., 0.],\n",
       "        [0., 0., 0., ..., 0., 0., 0.],\n",
       "        ...,\n",
       "        [0., 0., 0., ..., 0., 0., 0.],\n",
       "        [0., 0., 0., ..., 0., 0., 0.],\n",
       "        [0., 0., 0., ..., 0., 0., 0.]],\n",
       "\n",
       "       [[0., 0., 0., ..., 0., 0., 0.],\n",
       "        [0., 0., 0., ..., 0., 0., 0.],\n",
       "        [0., 0., 0., ..., 0., 0., 0.],\n",
       "        ...,\n",
       "        [0., 0., 0., ..., 0., 0., 0.],\n",
       "        [0., 0., 0., ..., 0., 0., 0.],\n",
       "        [0., 0., 0., ..., 0., 0., 0.]],\n",
       "\n",
       "       [[0., 0., 0., ..., 0., 0., 0.],\n",
       "        [0., 0., 0., ..., 0., 0., 0.],\n",
       "        [0., 0., 0., ..., 0., 0., 0.],\n",
       "        ...,\n",
       "        [0., 0., 0., ..., 0., 0., 0.],\n",
       "        [0., 0., 0., ..., 0., 0., 0.],\n",
       "        [0., 0., 0., ..., 0., 0., 0.]],\n",
       "\n",
       "       ...,\n",
       "\n",
       "       [[0., 0., 0., ..., 0., 0., 0.],\n",
       "        [0., 0., 0., ..., 0., 0., 0.],\n",
       "        [0., 0., 0., ..., 0., 0., 0.],\n",
       "        ...,\n",
       "        [0., 0., 0., ..., 0., 0., 0.],\n",
       "        [0., 0., 0., ..., 0., 0., 0.],\n",
       "        [0., 0., 0., ..., 0., 0., 0.]],\n",
       "\n",
       "       [[0., 0., 0., ..., 0., 0., 0.],\n",
       "        [0., 0., 0., ..., 0., 0., 0.],\n",
       "        [0., 0., 0., ..., 0., 0., 0.],\n",
       "        ...,\n",
       "        [0., 0., 0., ..., 0., 0., 0.],\n",
       "        [0., 0., 0., ..., 0., 0., 0.],\n",
       "        [0., 0., 0., ..., 0., 0., 0.]],\n",
       "\n",
       "       [[0., 0., 0., ..., 0., 0., 0.],\n",
       "        [0., 0., 0., ..., 0., 0., 0.],\n",
       "        [0., 0., 0., ..., 0., 0., 0.],\n",
       "        ...,\n",
       "        [0., 0., 0., ..., 0., 0., 0.],\n",
       "        [0., 0., 0., ..., 0., 0., 0.],\n",
       "        [0., 0., 0., ..., 0., 0., 0.]]])"
      ]
     },
     "execution_count": 31,
     "metadata": {},
     "output_type": "execute_result"
    }
   ],
   "source": [
    "x_train"
   ]
  },
  {
   "cell_type": "code",
   "execution_count": 32,
   "id": "8ba38391",
   "metadata": {},
   "outputs": [
    {
     "data": {
      "text/plain": [
       "array([[[0., 0., 0., ..., 0., 0., 0.],\n",
       "        [0., 0., 0., ..., 0., 0., 0.],\n",
       "        [0., 0., 0., ..., 0., 0., 0.],\n",
       "        ...,\n",
       "        [0., 0., 0., ..., 0., 0., 0.],\n",
       "        [0., 0., 0., ..., 0., 0., 0.],\n",
       "        [0., 0., 0., ..., 0., 0., 0.]],\n",
       "\n",
       "       [[0., 0., 0., ..., 0., 0., 0.],\n",
       "        [0., 0., 0., ..., 0., 0., 0.],\n",
       "        [0., 0., 0., ..., 0., 0., 0.],\n",
       "        ...,\n",
       "        [0., 0., 0., ..., 0., 0., 0.],\n",
       "        [0., 0., 0., ..., 0., 0., 0.],\n",
       "        [0., 0., 0., ..., 0., 0., 0.]],\n",
       "\n",
       "       [[0., 0., 0., ..., 0., 0., 0.],\n",
       "        [0., 0., 0., ..., 0., 0., 0.],\n",
       "        [0., 0., 0., ..., 0., 0., 0.],\n",
       "        ...,\n",
       "        [0., 0., 0., ..., 0., 0., 0.],\n",
       "        [0., 0., 0., ..., 0., 0., 0.],\n",
       "        [0., 0., 0., ..., 0., 0., 0.]],\n",
       "\n",
       "       ...,\n",
       "\n",
       "       [[0., 0., 0., ..., 0., 0., 0.],\n",
       "        [0., 0., 0., ..., 0., 0., 0.],\n",
       "        [0., 0., 0., ..., 0., 0., 0.],\n",
       "        ...,\n",
       "        [0., 0., 0., ..., 0., 0., 0.],\n",
       "        [0., 0., 0., ..., 0., 0., 0.],\n",
       "        [0., 0., 0., ..., 0., 0., 0.]],\n",
       "\n",
       "       [[0., 0., 0., ..., 0., 0., 0.],\n",
       "        [0., 0., 0., ..., 0., 0., 0.],\n",
       "        [0., 0., 0., ..., 0., 0., 0.],\n",
       "        ...,\n",
       "        [0., 0., 0., ..., 0., 0., 0.],\n",
       "        [0., 0., 0., ..., 0., 0., 0.],\n",
       "        [0., 0., 0., ..., 0., 0., 0.]],\n",
       "\n",
       "       [[0., 0., 0., ..., 0., 0., 0.],\n",
       "        [0., 0., 0., ..., 0., 0., 0.],\n",
       "        [0., 0., 0., ..., 0., 0., 0.],\n",
       "        ...,\n",
       "        [0., 0., 0., ..., 0., 0., 0.],\n",
       "        [0., 0., 0., ..., 0., 0., 0.],\n",
       "        [0., 0., 0., ..., 0., 0., 0.]]])"
      ]
     },
     "execution_count": 32,
     "metadata": {},
     "output_type": "execute_result"
    }
   ],
   "source": [
    "x_test"
   ]
  },
  {
   "cell_type": "code",
   "execution_count": 33,
   "id": "d52ddc09",
   "metadata": {},
   "outputs": [],
   "source": [
    "#Splitting the data into train/validation/test\n",
    "x_valid,x_train=x_train[:5000],x_train[5000:]\n",
    "y_valid,y_train=y_train_full[:5000],y_train_full[5000:]\n",
    "x_tests=x_test"
   ]
  },
  {
   "cell_type": "code",
   "execution_count": 34,
   "id": "da05bb08",
   "metadata": {},
   "outputs": [
    {
     "data": {
      "text/plain": [
       "array([[[0., 0., 0., ..., 0., 0., 0.],\n",
       "        [0., 0., 0., ..., 0., 0., 0.],\n",
       "        [0., 0., 0., ..., 0., 0., 0.],\n",
       "        ...,\n",
       "        [0., 0., 0., ..., 0., 0., 0.],\n",
       "        [0., 0., 0., ..., 0., 0., 0.],\n",
       "        [0., 0., 0., ..., 0., 0., 0.]],\n",
       "\n",
       "       [[0., 0., 0., ..., 0., 0., 0.],\n",
       "        [0., 0., 0., ..., 0., 0., 0.],\n",
       "        [0., 0., 0., ..., 0., 0., 0.],\n",
       "        ...,\n",
       "        [0., 0., 0., ..., 0., 0., 0.],\n",
       "        [0., 0., 0., ..., 0., 0., 0.],\n",
       "        [0., 0., 0., ..., 0., 0., 0.]],\n",
       "\n",
       "       [[0., 0., 0., ..., 0., 0., 0.],\n",
       "        [0., 0., 0., ..., 0., 0., 0.],\n",
       "        [0., 0., 0., ..., 0., 0., 0.],\n",
       "        ...,\n",
       "        [0., 0., 0., ..., 0., 0., 0.],\n",
       "        [0., 0., 0., ..., 0., 0., 0.],\n",
       "        [0., 0., 0., ..., 0., 0., 0.]],\n",
       "\n",
       "       ...,\n",
       "\n",
       "       [[0., 0., 0., ..., 0., 0., 0.],\n",
       "        [0., 0., 0., ..., 0., 0., 0.],\n",
       "        [0., 0., 0., ..., 0., 0., 0.],\n",
       "        ...,\n",
       "        [0., 0., 0., ..., 0., 0., 0.],\n",
       "        [0., 0., 0., ..., 0., 0., 0.],\n",
       "        [0., 0., 0., ..., 0., 0., 0.]],\n",
       "\n",
       "       [[0., 0., 0., ..., 0., 0., 0.],\n",
       "        [0., 0., 0., ..., 0., 0., 0.],\n",
       "        [0., 0., 0., ..., 0., 0., 0.],\n",
       "        ...,\n",
       "        [0., 0., 0., ..., 0., 0., 0.],\n",
       "        [0., 0., 0., ..., 0., 0., 0.],\n",
       "        [0., 0., 0., ..., 0., 0., 0.]],\n",
       "\n",
       "       [[0., 0., 0., ..., 0., 0., 0.],\n",
       "        [0., 0., 0., ..., 0., 0., 0.],\n",
       "        [0., 0., 0., ..., 0., 0., 0.],\n",
       "        ...,\n",
       "        [0., 0., 0., ..., 0., 0., 0.],\n",
       "        [0., 0., 0., ..., 0., 0., 0.],\n",
       "        [0., 0., 0., ..., 0., 0., 0.]]])"
      ]
     },
     "execution_count": 34,
     "metadata": {},
     "output_type": "execute_result"
    }
   ],
   "source": [
    "x_valid"
   ]
  },
  {
   "cell_type": "code",
   "execution_count": 35,
   "id": "e140e556",
   "metadata": {},
   "outputs": [
    {
     "data": {
      "text/plain": [
       "array([[[0., 0., 0., ..., 0., 0., 0.],\n",
       "        [0., 0., 0., ..., 0., 0., 0.],\n",
       "        [0., 0., 0., ..., 0., 0., 0.],\n",
       "        ...,\n",
       "        [0., 0., 0., ..., 0., 0., 0.],\n",
       "        [0., 0., 0., ..., 0., 0., 0.],\n",
       "        [0., 0., 0., ..., 0., 0., 0.]],\n",
       "\n",
       "       [[0., 0., 0., ..., 0., 0., 0.],\n",
       "        [0., 0., 0., ..., 0., 0., 0.],\n",
       "        [0., 0., 0., ..., 0., 0., 0.],\n",
       "        ...,\n",
       "        [0., 0., 0., ..., 0., 0., 0.],\n",
       "        [0., 0., 0., ..., 0., 0., 0.],\n",
       "        [0., 0., 0., ..., 0., 0., 0.]],\n",
       "\n",
       "       [[0., 0., 0., ..., 0., 0., 0.],\n",
       "        [0., 0., 0., ..., 0., 0., 0.],\n",
       "        [0., 0., 0., ..., 0., 0., 0.],\n",
       "        ...,\n",
       "        [0., 0., 0., ..., 0., 0., 0.],\n",
       "        [0., 0., 0., ..., 0., 0., 0.],\n",
       "        [0., 0., 0., ..., 0., 0., 0.]],\n",
       "\n",
       "       ...,\n",
       "\n",
       "       [[0., 0., 0., ..., 0., 0., 0.],\n",
       "        [0., 0., 0., ..., 0., 0., 0.],\n",
       "        [0., 0., 0., ..., 0., 0., 0.],\n",
       "        ...,\n",
       "        [0., 0., 0., ..., 0., 0., 0.],\n",
       "        [0., 0., 0., ..., 0., 0., 0.],\n",
       "        [0., 0., 0., ..., 0., 0., 0.]],\n",
       "\n",
       "       [[0., 0., 0., ..., 0., 0., 0.],\n",
       "        [0., 0., 0., ..., 0., 0., 0.],\n",
       "        [0., 0., 0., ..., 0., 0., 0.],\n",
       "        ...,\n",
       "        [0., 0., 0., ..., 0., 0., 0.],\n",
       "        [0., 0., 0., ..., 0., 0., 0.],\n",
       "        [0., 0., 0., ..., 0., 0., 0.]],\n",
       "\n",
       "       [[0., 0., 0., ..., 0., 0., 0.],\n",
       "        [0., 0., 0., ..., 0., 0., 0.],\n",
       "        [0., 0., 0., ..., 0., 0., 0.],\n",
       "        ...,\n",
       "        [0., 0., 0., ..., 0., 0., 0.],\n",
       "        [0., 0., 0., ..., 0., 0., 0.],\n",
       "        [0., 0., 0., ..., 0., 0., 0.]]])"
      ]
     },
     "execution_count": 35,
     "metadata": {},
     "output_type": "execute_result"
    }
   ],
   "source": [
    "x_train"
   ]
  },
  {
   "cell_type": "code",
   "execution_count": 36,
   "id": "ae519157",
   "metadata": {},
   "outputs": [
    {
     "data": {
      "text/plain": [
       "array([4, 0, 7, ..., 3, 0, 5], dtype=uint8)"
      ]
     },
     "execution_count": 36,
     "metadata": {},
     "output_type": "execute_result"
    }
   ],
   "source": [
    "y_train"
   ]
  },
  {
   "cell_type": "code",
   "execution_count": 37,
   "id": "8c80bc9c",
   "metadata": {},
   "outputs": [
    {
     "data": {
      "text/plain": [
       "array([9, 0, 0, ..., 5, 8, 3], dtype=uint8)"
      ]
     },
     "execution_count": 37,
     "metadata": {},
     "output_type": "execute_result"
    }
   ],
   "source": [
    "y_valid"
   ]
  },
  {
   "cell_type": "code",
   "execution_count": 38,
   "id": "e92ac703",
   "metadata": {},
   "outputs": [
    {
     "data": {
      "text/plain": [
       "array([[[0., 0., 0., ..., 0., 0., 0.],\n",
       "        [0., 0., 0., ..., 0., 0., 0.],\n",
       "        [0., 0., 0., ..., 0., 0., 0.],\n",
       "        ...,\n",
       "        [0., 0., 0., ..., 0., 0., 0.],\n",
       "        [0., 0., 0., ..., 0., 0., 0.],\n",
       "        [0., 0., 0., ..., 0., 0., 0.]],\n",
       "\n",
       "       [[0., 0., 0., ..., 0., 0., 0.],\n",
       "        [0., 0., 0., ..., 0., 0., 0.],\n",
       "        [0., 0., 0., ..., 0., 0., 0.],\n",
       "        ...,\n",
       "        [0., 0., 0., ..., 0., 0., 0.],\n",
       "        [0., 0., 0., ..., 0., 0., 0.],\n",
       "        [0., 0., 0., ..., 0., 0., 0.]],\n",
       "\n",
       "       [[0., 0., 0., ..., 0., 0., 0.],\n",
       "        [0., 0., 0., ..., 0., 0., 0.],\n",
       "        [0., 0., 0., ..., 0., 0., 0.],\n",
       "        ...,\n",
       "        [0., 0., 0., ..., 0., 0., 0.],\n",
       "        [0., 0., 0., ..., 0., 0., 0.],\n",
       "        [0., 0., 0., ..., 0., 0., 0.]],\n",
       "\n",
       "       ...,\n",
       "\n",
       "       [[0., 0., 0., ..., 0., 0., 0.],\n",
       "        [0., 0., 0., ..., 0., 0., 0.],\n",
       "        [0., 0., 0., ..., 0., 0., 0.],\n",
       "        ...,\n",
       "        [0., 0., 0., ..., 0., 0., 0.],\n",
       "        [0., 0., 0., ..., 0., 0., 0.],\n",
       "        [0., 0., 0., ..., 0., 0., 0.]],\n",
       "\n",
       "       [[0., 0., 0., ..., 0., 0., 0.],\n",
       "        [0., 0., 0., ..., 0., 0., 0.],\n",
       "        [0., 0., 0., ..., 0., 0., 0.],\n",
       "        ...,\n",
       "        [0., 0., 0., ..., 0., 0., 0.],\n",
       "        [0., 0., 0., ..., 0., 0., 0.],\n",
       "        [0., 0., 0., ..., 0., 0., 0.]],\n",
       "\n",
       "       [[0., 0., 0., ..., 0., 0., 0.],\n",
       "        [0., 0., 0., ..., 0., 0., 0.],\n",
       "        [0., 0., 0., ..., 0., 0., 0.],\n",
       "        ...,\n",
       "        [0., 0., 0., ..., 0., 0., 0.],\n",
       "        [0., 0., 0., ..., 0., 0., 0.],\n",
       "        [0., 0., 0., ..., 0., 0., 0.]]])"
      ]
     },
     "execution_count": 38,
     "metadata": {},
     "output_type": "execute_result"
    }
   ],
   "source": [
    "x_tests"
   ]
  },
  {
   "cell_type": "markdown",
   "id": "97ab9c94",
   "metadata": {},
   "source": [
    "## **Building a NN with Keras**"
   ]
  },
  {
   "cell_type": "code",
   "execution_count": 39,
   "id": "793c5f91",
   "metadata": {},
   "outputs": [],
   "source": [
    "np.random.seed(42)\n",
    "tf.random.set_seed(42)"
   ]
  },
  {
   "cell_type": "code",
   "execution_count": 40,
   "id": "1d475965",
   "metadata": {},
   "outputs": [],
   "source": [
    "model=keras.models.Sequential()\n",
    "model.add(keras.layers.Flatten(input_shape=[28,28]))\n",
    "model.add(keras.layers.Dense(300,activation=\"relu\"))\n",
    "model.add(keras.layers.Dense(100,activation=\"relu\"))#relu- (0 to -ve inputs & equal to +ve inputs)\n",
    "model.add(keras.layers.Dense(10,activation=\"softmax\"))#softmax- (equals sum of all input probabilities to 1)"
   ]
  },
  {
   "cell_type": "code",
   "execution_count": 41,
   "id": "d8eaf398",
   "metadata": {},
   "outputs": [
    {
     "name": "stdout",
     "output_type": "stream",
     "text": [
      "Model: \"sequential\"\n",
      "_________________________________________________________________\n",
      " Layer (type)                Output Shape              Param #   \n",
      "=================================================================\n",
      " flatten (Flatten)           (None, 784)               0         \n",
      "                                                                 \n",
      " dense (Dense)               (None, 300)               235500    \n",
      "                                                                 \n",
      " dense_1 (Dense)             (None, 100)               30100     \n",
      "                                                                 \n",
      " dense_2 (Dense)             (None, 10)                1010      \n",
      "                                                                 \n",
      "=================================================================\n",
      "Total params: 266,610\n",
      "Trainable params: 266,610\n",
      "Non-trainable params: 0\n",
      "_________________________________________________________________\n"
     ]
    }
   ],
   "source": [
    "model.summary()"
   ]
  },
  {
   "cell_type": "code",
   "execution_count": 42,
   "id": "633ce653",
   "metadata": {},
   "outputs": [
    {
     "name": "stdout",
     "output_type": "stream",
     "text": [
      "Requirement already satisfied: pydot in c:\\anaconda navigator\\lib\\site-packages (1.4.2)Note: you may need to restart the kernel to use updated packages.\n",
      "\n",
      "Requirement already satisfied: pyparsing>=2.1.4 in c:\\anaconda navigator\\lib\\site-packages (from pydot) (3.0.4)\n"
     ]
    }
   ],
   "source": [
    "pip install pydot"
   ]
  },
  {
   "cell_type": "code",
   "execution_count": 43,
   "id": "cde00d36",
   "metadata": {},
   "outputs": [],
   "source": [
    "import pydot"
   ]
  },
  {
   "cell_type": "code",
   "execution_count": 44,
   "id": "1f7e852a",
   "metadata": {},
   "outputs": [],
   "source": [
    "weights,biases=model.layers[1].get_weights()"
   ]
  },
  {
   "cell_type": "code",
   "execution_count": 45,
   "id": "e49f7064",
   "metadata": {},
   "outputs": [
    {
     "data": {
      "text/plain": [
       "array([[ 2.8185546e-05,  3.7454188e-02,  3.6305659e-02, ...,\n",
       "         3.8741462e-02, -1.7063867e-02,  5.1242471e-02],\n",
       "       [ 4.4472381e-02,  1.8337660e-02, -6.3229628e-02, ...,\n",
       "        -1.4750924e-02,  6.5739438e-02,  1.3952099e-02],\n",
       "       [ 7.0836976e-02, -3.0657928e-02,  1.5566759e-02, ...,\n",
       "        -2.4649478e-02,  1.5826814e-02, -1.6270045e-02],\n",
       "       ...,\n",
       "       [-5.3370327e-02, -1.3342343e-02,  5.2191406e-02, ...,\n",
       "        -5.0822958e-02, -1.3559703e-02,  5.3850025e-02],\n",
       "       [ 1.9461870e-02, -7.0569292e-02, -2.9064856e-02, ...,\n",
       "         5.1740617e-02,  2.8300062e-03, -7.6419637e-03],\n",
       "       [ 2.2134148e-02, -5.0577275e-02,  5.2317351e-02, ...,\n",
       "         6.3740194e-02,  5.5260882e-03,  2.7772725e-02]], dtype=float32)"
      ]
     },
     "execution_count": 45,
     "metadata": {},
     "output_type": "execute_result"
    }
   ],
   "source": [
    "weights"
   ]
  },
  {
   "cell_type": "code",
   "execution_count": 46,
   "id": "3c6fb71d",
   "metadata": {},
   "outputs": [
    {
     "data": {
      "text/plain": [
       "(784, 300)"
      ]
     },
     "execution_count": 46,
     "metadata": {},
     "output_type": "execute_result"
    }
   ],
   "source": [
    "weights.shape"
   ]
  },
  {
   "cell_type": "code",
   "execution_count": 47,
   "id": "db306c2c",
   "metadata": {
    "scrolled": true
   },
   "outputs": [
    {
     "data": {
      "text/plain": [
       "array([0., 0., 0., 0., 0., 0., 0., 0., 0., 0., 0., 0., 0., 0., 0., 0., 0.,\n",
       "       0., 0., 0., 0., 0., 0., 0., 0., 0., 0., 0., 0., 0., 0., 0., 0., 0.,\n",
       "       0., 0., 0., 0., 0., 0., 0., 0., 0., 0., 0., 0., 0., 0., 0., 0., 0.,\n",
       "       0., 0., 0., 0., 0., 0., 0., 0., 0., 0., 0., 0., 0., 0., 0., 0., 0.,\n",
       "       0., 0., 0., 0., 0., 0., 0., 0., 0., 0., 0., 0., 0., 0., 0., 0., 0.,\n",
       "       0., 0., 0., 0., 0., 0., 0., 0., 0., 0., 0., 0., 0., 0., 0., 0., 0.,\n",
       "       0., 0., 0., 0., 0., 0., 0., 0., 0., 0., 0., 0., 0., 0., 0., 0., 0.,\n",
       "       0., 0., 0., 0., 0., 0., 0., 0., 0., 0., 0., 0., 0., 0., 0., 0., 0.,\n",
       "       0., 0., 0., 0., 0., 0., 0., 0., 0., 0., 0., 0., 0., 0., 0., 0., 0.,\n",
       "       0., 0., 0., 0., 0., 0., 0., 0., 0., 0., 0., 0., 0., 0., 0., 0., 0.,\n",
       "       0., 0., 0., 0., 0., 0., 0., 0., 0., 0., 0., 0., 0., 0., 0., 0., 0.,\n",
       "       0., 0., 0., 0., 0., 0., 0., 0., 0., 0., 0., 0., 0., 0., 0., 0., 0.,\n",
       "       0., 0., 0., 0., 0., 0., 0., 0., 0., 0., 0., 0., 0., 0., 0., 0., 0.,\n",
       "       0., 0., 0., 0., 0., 0., 0., 0., 0., 0., 0., 0., 0., 0., 0., 0., 0.,\n",
       "       0., 0., 0., 0., 0., 0., 0., 0., 0., 0., 0., 0., 0., 0., 0., 0., 0.,\n",
       "       0., 0., 0., 0., 0., 0., 0., 0., 0., 0., 0., 0., 0., 0., 0., 0., 0.,\n",
       "       0., 0., 0., 0., 0., 0., 0., 0., 0., 0., 0., 0., 0., 0., 0., 0., 0.,\n",
       "       0., 0., 0., 0., 0., 0., 0., 0., 0., 0., 0.], dtype=float32)"
      ]
     },
     "execution_count": 47,
     "metadata": {},
     "output_type": "execute_result"
    }
   ],
   "source": [
    "biases"
   ]
  },
  {
   "cell_type": "markdown",
   "id": "9fdb900e",
   "metadata": {},
   "source": [
    "**Random Seeding**"
   ]
  },
  {
   "cell_type": "code",
   "execution_count": 48,
   "id": "a8782d25",
   "metadata": {},
   "outputs": [
    {
     "data": {
      "text/plain": [
       "(300,)"
      ]
     },
     "execution_count": 48,
     "metadata": {},
     "output_type": "execute_result"
    }
   ],
   "source": [
    "biases.shape"
   ]
  },
  {
   "cell_type": "code",
   "execution_count": 49,
   "id": "773f12fd",
   "metadata": {},
   "outputs": [
    {
     "data": {
      "text/plain": [
       "array([0.37454012, 0.95071431, 0.73199394, 0.59865848, 0.15601864,\n",
       "       0.15599452, 0.05808361, 0.86617615, 0.60111501, 0.70807258,\n",
       "       0.02058449, 0.96990985, 0.83244264, 0.21233911, 0.18182497,\n",
       "       0.18340451, 0.30424224, 0.52475643, 0.43194502, 0.29122914,\n",
       "       0.61185289, 0.13949386, 0.29214465, 0.36636184, 0.45606998,\n",
       "       0.78517596, 0.19967378, 0.51423444, 0.59241457, 0.04645041,\n",
       "       0.60754485, 0.17052412, 0.06505159, 0.94888554, 0.96563203,\n",
       "       0.80839735, 0.30461377, 0.09767211, 0.68423303, 0.44015249,\n",
       "       0.12203823, 0.49517691])"
      ]
     },
     "execution_count": 49,
     "metadata": {},
     "output_type": "execute_result"
    }
   ],
   "source": [
    "np.random.rand(42)"
   ]
  },
  {
   "cell_type": "code",
   "execution_count": 50,
   "id": "1ab5b826",
   "metadata": {},
   "outputs": [],
   "source": [
    "np.random.seed(42)"
   ]
  },
  {
   "cell_type": "code",
   "execution_count": 51,
   "id": "29ea9083",
   "metadata": {},
   "outputs": [
    {
     "data": {
      "text/plain": [
       "array([0.37454012, 0.95071431, 0.73199394, 0.59865848, 0.15601864])"
      ]
     },
     "execution_count": 51,
     "metadata": {},
     "output_type": "execute_result"
    }
   ],
   "source": [
    "np.random.rand(5)"
   ]
  },
  {
   "cell_type": "markdown",
   "id": "37366b8d",
   "metadata": {},
   "source": [
    "**Compiling & Training NN model**"
   ]
  },
  {
   "cell_type": "code",
   "execution_count": 52,
   "id": "109ac146",
   "metadata": {},
   "outputs": [],
   "source": [
    "model.compile(loss=\"sparse_categorical_crossentropy\",\n",
    "             optimizer=\"sgd\",\n",
    "             metrics=[\"accuracy\"])"
   ]
  },
  {
   "cell_type": "code",
   "execution_count": 53,
   "id": "866ec202",
   "metadata": {},
   "outputs": [
    {
     "name": "stdout",
     "output_type": "stream",
     "text": [
      "Epoch 1/5\n",
      "1719/1719 [==============================] - 13s 6ms/step - loss: 0.7346 - accuracy: 0.7600 - val_loss: 0.5170 - val_accuracy: 0.8236\n",
      "Epoch 2/5\n",
      "1719/1719 [==============================] - 21s 12ms/step - loss: 0.4925 - accuracy: 0.8259 - val_loss: 0.4404 - val_accuracy: 0.8484\n",
      "Epoch 3/5\n",
      "1719/1719 [==============================] - 22s 13ms/step - loss: 0.4457 - accuracy: 0.8413 - val_loss: 0.5295 - val_accuracy: 0.8016\n",
      "Epoch 4/5\n",
      "1719/1719 [==============================] - 19s 11ms/step - loss: 0.4178 - accuracy: 0.8541 - val_loss: 0.3986 - val_accuracy: 0.8636\n",
      "Epoch 5/5\n",
      "1719/1719 [==============================] - 20s 12ms/step - loss: 0.3987 - accuracy: 0.8594 - val_loss: 0.3803 - val_accuracy: 0.8658\n"
     ]
    }
   ],
   "source": [
    "model_history=model.fit(x_train,y_train,epochs=5,\n",
    "                       validation_data=(x_valid,y_valid))"
   ]
  },
  {
   "cell_type": "code",
   "execution_count": 54,
   "id": "2dc25064",
   "metadata": {},
   "outputs": [
    {
     "data": {
      "text/plain": [
       "{'verbose': 1, 'epochs': 5, 'steps': 1719}"
      ]
     },
     "execution_count": 54,
     "metadata": {},
     "output_type": "execute_result"
    }
   ],
   "source": [
    "model_history.params"
   ]
  },
  {
   "cell_type": "code",
   "execution_count": 55,
   "id": "8dcf5a6f",
   "metadata": {},
   "outputs": [
    {
     "data": {
      "text/plain": [
       "{'loss': [0.7346464395523071,\n",
       "  0.4925207793712616,\n",
       "  0.4457167685031891,\n",
       "  0.41777053475379944,\n",
       "  0.39873236417770386],\n",
       " 'accuracy': [0.7600181698799133,\n",
       "  0.8258545398712158,\n",
       "  0.8413090705871582,\n",
       "  0.8541272878646851,\n",
       "  0.8593999743461609],\n",
       " 'val_loss': [0.5169973969459534,\n",
       "  0.4404055178165436,\n",
       "  0.5295383930206299,\n",
       "  0.3985818922519684,\n",
       "  0.3803022503852844],\n",
       " 'val_accuracy': [0.8235999941825867,\n",
       "  0.8483999967575073,\n",
       "  0.8015999794006348,\n",
       "  0.8636000156402588,\n",
       "  0.8658000230789185]}"
      ]
     },
     "execution_count": 55,
     "metadata": {},
     "output_type": "execute_result"
    }
   ],
   "source": [
    "model_history.history"
   ]
  },
  {
   "cell_type": "code",
   "execution_count": 56,
   "id": "a835599e",
   "metadata": {},
   "outputs": [
    {
     "data": {
      "image/png": "[encoded data removed]",
      "text/plain": [
       "<Figure size 720x432 with 1 Axes>"
      ]
     },
     "metadata": {
      "needs_background": "light"
     },
     "output_type": "display_data"
    }
   ],
   "source": [
    "pd.DataFrame(model_history.history).plot(figsize=(10,6))\n",
    "plt.grid(True)\n",
    "plt.gca().set_ylim(0,1)\n",
    "plt.show()"
   ]
  },
  {
   "cell_type": "markdown",
   "id": "be66ed9e",
   "metadata": {},
   "source": [
    "**Evaluating Model's Performance**"
   ]
  },
  {
   "cell_type": "code",
   "execution_count": 57,
   "id": "91657962",
   "metadata": {},
   "outputs": [
    {
     "name": "stdout",
     "output_type": "stream",
     "text": [
      "313/313 [==============================] - 2s 6ms/step - loss: 0.4171 - accuracy: 0.8511\n"
     ]
    },
    {
     "data": {
      "text/plain": [
       "[0.41705843806266785, 0.8511000275611877]"
      ]
     },
     "execution_count": 57,
     "metadata": {},
     "output_type": "execute_result"
    }
   ],
   "source": [
    "model.evaluate(x_test,y_test)"
   ]
  },
  {
   "cell_type": "code",
   "execution_count": 58,
   "id": "4c0de1ce",
   "metadata": {},
   "outputs": [],
   "source": [
    "x_new=x_test[:5]"
   ]
  },
  {
   "cell_type": "code",
   "execution_count": 59,
   "id": "efa7cb69",
   "metadata": {},
   "outputs": [
    {
     "name": "stdout",
     "output_type": "stream",
     "text": [
      "1/1 [==============================] - 0s 253ms/step\n"
     ]
    }
   ],
   "source": [
    "y_probability=model.predict(x_new)"
   ]
  },
  {
   "cell_type": "code",
   "execution_count": 60,
   "id": "4037fbcf",
   "metadata": {},
   "outputs": [
    {
     "data": {
      "text/plain": [
       "array([[0.   , 0.   , 0.   , 0.   , 0.   , 0.094, 0.   , 0.204, 0.005,\n",
       "        0.696],\n",
       "       [0.   , 0.   , 0.964, 0.   , 0.005, 0.   , 0.03 , 0.   , 0.   ,\n",
       "        0.   ],\n",
       "       [0.   , 1.   , 0.   , 0.   , 0.   , 0.   , 0.   , 0.   , 0.   ,\n",
       "        0.   ],\n",
       "       [0.   , 1.   , 0.   , 0.   , 0.   , 0.   , 0.   , 0.   , 0.   ,\n",
       "        0.   ],\n",
       "       [0.071, 0.002, 0.196, 0.015, 0.02 , 0.   , 0.693, 0.   , 0.003,\n",
       "        0.   ]], dtype=float32)"
      ]
     },
     "execution_count": 60,
     "metadata": {},
     "output_type": "execute_result"
    }
   ],
   "source": [
    "y_probability.round(3)"
   ]
  },
  {
   "cell_type": "code",
   "execution_count": 61,
   "id": "d0f41fec",
   "metadata": {},
   "outputs": [
    {
     "name": "stdout",
     "output_type": "stream",
     "text": [
      "1/1 [==============================] - 0s 68ms/step\n"
     ]
    },
    {
     "data": {
      "text/plain": [
       "array([9, 2, 1, 1, 6], dtype=int64)"
      ]
     },
     "execution_count": 61,
     "metadata": {},
     "output_type": "execute_result"
    }
   ],
   "source": [
    "y_pred=np.argmax(model.predict(x_new),axis=1)\n",
    "y_pred #for predicting classes"
   ]
  },
  {
   "cell_type": "code",
   "execution_count": 62,
   "id": "c45425c0",
   "metadata": {},
   "outputs": [
    {
     "data": {
      "text/plain": [
       "array(['Ankle Boot', 'Pullover', 'Trouser', 'Trouser', 'Shirt'],\n",
       "      dtype='<U11')"
      ]
     },
     "execution_count": 62,
     "metadata": {},
     "output_type": "execute_result"
    }
   ],
   "source": [
    "np.array(class_names)[y_pred]"
   ]
  },
  {
   "cell_type": "code",
   "execution_count": 63,
   "id": "583bda83",
   "metadata": {},
   "outputs": [
    {
     "name": "stdout",
     "output_type": "stream",
     "text": [
      "AxesImage(54,36;334.8x217.44)\n"
     ]
    },
    {
     "data": {
      "image/png": "[encoded data removed]",
      "text/plain": [
       "<Figure size 432x288 with 1 Axes>"
      ]
     },
     "metadata": {
      "needs_background": "light"
     },
     "output_type": "display_data"
    }
   ],
   "source": [
    "print(plt.imshow(x_test[0]))"
   ]
  },
  {
   "cell_type": "code",
   "execution_count": 64,
   "id": "0c4d9515",
   "metadata": {},
   "outputs": [
    {
     "name": "stdout",
     "output_type": "stream",
     "text": [
      "AxesImage(54,36;334.8x217.44)\n"
     ]
    },
    {
     "data": {
      "image/png": "[encoded data removed]",
      "text/plain": [
       "<Figure size 432x288 with 1 Axes>"
      ]
     },
     "metadata": {
      "needs_background": "light"
     },
     "output_type": "display_data"
    }
   ],
   "source": [
    "print(plt.imshow(x_test[1]))"
   ]
  },
  {
   "cell_type": "code",
   "execution_count": 65,
   "id": "804ff3ac",
   "metadata": {},
   "outputs": [
    {
     "name": "stdout",
     "output_type": "stream",
     "text": [
      "AxesImage(54,36;334.8x217.44)\n"
     ]
    },
    {
     "data": {
      "image/png": "[encoded data removed]",
      "text/plain": [
       "<Figure size 432x288 with 1 Axes>"
      ]
     },
     "metadata": {
      "needs_background": "light"
     },
     "output_type": "display_data"
    }
   ],
   "source": [
    "print(plt.imshow(x_test[2]))"
   ]
  },
  {
   "cell_type": "code",
   "execution_count": 66,
   "id": "b42fc5b9",
   "metadata": {},
   "outputs": [
    {
     "name": "stdout",
     "output_type": "stream",
     "text": [
      "AxesImage(54,36;334.8x217.44)\n"
     ]
    },
    {
     "data": {
      "image/png": "[encoded data removed]",
      "text/plain": [
       "<Figure size 432x288 with 1 Axes>"
      ]
     },
     "metadata": {
      "needs_background": "light"
     },
     "output_type": "display_data"
    }
   ],
   "source": [
    "print(plt.imshow(x_test[3]))"
   ]
  },
  {
   "cell_type": "code",
   "execution_count": 67,
   "id": "e4ba3406",
   "metadata": {},
   "outputs": [
    {
     "name": "stdout",
     "output_type": "stream",
     "text": [
      "AxesImage(54,36;334.8x217.44)\n"
     ]
    },
    {
     "data": {
      "image/png": "[encoded data removed]",
      "text/plain": [
       "<Figure size 432x288 with 1 Axes>"
      ]
     },
     "metadata": {
      "needs_background": "light"
     },
     "output_type": "display_data"
    }
   ],
   "source": [
    "print(plt.imshow(x_test[4]))"
   ]
  },
  {
   "cell_type": "code",
   "execution_count": 68,
   "id": "db11d8ac",
   "metadata": {},
   "outputs": [
    {
     "name": "stdout",
     "output_type": "stream",
     "text": [
      "AxesImage(54,36;334.8x217.44)\n"
     ]
    },
    {
     "data": {
      "image/png": "[encoded data removed]",
      "text/plain": [
       "<Figure size 432x288 with 1 Axes>"
      ]
     },
     "metadata": {
      "needs_background": "light"
     },
     "output_type": "display_data"
    }
   ],
   "source": [
    "print(plt.imshow(x_test[5]))"
   ]
  },
  {
   "cell_type": "markdown",
   "id": "a4114009",
   "metadata": {},
   "source": [
    "## **Building NN model for regression problem**"
   ]
  },
  {
   "cell_type": "code",
   "execution_count": 69,
   "id": "02aa3bcc",
   "metadata": {},
   "outputs": [],
   "source": [
    "import sklearn"
   ]
  },
  {
   "cell_type": "code",
   "execution_count": 70,
   "id": "8b07bcec",
   "metadata": {},
   "outputs": [
    {
     "data": {
      "text/plain": [
       "{'data': array([[   8.3252    ,   41.        ,    6.98412698, ...,    2.55555556,\n",
       "           37.88      , -122.23      ],\n",
       "        [   8.3014    ,   21.        ,    6.23813708, ...,    2.10984183,\n",
       "           37.86      , -122.22      ],\n",
       "        [   7.2574    ,   52.        ,    8.28813559, ...,    2.80225989,\n",
       "           37.85      , -122.24      ],\n",
       "        ...,\n",
       "        [   1.7       ,   17.        ,    5.20554273, ...,    2.3256351 ,\n",
       "           39.43      , -121.22      ],\n",
       "        [   1.8672    ,   18.        ,    5.32951289, ...,    2.12320917,\n",
       "           39.43      , -121.32      ],\n",
       "        [   2.3886    ,   16.        ,    5.25471698, ...,    2.61698113,\n",
       "           39.37      , -121.24      ]]),\n",
       " 'target': array([4.526, 3.585, 3.521, ..., 0.923, 0.847, 0.894]),\n",
       " 'frame': None,\n",
       " 'target_names': ['MedHouseVal'],\n",
       " 'feature_names': ['MedInc',\n",
       "  'HouseAge',\n",
       "  'AveRooms',\n",
       "  'AveBedrms',\n",
       "  'Population',\n",
       "  'AveOccup',\n",
       "  'Latitude',\n",
       "  'Longitude'],\n",
       " 'DESCR': '.. _california_housing_dataset:\\n\\nCalifornia Housing dataset\\n--------------------------\\n\\n**Data Set Characteristics:**\\n\\n    :Number of Instances: 20640\\n\\n    :Number of Attributes: 8 numeric, predictive attributes and the target\\n\\n    :Attribute Information:\\n        - MedInc        median income in block group\\n        - HouseAge      median house age in block group\\n        - AveRooms      average number of rooms per household\\n        - AveBedrms     average number of bedrooms per household\\n        - Population    block group population\\n        - AveOccup      average number of household members\\n        - Latitude      block group latitude\\n        - Longitude     block group longitude\\n\\n    :Missing Attribute Values: None\\n\\nThis dataset was obtained from the StatLib repository.\\nhttps://www.dcc.fc.up.pt/~ltorgo/Regression/cal_housing.html\\n\\nThe target variable is the median house value for California districts,\\nexpressed in hundreds of thousands of dollars ($100,000).\\n\\nThis dataset was derived from the 1990 U.S. census, using one row per census\\nblock group. A block group is the smallest geographical unit for which the U.S.\\nCensus Bureau publishes sample data (a block group typically has a population\\nof 600 to 3,000 people).\\n\\nAn household is a group of people residing within a home. Since the average\\nnumber of rooms and bedrooms in this dataset are provided per household, these\\ncolumns may take surpinsingly large values for block groups with few households\\nand many empty houses, such as vacation resorts.\\n\\nIt can be downloaded/loaded using the\\n:func:`sklearn.datasets.fetch_california_housing` function.\\n\\n.. topic:: References\\n\\n    - Pace, R. Kelley and Ronald Barry, Sparse Spatial Autoregressions,\\n      Statistics and Probability Letters, 33 (1997) 291-297\\n'}"
      ]
     },
     "execution_count": 70,
     "metadata": {},
     "output_type": "execute_result"
    }
   ],
   "source": [
    "from sklearn.datasets import fetch_california_housing\n",
    "housing_df=fetch_california_housing()\n",
    "housing_df"
   ]
  },
  {
   "cell_type": "code",
   "execution_count": 71,
   "id": "db1854e6",
   "metadata": {},
   "outputs": [
    {
     "name": "stdout",
     "output_type": "stream",
     "text": [
      "['MedInc', 'HouseAge', 'AveRooms', 'AveBedrms', 'Population', 'AveOccup', 'Latitude', 'Longitude']\n"
     ]
    }
   ],
   "source": [
    "print(housing_df.feature_names)"
   ]
  },
  {
   "cell_type": "code",
   "execution_count": 72,
   "id": "355efd07",
   "metadata": {},
   "outputs": [],
   "source": [
    "from sklearn.model_selection import train_test_split\n",
    "x_train_full,x_test,y_train_full,y_test=train_test_split(housing_df.data,housing_df.target,random_state=42)\n",
    "x_train,x_valid,y_train,y_valid=train_test_split(x_train_full,y_train_full,random_state=42)"
   ]
  },
  {
   "cell_type": "code",
   "execution_count": 73,
   "id": "3a874c22",
   "metadata": {},
   "outputs": [],
   "source": [
    "#data normalization\n",
    "from sklearn.preprocessing import StandardScaler\n",
    "ss=StandardScaler()"
   ]
  },
  {
   "cell_type": "code",
   "execution_count": 74,
   "id": "54cae792",
   "metadata": {},
   "outputs": [],
   "source": [
    "x_train=ss.fit_transform(x_train)\n",
    "x_test=ss.fit_transform(x_test)\n",
    "x_valid=ss.fit_transform(x_valid)"
   ]
  },
  {
   "cell_type": "code",
   "execution_count": 75,
   "id": "5a353a9b",
   "metadata": {},
   "outputs": [
    {
     "name": "stdout",
     "output_type": "stream",
     "text": [
      "[[-0.19397883 -1.07781319 -0.94338545 ... -0.57291624  0.92926047\n",
      "  -1.42215523]\n",
      " [ 0.75198318 -1.868895    0.40547793 ...  0.20516532 -0.91654738\n",
      "   1.09666969]\n",
      " [-0.41469108  0.02970134  0.81808819 ... -0.29983271  1.30872858\n",
      "  -1.697027  ]\n",
      " ...\n",
      " [-1.22332336  0.50435042 -0.51600328 ...  0.1344908  -0.71978613\n",
      "   1.14664638]\n",
      " [-0.93556989  1.8491895  -0.10878451 ... -0.01354498  0.52168361\n",
      "  -0.10277075]\n",
      " [ 0.89585991  0.1879177   0.29947528 ... -0.17823425  1.12133692\n",
      "  -1.30720885]]\n",
      "[[-0.70927209  0.43846758 -0.89105167 ...  0.05198338 -0.89481434\n",
      "   0.85805258]\n",
      " [-0.5104822   1.63653975 -0.05541711 ... -0.00205922  0.96744335\n",
      "  -1.43426657]\n",
      " [-1.10939639 -0.36024719 -1.02625029 ... -0.06267877 -1.35451523\n",
      "   1.25671678]\n",
      " ...\n",
      " [-0.35781156 -0.20050424 -0.55802986 ... -0.01914416 -0.6462006\n",
      "   0.43447187]\n",
      " [-0.73137753  0.51833906 -0.82275045 ... -0.05862049 -1.15280974\n",
      "   1.0972511 ]\n",
      " [-0.04907761  0.11898167 -0.50767191 ... -0.04105161 -0.87605104\n",
      "   0.85306928]]\n",
      "[[-1.14772246 -0.3014276  -0.46356103 ...  0.56243986  0.22075674\n",
      "   0.2580042 ]\n",
      " [-0.69738315  0.09834786 -0.14086589 ... -0.17390163 -0.20888265\n",
      "   0.0337006 ]\n",
      " [-0.19475766  1.85735988 -0.54547279 ... -0.98514082  1.03333558\n",
      "  -1.45168768]\n",
      " ...\n",
      " [-0.8905295   0.6580335  -0.81401097 ...  0.99709137 -0.7319219\n",
      "   0.63184353]\n",
      " [ 1.60998996 -1.82057434  0.75159184 ... -0.2669435   1.3649051\n",
      "  -0.76382331]\n",
      " [ 1.47501001  0.57807841  0.12396128 ... -0.26102917 -0.79263181\n",
      "   0.56206019]]\n"
     ]
    }
   ],
   "source": [
    "print(x_train)\n",
    "print(x_valid)\n",
    "print(x_test)"
   ]
  },
  {
   "cell_type": "code",
   "execution_count": 76,
   "id": "533f59e4",
   "metadata": {},
   "outputs": [],
   "source": [
    "np.random.seed(42)\n",
    "tf.random.set_seed(42)"
   ]
  },
  {
   "cell_type": "code",
   "execution_count": 77,
   "id": "e7bdb648",
   "metadata": {},
   "outputs": [
    {
     "name": "stdout",
     "output_type": "stream",
     "text": [
      "(11610, 8)\n",
      "(3870, 8)\n",
      "(5160, 8)\n"
     ]
    }
   ],
   "source": [
    "print(x_train.shape)\n",
    "print(x_valid.shape)\n",
    "print(x_test.shape)"
   ]
  },
  {
   "cell_type": "code",
   "execution_count": 78,
   "id": "aaae929c",
   "metadata": {},
   "outputs": [],
   "source": [
    "#Structure for Regression NN\n",
    "model=keras.models.Sequential(\n",
    "    [\n",
    "        keras.layers.Dense(30,activation=\"relu\",input_shape=[8]),\n",
    "        keras.layers.Dense(30,activation=\"relu\"),\n",
    "        keras.layers.Dense(1)\n",
    "    ]\n",
    ")\n",
    "#keras.layers.Dense(30,activation=\"relu\",input_shape=x_train.shape[1:])"
   ]
  },
  {
   "cell_type": "code",
   "execution_count": 79,
   "id": "ccb5292e",
   "metadata": {},
   "outputs": [
    {
     "name": "stdout",
     "output_type": "stream",
     "text": [
      "Model: \"sequential_1\"\n",
      "_________________________________________________________________\n",
      " Layer (type)                Output Shape              Param #   \n",
      "=================================================================\n",
      " dense_3 (Dense)             (None, 30)                270       \n",
      "                                                                 \n",
      " dense_4 (Dense)             (None, 30)                930       \n",
      "                                                                 \n",
      " dense_5 (Dense)             (None, 1)                 31        \n",
      "                                                                 \n",
      "=================================================================\n",
      "Total params: 1,231\n",
      "Trainable params: 1,231\n",
      "Non-trainable params: 0\n",
      "_________________________________________________________________\n"
     ]
    }
   ],
   "source": [
    "model.summary()"
   ]
  },
  {
   "cell_type": "code",
   "execution_count": 80,
   "id": "ac430763",
   "metadata": {},
   "outputs": [
    {
     "name": "stderr",
     "output_type": "stream",
     "text": [
      "C:\\Anaconda Navigator\\lib\\site-packages\\keras\\optimizers\\legacy\\gradient_descent.py:114: UserWarning: The `lr` argument is deprecated, use `learning_rate` instead.\n",
      "  super().__init__(name, **kwargs)\n"
     ]
    }
   ],
   "source": [
    "model.compile(loss=\"mean_squared_error\",\n",
    "             optimizer=keras.optimizers.legacy.SGD(lr=1e-3),\n",
    "              metrics=['mae'])"
   ]
  },
  {
   "cell_type": "code",
   "execution_count": 81,
   "id": "5dd20d44",
   "metadata": {},
   "outputs": [
    {
     "name": "stdout",
     "output_type": "stream",
     "text": [
      "Epoch 1/15\n",
      "363/363 [==============================] - 5s 11ms/step - loss: 1.8589 - mae: 1.0063 - val_loss: 1.0008 - val_mae: 0.7642\n",
      "Epoch 2/15\n",
      "363/363 [==============================] - 3s 9ms/step - loss: 0.8670 - mae: 0.7095 - val_loss: 0.7782 - val_mae: 0.6682\n",
      "Epoch 3/15\n",
      "363/363 [==============================] - 3s 9ms/step - loss: 0.7456 - mae: 0.6485 - val_loss: 0.7086 - val_mae: 0.6257\n",
      "Epoch 4/15\n",
      "363/363 [==============================] - 3s 8ms/step - loss: 0.6914 - mae: 0.6182 - val_loss: 0.6707 - val_mae: 0.6108\n",
      "Epoch 5/15\n",
      "363/363 [==============================] - 3s 7ms/step - loss: 0.6519 - mae: 0.5966 - val_loss: 0.6359 - val_mae: 0.5892\n",
      "Epoch 6/15\n",
      "363/363 [==============================] - 2s 7ms/step - loss: 0.6179 - mae: 0.5795 - val_loss: 0.6099 - val_mae: 0.5776\n",
      "Epoch 7/15\n",
      "363/363 [==============================] - 2s 6ms/step - loss: 0.5895 - mae: 0.5634 - val_loss: 0.5880 - val_mae: 0.5670\n",
      "Epoch 8/15\n",
      "363/363 [==============================] - 2s 7ms/step - loss: 0.5642 - mae: 0.5494 - val_loss: 0.5691 - val_mae: 0.5564\n",
      "Epoch 9/15\n",
      "363/363 [==============================] - 3s 7ms/step - loss: 0.5423 - mae: 0.5378 - val_loss: 0.5519 - val_mae: 0.5484\n",
      "Epoch 10/15\n",
      "363/363 [==============================] - 2s 6ms/step - loss: 0.5229 - mae: 0.5273 - val_loss: 0.5369 - val_mae: 0.5398\n",
      "Epoch 11/15\n",
      "363/363 [==============================] - 2s 6ms/step - loss: 0.5062 - mae: 0.5172 - val_loss: 0.5257 - val_mae: 0.5372\n",
      "Epoch 12/15\n",
      "363/363 [==============================] - 2s 6ms/step - loss: 0.4911 - mae: 0.5090 - val_loss: 0.5141 - val_mae: 0.5266\n",
      "Epoch 13/15\n",
      "363/363 [==============================] - 3s 8ms/step - loss: 0.4781 - mae: 0.5011 - val_loss: 0.5063 - val_mae: 0.5265\n",
      "Epoch 14/15\n",
      "363/363 [==============================] - 3s 7ms/step - loss: 0.4666 - mae: 0.4941 - val_loss: 0.4985 - val_mae: 0.5219\n",
      "Epoch 15/15\n",
      "363/363 [==============================] - 3s 8ms/step - loss: 0.4565 - mae: 0.4884 - val_loss: 0.4899 - val_mae: 0.5154\n"
     ]
    }
   ],
   "source": [
    "model_history=model.fit(x_train,y_train,epochs=15,validation_data=(x_valid,y_valid))"
   ]
  },
  {
   "cell_type": "code",
   "execution_count": 82,
   "id": "e174a632",
   "metadata": {},
   "outputs": [
    {
     "name": "stdout",
     "output_type": "stream",
     "text": [
      "162/162 [==============================] - 1s 4ms/step - loss: 0.4504 - mae: 0.4925\n"
     ]
    }
   ],
   "source": [
    "mae_test=model.evaluate(x_test,y_test)"
   ]
  },
  {
   "cell_type": "code",
   "execution_count": 83,
   "id": "add72687",
   "metadata": {},
   "outputs": [
    {
     "data": {
      "text/plain": [
       "{'loss': [1.858904480934143,\n",
       "  0.8669838309288025,\n",
       "  0.7456400394439697,\n",
       "  0.691412091255188,\n",
       "  0.6519101858139038,\n",
       "  0.6178529858589172,\n",
       "  0.5894781351089478,\n",
       "  0.5641912221908569,\n",
       "  0.5423315167427063,\n",
       "  0.5229098200798035,\n",
       "  0.506242036819458,\n",
       "  0.49114394187927246,\n",
       "  0.47811684012413025,\n",
       "  0.46656736731529236,\n",
       "  0.45645636320114136],\n",
       " 'mae': [1.0062658786773682,\n",
       "  0.709547758102417,\n",
       "  0.6484988331794739,\n",
       "  0.6181991696357727,\n",
       "  0.5966293811798096,\n",
       "  0.5794506072998047,\n",
       "  0.5633507370948792,\n",
       "  0.5494289994239807,\n",
       "  0.537789523601532,\n",
       "  0.5272727012634277,\n",
       "  0.517234742641449,\n",
       "  0.509032666683197,\n",
       "  0.5010810494422913,\n",
       "  0.49408766627311707,\n",
       "  0.4883628785610199],\n",
       " 'val_loss': [1.000788688659668,\n",
       "  0.7782342433929443,\n",
       "  0.7085875868797302,\n",
       "  0.6707145571708679,\n",
       "  0.6359009742736816,\n",
       "  0.6098597049713135,\n",
       "  0.5880048274993896,\n",
       "  0.5691497325897217,\n",
       "  0.5519043207168579,\n",
       "  0.5368888974189758,\n",
       "  0.5256617069244385,\n",
       "  0.5141474604606628,\n",
       "  0.5062984228134155,\n",
       "  0.4985242784023285,\n",
       "  0.4899090528488159],\n",
       " 'val_mae': [0.7642261981964111,\n",
       "  0.6682465672492981,\n",
       "  0.6256908774375916,\n",
       "  0.6107552647590637,\n",
       "  0.5891557931900024,\n",
       "  0.5775646567344666,\n",
       "  0.5670211911201477,\n",
       "  0.556413471698761,\n",
       "  0.5483935475349426,\n",
       "  0.5398295521736145,\n",
       "  0.5372317433357239,\n",
       "  0.5265793800354004,\n",
       "  0.5265471339225769,\n",
       "  0.5218717455863953,\n",
       "  0.5154248476028442]}"
      ]
     },
     "execution_count": 83,
     "metadata": {},
     "output_type": "execute_result"
    }
   ],
   "source": [
    "model_history.history"
   ]
  },
  {
   "cell_type": "code",
   "execution_count": 84,
   "id": "a69038b9",
   "metadata": {},
   "outputs": [
    {
     "data": {
      "image/png": "[encoded data removed]",
      "text/plain": [
       "<Figure size 720x432 with 1 Axes>"
      ]
     },
     "metadata": {
      "needs_background": "light"
     },
     "output_type": "display_data"
    }
   ],
   "source": [
    "pd.DataFrame(model_history.history).plot(figsize=(10,6))\n",
    "plt.grid(True)\n",
    "plt.gca().set_ylim(0,1)\n",
    "plt.show()"
   ]
  },
  {
   "cell_type": "code",
   "execution_count": 85,
   "id": "9428e31a",
   "metadata": {},
   "outputs": [
    {
     "data": {
      "text/plain": [
       "array([[-1.14772246, -0.3014276 , -0.46356103, -0.13026842, -0.0249129 ,\n",
       "         0.56243986,  0.22075674,  0.2580042 ],\n",
       "       [-0.69738315,  0.09834786, -0.14086589,  0.17205266,  0.13229717,\n",
       "        -0.17390163, -0.20888265,  0.0337006 ],\n",
       "       [-0.19475766,  1.85735988, -0.54547279,  0.15860488, -0.09942866,\n",
       "        -0.98514082,  1.03333558, -1.45168768]])"
      ]
     },
     "execution_count": 85,
     "metadata": {},
     "output_type": "execute_result"
    }
   ],
   "source": [
    "x_new=x_test[:3]\n",
    "x_new"
   ]
  },
  {
   "cell_type": "code",
   "execution_count": 86,
   "id": "a8a5ffda",
   "metadata": {},
   "outputs": [
    {
     "name": "stdout",
     "output_type": "stream",
     "text": [
      "1/1 [==============================] - 0s 155ms/step\n",
      "[[0.64089984]\n",
      " [1.4718282 ]\n",
      " [3.791044  ]]\n",
      "[0.477   0.458   5.00001]\n"
     ]
    }
   ],
   "source": [
    "y_pred=model.predict(x_new)\n",
    "print(y_pred)\n",
    "print(y_test[:3])"
   ]
  },
  {
   "cell_type": "code",
   "execution_count": 87,
   "id": "e00c4483",
   "metadata": {},
   "outputs": [],
   "source": [
    "#del model\n",
    "#keras.backend.clear_session()"
   ]
  },
  {
   "cell_type": "markdown",
   "id": "05916944",
   "metadata": {},
   "source": [
    "## **Functional API for Complex Architectures**"
   ]
  },
  {
   "cell_type": "code",
   "execution_count": 88,
   "id": "20e79510",
   "metadata": {},
   "outputs": [],
   "source": [
    "inputs=keras.layers.Input(shape=x_train.shape[1:])\n",
    "hidden1=keras.layers.Dense(30,activation=\"relu\")(inputs)\n",
    "hidden2=keras.layers.Dense(30,activation=\"relu\")(hidden1)\n",
    "concat=keras.layers.concatenate([inputs,hidden2])\n",
    "output=keras.layers.Dense(1)(concat)\n",
    "model=keras.models.Model(inputs=[inputs],outputs=[output])"
   ]
  },
  {
   "cell_type": "code",
   "execution_count": 89,
   "id": "95a23326",
   "metadata": {},
   "outputs": [
    {
     "name": "stdout",
     "output_type": "stream",
     "text": [
      "Model: \"model\"\n",
      "__________________________________________________________________________________________________\n",
      " Layer (type)                   Output Shape         Param #     Connected to                     \n",
      "==================================================================================================\n",
      " input_1 (InputLayer)           [(None, 8)]          0           []                               \n",
      "                                                                                                  \n",
      " dense_6 (Dense)                (None, 30)           270         ['input_1[0][0]']                \n",
      "                                                                                                  \n",
      " dense_7 (Dense)                (None, 30)           930         ['dense_6[0][0]']                \n",
      "                                                                                                  \n",
      " concatenate (Concatenate)      (None, 38)           0           ['input_1[0][0]',                \n",
      "                                                                  'dense_7[0][0]']                \n",
      "                                                                                                  \n",
      " dense_8 (Dense)                (None, 1)            39          ['concatenate[0][0]']            \n",
      "                                                                                                  \n",
      "==================================================================================================\n",
      "Total params: 1,239\n",
      "Trainable params: 1,239\n",
      "Non-trainable params: 0\n",
      "__________________________________________________________________________________________________\n"
     ]
    }
   ],
   "source": [
    "model.summary()"
   ]
  },
  {
   "cell_type": "code",
   "execution_count": 90,
   "id": "5321100e",
   "metadata": {},
   "outputs": [
    {
     "name": "stderr",
     "output_type": "stream",
     "text": [
      "C:\\Anaconda Navigator\\lib\\site-packages\\keras\\optimizers\\legacy\\gradient_descent.py:114: UserWarning: The `lr` argument is deprecated, use `learning_rate` instead.\n",
      "  super().__init__(name, **kwargs)\n"
     ]
    }
   ],
   "source": [
    "model.compile(loss=\"mean_squared_error\",\n",
    "             optimizer=keras.optimizers.legacy.SGD(lr=1e-3),\n",
    "              metrics=['mae'])"
   ]
  },
  {
   "cell_type": "code",
   "execution_count": 91,
   "id": "8d73c621",
   "metadata": {},
   "outputs": [
    {
     "name": "stdout",
     "output_type": "stream",
     "text": [
      "Epoch 1/15\n",
      "363/363 [==============================] - 3s 6ms/step - loss: 1.8578 - mae: 0.9846 - val_loss: 0.8174 - val_mae: 0.6697\n",
      "Epoch 2/15\n",
      "363/363 [==============================] - 3s 7ms/step - loss: 0.7664 - mae: 0.6466 - val_loss: 0.7053 - val_mae: 0.6236\n",
      "Epoch 3/15\n",
      "363/363 [==============================] - 2s 6ms/step - loss: 0.6942 - mae: 0.6115 - val_loss: 0.6576 - val_mae: 0.5981\n",
      "Epoch 4/15\n",
      "363/363 [==============================] - 2s 6ms/step - loss: 0.6470 - mae: 0.5875 - val_loss: 0.6334 - val_mae: 0.5906\n",
      "Epoch 5/15\n",
      "363/363 [==============================] - 2s 6ms/step - loss: 0.6106 - mae: 0.5676 - val_loss: 0.5948 - val_mae: 0.5682\n",
      "Epoch 6/15\n",
      "363/363 [==============================] - 2s 7ms/step - loss: 0.5777 - mae: 0.5511 - val_loss: 0.5749 - val_mae: 0.5600\n",
      "Epoch 7/15\n",
      "363/363 [==============================] - 3s 7ms/step - loss: 0.5566 - mae: 0.5387 - val_loss: 0.5541 - val_mae: 0.5486\n",
      "Epoch 8/15\n",
      "363/363 [==============================] - 3s 8ms/step - loss: 0.5343 - mae: 0.5264 - val_loss: 0.5411 - val_mae: 0.5414\n",
      "Epoch 9/15\n",
      "363/363 [==============================] - 3s 8ms/step - loss: 0.5145 - mae: 0.5161 - val_loss: 0.5272 - val_mae: 0.5346\n",
      "Epoch 10/15\n",
      "363/363 [==============================] - 3s 8ms/step - loss: 0.4997 - mae: 0.5081 - val_loss: 0.5153 - val_mae: 0.5258\n",
      "Epoch 11/15\n",
      "363/363 [==============================] - 2s 6ms/step - loss: 0.4857 - mae: 0.4995 - val_loss: 0.5166 - val_mae: 0.5355\n",
      "Epoch 12/15\n",
      "363/363 [==============================] - 4s 10ms/step - loss: 0.4740 - mae: 0.4931 - val_loss: 0.4999 - val_mae: 0.5194\n",
      "Epoch 13/15\n",
      "363/363 [==============================] - 4s 10ms/step - loss: 0.4659 - mae: 0.4893 - val_loss: 0.4955 - val_mae: 0.5195\n",
      "Epoch 14/15\n",
      "363/363 [==============================] - 2s 7ms/step - loss: 0.4547 - mae: 0.4819 - val_loss: 0.4891 - val_mae: 0.5184\n",
      "Epoch 15/15\n",
      "363/363 [==============================] - 3s 9ms/step - loss: 0.4462 - mae: 0.4790 - val_loss: 0.4828 - val_mae: 0.5121\n"
     ]
    }
   ],
   "source": [
    "model_history=model.fit(x_train,y_train,epochs=15,validation_data=(x_valid,y_valid))"
   ]
  },
  {
   "cell_type": "code",
   "execution_count": 92,
   "id": "d4da36e7",
   "metadata": {},
   "outputs": [
    {
     "name": "stdout",
     "output_type": "stream",
     "text": [
      "162/162 [==============================] - 1s 6ms/step - loss: 0.4277 - mae: 0.4748\n"
     ]
    }
   ],
   "source": [
    "mae_test=model.evaluate(x_test,y_test)"
   ]
  },
  {
   "cell_type": "code",
   "execution_count": 93,
   "id": "2da1f5b3",
   "metadata": {},
   "outputs": [
    {
     "data": {
      "text/plain": [
       "{'loss': [1.8577630519866943,\n",
       "  0.7663761973381042,\n",
       "  0.6942433714866638,\n",
       "  0.6470270156860352,\n",
       "  0.6105867028236389,\n",
       "  0.5777198076248169,\n",
       "  0.5565582513809204,\n",
       "  0.5342965126037598,\n",
       "  0.5145243406295776,\n",
       "  0.4996822476387024,\n",
       "  0.4857189357280731,\n",
       "  0.4740467071533203,\n",
       "  0.4659286439418793,\n",
       "  0.45472201704978943,\n",
       "  0.4461750090122223],\n",
       " 'mae': [0.9845559000968933,\n",
       "  0.6465749144554138,\n",
       "  0.6114829778671265,\n",
       "  0.5875346064567566,\n",
       "  0.5675647854804993,\n",
       "  0.551144003868103,\n",
       "  0.5387054085731506,\n",
       "  0.5263937711715698,\n",
       "  0.5160633325576782,\n",
       "  0.5080628991127014,\n",
       "  0.49947798252105713,\n",
       "  0.4931485056877136,\n",
       "  0.4892849922180176,\n",
       "  0.4819289743900299,\n",
       "  0.4789535701274872],\n",
       " 'val_loss': [0.817413866519928,\n",
       "  0.7052776217460632,\n",
       "  0.6575725078582764,\n",
       "  0.6333788633346558,\n",
       "  0.5948280096054077,\n",
       "  0.5748704075813293,\n",
       "  0.554082453250885,\n",
       "  0.5411186814308167,\n",
       "  0.5272129774093628,\n",
       "  0.5153009295463562,\n",
       "  0.5166029930114746,\n",
       "  0.4999059736728668,\n",
       "  0.49552226066589355,\n",
       "  0.48911532759666443,\n",
       "  0.4828304648399353],\n",
       " 'val_mae': [0.6696977615356445,\n",
       "  0.6236315965652466,\n",
       "  0.5980834364891052,\n",
       "  0.5906409025192261,\n",
       "  0.5682412981987,\n",
       "  0.5599559545516968,\n",
       "  0.5486016273498535,\n",
       "  0.5413830876350403,\n",
       "  0.5346472859382629,\n",
       "  0.5258463025093079,\n",
       "  0.535455584526062,\n",
       "  0.5193598866462708,\n",
       "  0.5195212364196777,\n",
       "  0.5183658003807068,\n",
       "  0.5120842456817627]}"
      ]
     },
     "execution_count": 93,
     "metadata": {},
     "output_type": "execute_result"
    }
   ],
   "source": [
    "model_history.history"
   ]
  },
  {
   "cell_type": "code",
   "execution_count": 94,
   "id": "7f41aba8",
   "metadata": {},
   "outputs": [
    {
     "data": {
      "image/png": "[encoded data removed]",
      "text/plain": [
       "<Figure size 720x432 with 1 Axes>"
      ]
     },
     "metadata": {
      "needs_background": "light"
     },
     "output_type": "display_data"
    }
   ],
   "source": [
    "pd.DataFrame(model_history.history).plot(figsize=(10,6))\n",
    "plt.grid(True)\n",
    "plt.gca().set_ylim(0,1)\n",
    "plt.show()"
   ]
  },
  {
   "cell_type": "markdown",
   "id": "0ea0fb91",
   "metadata": {},
   "source": [
    "## Restoring Models & Call backs"
   ]
  },
  {
   "cell_type": "code",
   "execution_count": 95,
   "id": "5dfec607",
   "metadata": {},
   "outputs": [],
   "source": [
    "model.save(\"my_DL_model.h5\")"
   ]
  },
  {
   "cell_type": "code",
   "execution_count": 96,
   "id": "ac949882",
   "metadata": {},
   "outputs": [
    {
     "data": {
      "text/plain": [
       "'C:\\\\Users\\\\kavin'"
      ]
     },
     "execution_count": 96,
     "metadata": {},
     "output_type": "execute_result"
    }
   ],
   "source": [
    "%pwd"
   ]
  },
  {
   "cell_type": "code",
   "execution_count": 97,
   "id": "c8ed4901",
   "metadata": {},
   "outputs": [
    {
     "name": "stdout",
     "output_type": "stream",
     "text": [
      "C:\\Users\\kavin\n"
     ]
    }
   ],
   "source": [
    "%cd C:\\\\Users\\\\kavin"
   ]
  },
  {
   "cell_type": "code",
   "execution_count": 98,
   "id": "72a14812",
   "metadata": {},
   "outputs": [],
   "source": [
    "del model"
   ]
  },
  {
   "cell_type": "code",
   "execution_count": 99,
   "id": "b18d7dc1",
   "metadata": {},
   "outputs": [],
   "source": [
    "keras.backend.clear_session()"
   ]
  },
  {
   "cell_type": "code",
   "execution_count": 100,
   "id": "630c3cd3",
   "metadata": {},
   "outputs": [],
   "source": [
    "model=keras.models.load_model(\"my_DL_model.h5\")"
   ]
  },
  {
   "cell_type": "code",
   "execution_count": 101,
   "id": "aaaebc65",
   "metadata": {},
   "outputs": [
    {
     "name": "stdout",
     "output_type": "stream",
     "text": [
      "Model: \"model\"\n",
      "__________________________________________________________________________________________________\n",
      " Layer (type)                   Output Shape         Param #     Connected to                     \n",
      "==================================================================================================\n",
      " input_1 (InputLayer)           [(None, 8)]          0           []                               \n",
      "                                                                                                  \n",
      " dense_6 (Dense)                (None, 30)           270         ['input_1[0][0]']                \n",
      "                                                                                                  \n",
      " dense_7 (Dense)                (None, 30)           930         ['dense_6[0][0]']                \n",
      "                                                                                                  \n",
      " concatenate (Concatenate)      (None, 38)           0           ['input_1[0][0]',                \n",
      "                                                                  'dense_7[0][0]']                \n",
      "                                                                                                  \n",
      " dense_8 (Dense)                (None, 1)            39          ['concatenate[0][0]']            \n",
      "                                                                                                  \n",
      "==================================================================================================\n",
      "Total params: 1,239\n",
      "Trainable params: 1,239\n",
      "Non-trainable params: 0\n",
      "__________________________________________________________________________________________________\n"
     ]
    }
   ],
   "source": [
    "model.summary()"
   ]
  },
  {
   "cell_type": "code",
   "execution_count": 102,
   "id": "515e891b",
   "metadata": {},
   "outputs": [
    {
     "name": "stdout",
     "output_type": "stream",
     "text": [
      "1/1 [==============================] - 0s 198ms/step\n"
     ]
    },
    {
     "data": {
      "text/plain": [
       "array([[0.6124378],\n",
       "       [1.4782517],\n",
       "       [3.6449666]], dtype=float32)"
      ]
     },
     "execution_count": 102,
     "metadata": {},
     "output_type": "execute_result"
    }
   ],
   "source": [
    "y_pred=model.predict(x_new)\n",
    "y_pred"
   ]
  },
  {
   "cell_type": "markdown",
   "id": "d6ed4441",
   "metadata": {},
   "source": [
    "**Using callbacks during training**"
   ]
  },
  {
   "cell_type": "code",
   "execution_count": 103,
   "id": "99eb9a3e",
   "metadata": {},
   "outputs": [],
   "source": [
    "del model"
   ]
  },
  {
   "cell_type": "code",
   "execution_count": 104,
   "id": "e8b41be8",
   "metadata": {},
   "outputs": [],
   "source": [
    "keras.backend.clear_session()"
   ]
  },
  {
   "cell_type": "code",
   "execution_count": 105,
   "id": "29cc76fe",
   "metadata": {},
   "outputs": [],
   "source": [
    "np.random.seed(42)\n",
    "tf.random.set_seed(42)"
   ]
  },
  {
   "cell_type": "code",
   "execution_count": 106,
   "id": "9aad89b8",
   "metadata": {},
   "outputs": [],
   "source": [
    "model=keras.models.Sequential(\n",
    "    [\n",
    "        keras.layers.Dense(30,activation=\"relu\",input_shape=[8]),\n",
    "        keras.layers.Dense(30,activation=\"relu\"),\n",
    "        keras.layers.Dense(1)\n",
    "    ]\n",
    ")"
   ]
  },
  {
   "cell_type": "code",
   "execution_count": 107,
   "id": "f11f72ee",
   "metadata": {},
   "outputs": [
    {
     "name": "stderr",
     "output_type": "stream",
     "text": [
      "C:\\Anaconda Navigator\\lib\\site-packages\\keras\\optimizers\\legacy\\gradient_descent.py:114: UserWarning: The `lr` argument is deprecated, use `learning_rate` instead.\n",
      "  super().__init__(name, **kwargs)\n"
     ]
    }
   ],
   "source": [
    "model.compile(loss=\"mean_squared_error\",\n",
    "             optimizer=keras.optimizers.legacy.SGD(lr=1e-3),\n",
    "              metrics=['mae'])"
   ]
  },
  {
   "cell_type": "code",
   "execution_count": 108,
   "id": "61a2e00a",
   "metadata": {},
   "outputs": [],
   "source": [
    "checkpoint_cb=keras.callbacks.ModelCheckpoint(\"Model-{epoch:02d}.h5\")"
   ]
  },
  {
   "cell_type": "code",
   "execution_count": 109,
   "id": "3c3327b6",
   "metadata": {},
   "outputs": [
    {
     "name": "stdout",
     "output_type": "stream",
     "text": [
      "Epoch 1/10\n",
      "363/363 [==============================] - 4s 8ms/step - loss: 1.7111 - mae: 0.9356 - val_loss: 0.7440 - val_mae: 0.6401\n",
      "Epoch 2/10\n",
      "363/363 [==============================] - 3s 8ms/step - loss: 0.6873 - mae: 0.6153 - val_loss: 0.6741 - val_mae: 0.6042\n",
      "Epoch 3/10\n",
      "363/363 [==============================] - 2s 7ms/step - loss: 0.6342 - mae: 0.5841 - val_loss: 0.6291 - val_mae: 0.5756\n",
      "Epoch 4/10\n",
      "363/363 [==============================] - 4s 10ms/step - loss: 0.5952 - mae: 0.5626 - val_loss: 0.6051 - val_mae: 0.5694\n",
      "Epoch 5/10\n",
      "363/363 [==============================] - 3s 8ms/step - loss: 0.5636 - mae: 0.5456 - val_loss: 0.5746 - val_mae: 0.5521\n",
      "Epoch 6/10\n",
      "363/363 [==============================] - 3s 7ms/step - loss: 0.5365 - mae: 0.5324 - val_loss: 0.5519 - val_mae: 0.5397\n",
      "Epoch 7/10\n",
      "363/363 [==============================] - 3s 8ms/step - loss: 0.5133 - mae: 0.5190 - val_loss: 0.5347 - val_mae: 0.5336\n",
      "Epoch 8/10\n",
      "363/363 [==============================] - 2s 6ms/step - loss: 0.4935 - mae: 0.5082 - val_loss: 0.5171 - val_mae: 0.5235\n",
      "Epoch 9/10\n",
      "363/363 [==============================] - 3s 9ms/step - loss: 0.4759 - mae: 0.4989 - val_loss: 0.5032 - val_mae: 0.5145\n",
      "Epoch 10/10\n",
      "363/363 [==============================] - 3s 9ms/step - loss: 0.4610 - mae: 0.4902 - val_loss: 0.4924 - val_mae: 0.5100\n"
     ]
    }
   ],
   "source": [
    "history=model.fit(x_train,y_train,epochs=10,\n",
    "                  validation_data=(x_valid,y_valid),callbacks=[checkpoint_cb])"
   ]
  },
  {
   "cell_type": "code",
   "execution_count": 110,
   "id": "32fb6e92",
   "metadata": {},
   "outputs": [],
   "source": [
    "del model\n",
    "keras.backend.clear_session()"
   ]
  },
  {
   "cell_type": "code",
   "execution_count": 111,
   "id": "005357cd",
   "metadata": {},
   "outputs": [],
   "source": [
    "model=keras.models.load_model(\"my_DL_model.h5\")"
   ]
  },
  {
   "cell_type": "code",
   "execution_count": 112,
   "id": "987a6721",
   "metadata": {},
   "outputs": [],
   "source": [
    "model=keras.models.load_model(\"Model-09.h5\")"
   ]
  },
  {
   "cell_type": "code",
   "execution_count": 113,
   "id": "d24cef8f",
   "metadata": {},
   "outputs": [
    {
     "name": "stdout",
     "output_type": "stream",
     "text": [
      "Model: \"sequential\"\n",
      "_________________________________________________________________\n",
      " Layer (type)                Output Shape              Param #   \n",
      "=================================================================\n",
      " dense (Dense)               (None, 30)                270       \n",
      "                                                                 \n",
      " dense_1 (Dense)             (None, 30)                930       \n",
      "                                                                 \n",
      " dense_2 (Dense)             (None, 1)                 31        \n",
      "                                                                 \n",
      "=================================================================\n",
      "Total params: 1,231\n",
      "Trainable params: 1,231\n",
      "Non-trainable params: 0\n",
      "_________________________________________________________________\n"
     ]
    }
   ],
   "source": [
    "model.summary()"
   ]
  },
  {
   "cell_type": "code",
   "execution_count": 114,
   "id": "33bb3c71",
   "metadata": {},
   "outputs": [
    {
     "name": "stdout",
     "output_type": "stream",
     "text": [
      "162/162 [==============================] - 1s 6ms/step - loss: 0.4467 - mae: 0.4853\n"
     ]
    },
    {
     "data": {
      "text/plain": [
       "[0.4467024803161621, 0.4853070378303528]"
      ]
     },
     "execution_count": 114,
     "metadata": {},
     "output_type": "execute_result"
    }
   ],
   "source": [
    "mse_test=model.evaluate(x_test,y_test)\n",
    "mse_test"
   ]
  },
  {
   "cell_type": "markdown",
   "id": "6cc4652c",
   "metadata": {},
   "source": [
    "**Best Model**"
   ]
  },
  {
   "cell_type": "code",
   "execution_count": 115,
   "id": "8f5f1269",
   "metadata": {},
   "outputs": [],
   "source": [
    "del model\n",
    "keras.backend.clear_session()"
   ]
  },
  {
   "cell_type": "code",
   "execution_count": 116,
   "id": "d7e9e3e5",
   "metadata": {},
   "outputs": [],
   "source": [
    "model=keras.models.Sequential(\n",
    "    [\n",
    "        keras.layers.Dense(30,activation=\"relu\",input_shape=[8]),\n",
    "        keras.layers.Dense(30,activation=\"relu\"),\n",
    "        keras.layers.Dense(1)\n",
    "    ]\n",
    ")"
   ]
  },
  {
   "cell_type": "code",
   "execution_count": 117,
   "id": "77279d0b",
   "metadata": {},
   "outputs": [],
   "source": [
    "model.compile(loss=\"mean_squared_error\",\n",
    "             optimizer=keras.optimizers.legacy.SGD(lr=1e-3),\n",
    "              metrics=['mae'])"
   ]
  },
  {
   "cell_type": "code",
   "execution_count": 118,
   "id": "75cfe100",
   "metadata": {},
   "outputs": [],
   "source": [
    "checkpoint_cb=keras.callbacks.ModelCheckpoint(\"Best_Model.h5\",save_best_only=True)"
   ]
  },
  {
   "cell_type": "code",
   "execution_count": 119,
   "id": "7b5ffea0",
   "metadata": {},
   "outputs": [
    {
     "name": "stdout",
     "output_type": "stream",
     "text": [
      "Epoch 1/10\n",
      "363/363 [==============================] - 4s 9ms/step - loss: 1.7793 - mae: 0.9455 - val_loss: 0.8371 - val_mae: 0.6708\n",
      "Epoch 2/10\n",
      "363/363 [==============================] - 3s 9ms/step - loss: 0.7221 - mae: 0.6349 - val_loss: 0.6910 - val_mae: 0.6131\n",
      "Epoch 3/10\n",
      "363/363 [==============================] - 3s 8ms/step - loss: 0.6279 - mae: 0.5872 - val_loss: 0.6288 - val_mae: 0.5777\n",
      "Epoch 4/10\n",
      "363/363 [==============================] - 2s 7ms/step - loss: 0.5766 - mae: 0.5578 - val_loss: 0.5940 - val_mae: 0.5667\n",
      "Epoch 5/10\n",
      "363/363 [==============================] - 3s 8ms/step - loss: 0.5380 - mae: 0.5358 - val_loss: 0.5561 - val_mae: 0.5437\n",
      "Epoch 6/10\n",
      "363/363 [==============================] - 2s 7ms/step - loss: 0.5060 - mae: 0.5181 - val_loss: 0.5321 - val_mae: 0.5323\n",
      "Epoch 7/10\n",
      "363/363 [==============================] - 2s 7ms/step - loss: 0.4814 - mae: 0.5028 - val_loss: 0.5111 - val_mae: 0.5210\n",
      "Epoch 8/10\n",
      "363/363 [==============================] - 3s 8ms/step - loss: 0.4618 - mae: 0.4909 - val_loss: 0.4960 - val_mae: 0.5124\n",
      "Epoch 9/10\n",
      "363/363 [==============================] - 3s 8ms/step - loss: 0.4467 - mae: 0.4822 - val_loss: 0.4841 - val_mae: 0.5059\n",
      "Epoch 10/10\n",
      "363/363 [==============================] - 3s 8ms/step - loss: 0.4350 - mae: 0.4743 - val_loss: 0.4751 - val_mae: 0.5018\n"
     ]
    }
   ],
   "source": [
    "history=model.fit(x_train,y_train,epochs=10,\n",
    "                  validation_data=(x_valid,y_valid),callbacks=[checkpoint_cb])"
   ]
  },
  {
   "cell_type": "code",
   "execution_count": 120,
   "id": "1ed5c7b0",
   "metadata": {},
   "outputs": [
    {
     "name": "stdout",
     "output_type": "stream",
     "text": [
      "Model: \"sequential\"\n",
      "_________________________________________________________________\n",
      " Layer (type)                Output Shape              Param #   \n",
      "=================================================================\n",
      " dense (Dense)               (None, 30)                270       \n",
      "                                                                 \n",
      " dense_1 (Dense)             (None, 30)                930       \n",
      "                                                                 \n",
      " dense_2 (Dense)             (None, 1)                 31        \n",
      "                                                                 \n",
      "=================================================================\n",
      "Total params: 1,231\n",
      "Trainable params: 1,231\n",
      "Non-trainable params: 0\n",
      "_________________________________________________________________\n"
     ]
    }
   ],
   "source": [
    "#rollback to the best model\n",
    "model=keras.models.load_model(\"Best_Model.h5\")\n",
    "model.summary()"
   ]
  },
  {
   "cell_type": "markdown",
   "id": "4954d58c",
   "metadata": {},
   "source": [
    "**Early stop model for better optimization**"
   ]
  },
  {
   "cell_type": "code",
   "execution_count": 121,
   "id": "afdb7090",
   "metadata": {},
   "outputs": [],
   "source": [
    "early_stopping_cb=keras.callbacks.EarlyStopping(patience=10,restore_best_weights=True)\n",
    "#patience- no.of epochs with no improvement after which training will be stopped"
   ]
  },
  {
   "cell_type": "code",
   "execution_count": 122,
   "id": "dc010918",
   "metadata": {},
   "outputs": [],
   "source": [
    "checkpoint_cb=keras.callbacks.ModelCheckpoint(\"early_stop_model.h5\",save_best_only=True)"
   ]
  },
  {
   "cell_type": "code",
   "execution_count": 123,
   "id": "c8c5b6e4",
   "metadata": {},
   "outputs": [
    {
     "name": "stdout",
     "output_type": "stream",
     "text": [
      "Epoch 1/100\n",
      "363/363 [==============================] - 3s 7ms/step - loss: 0.4263 - mae: 0.4689 - val_loss: 0.4675 - val_mae: 0.4982\n",
      "Epoch 2/100\n",
      "363/363 [==============================] - 3s 8ms/step - loss: 0.4188 - mae: 0.4638 - val_loss: 0.4668 - val_mae: 0.5037\n",
      "Epoch 3/100\n",
      "363/363 [==============================] - 2s 7ms/step - loss: 0.4134 - mae: 0.4612 - val_loss: 0.4599 - val_mae: 0.4941\n",
      "Epoch 4/100\n",
      "363/363 [==============================] - 3s 7ms/step - loss: 0.4085 - mae: 0.4575 - val_loss: 0.4586 - val_mae: 0.4983\n",
      "Epoch 5/100\n",
      "363/363 [==============================] - 2s 6ms/step - loss: 0.4045 - mae: 0.4550 - val_loss: 0.4542 - val_mae: 0.4928\n",
      "Epoch 6/100\n",
      "363/363 [==============================] - 2s 6ms/step - loss: 0.4007 - mae: 0.4532 - val_loss: 0.4531 - val_mae: 0.4917\n",
      "Epoch 7/100\n",
      "363/363 [==============================] - 3s 8ms/step - loss: 0.3980 - mae: 0.4509 - val_loss: 0.4512 - val_mae: 0.4911\n",
      "Epoch 8/100\n",
      "363/363 [==============================] - 4s 10ms/step - loss: 0.3952 - mae: 0.4491 - val_loss: 0.4487 - val_mae: 0.4881\n",
      "Epoch 9/100\n",
      "363/363 [==============================] - 4s 11ms/step - loss: 0.3925 - mae: 0.4480 - val_loss: 0.4472 - val_mae: 0.4863\n",
      "Epoch 10/100\n",
      "363/363 [==============================] - 3s 7ms/step - loss: 0.3901 - mae: 0.4462 - val_loss: 0.4461 - val_mae: 0.4860\n",
      "Epoch 11/100\n",
      "363/363 [==============================] - 3s 9ms/step - loss: 0.3886 - mae: 0.4448 - val_loss: 0.4440 - val_mae: 0.4830\n",
      "Epoch 12/100\n",
      "363/363 [==============================] - 3s 8ms/step - loss: 0.3858 - mae: 0.4435 - val_loss: 0.4451 - val_mae: 0.4859\n",
      "Epoch 13/100\n",
      "363/363 [==============================] - 3s 7ms/step - loss: 0.3854 - mae: 0.4427 - val_loss: 0.4439 - val_mae: 0.4888\n",
      "Epoch 14/100\n",
      "363/363 [==============================] - 3s 8ms/step - loss: 0.3824 - mae: 0.4411 - val_loss: 0.4441 - val_mae: 0.4889\n",
      "Epoch 15/100\n",
      "363/363 [==============================] - 3s 8ms/step - loss: 0.3808 - mae: 0.4404 - val_loss: 0.4412 - val_mae: 0.4844\n",
      "Epoch 16/100\n",
      "363/363 [==============================] - 3s 7ms/step - loss: 0.3796 - mae: 0.4397 - val_loss: 0.4411 - val_mae: 0.4863\n",
      "Epoch 17/100\n",
      "363/363 [==============================] - 3s 8ms/step - loss: 0.3779 - mae: 0.4386 - val_loss: 0.4402 - val_mae: 0.4842\n",
      "Epoch 18/100\n",
      "363/363 [==============================] - 3s 8ms/step - loss: 0.3770 - mae: 0.4378 - val_loss: 0.4393 - val_mae: 0.4813\n",
      "Epoch 19/100\n",
      "363/363 [==============================] - 3s 7ms/step - loss: 0.3750 - mae: 0.4366 - val_loss: 0.4395 - val_mae: 0.4821\n",
      "Epoch 20/100\n",
      "363/363 [==============================] - 3s 8ms/step - loss: 0.3741 - mae: 0.4361 - val_loss: 0.4386 - val_mae: 0.4835\n",
      "Epoch 21/100\n",
      "363/363 [==============================] - 3s 7ms/step - loss: 0.3733 - mae: 0.4350 - val_loss: 0.4400 - val_mae: 0.4867\n",
      "Epoch 22/100\n",
      "363/363 [==============================] - 4s 11ms/step - loss: 0.3717 - mae: 0.4348 - val_loss: 0.4399 - val_mae: 0.4859\n",
      "Epoch 23/100\n",
      "363/363 [==============================] - 3s 8ms/step - loss: 0.3712 - mae: 0.4346 - val_loss: 0.4357 - val_mae: 0.4730\n",
      "Epoch 24/100\n",
      "363/363 [==============================] - 3s 9ms/step - loss: 0.3699 - mae: 0.4327 - val_loss: 0.4380 - val_mae: 0.4802\n",
      "Epoch 25/100\n",
      "363/363 [==============================] - 3s 8ms/step - loss: 0.3687 - mae: 0.4327 - val_loss: 0.4349 - val_mae: 0.4773\n",
      "Epoch 26/100\n",
      "363/363 [==============================] - 3s 10ms/step - loss: 0.3680 - mae: 0.4320 - val_loss: 0.4341 - val_mae: 0.4779\n",
      "Epoch 27/100\n",
      "363/363 [==============================] - 3s 7ms/step - loss: 0.3673 - mae: 0.4316 - val_loss: 0.4328 - val_mae: 0.4747\n",
      "Epoch 28/100\n",
      "363/363 [==============================] - 3s 8ms/step - loss: 0.3662 - mae: 0.4305 - val_loss: 0.4349 - val_mae: 0.4810\n",
      "Epoch 29/100\n",
      "363/363 [==============================] - 2s 7ms/step - loss: 0.3655 - mae: 0.4304 - val_loss: 0.4332 - val_mae: 0.4788\n",
      "Epoch 30/100\n",
      "363/363 [==============================] - 3s 7ms/step - loss: 0.3642 - mae: 0.4297 - val_loss: 0.4335 - val_mae: 0.4755\n",
      "Epoch 31/100\n",
      "363/363 [==============================] - 3s 8ms/step - loss: 0.3637 - mae: 0.4287 - val_loss: 0.4326 - val_mae: 0.4748\n",
      "Epoch 32/100\n",
      "363/363 [==============================] - 3s 10ms/step - loss: 0.3624 - mae: 0.4283 - val_loss: 0.4359 - val_mae: 0.4824\n",
      "Epoch 33/100\n",
      "363/363 [==============================] - 3s 8ms/step - loss: 0.3625 - mae: 0.4284 - val_loss: 0.4309 - val_mae: 0.4768\n",
      "Epoch 34/100\n",
      "363/363 [==============================] - 2s 6ms/step - loss: 0.3612 - mae: 0.4273 - val_loss: 0.4314 - val_mae: 0.4762\n",
      "Epoch 35/100\n",
      "363/363 [==============================] - 3s 7ms/step - loss: 0.3602 - mae: 0.4270 - val_loss: 0.4334 - val_mae: 0.4802\n",
      "Epoch 36/100\n",
      "363/363 [==============================] - 3s 9ms/step - loss: 0.3599 - mae: 0.4271 - val_loss: 0.4290 - val_mae: 0.4710\n",
      "Epoch 37/100\n",
      "363/363 [==============================] - 2s 7ms/step - loss: 0.3589 - mae: 0.4258 - val_loss: 0.4303 - val_mae: 0.4756\n",
      "Epoch 38/100\n",
      "363/363 [==============================] - 3s 8ms/step - loss: 0.3582 - mae: 0.4258 - val_loss: 0.4289 - val_mae: 0.4724\n",
      "Epoch 39/100\n",
      "363/363 [==============================] - 3s 9ms/step - loss: 0.3574 - mae: 0.4254 - val_loss: 0.4277 - val_mae: 0.4716\n",
      "Epoch 40/100\n",
      "363/363 [==============================] - 3s 8ms/step - loss: 0.3567 - mae: 0.4249 - val_loss: 0.4270 - val_mae: 0.4683\n",
      "Epoch 41/100\n",
      "363/363 [==============================] - 3s 7ms/step - loss: 0.3560 - mae: 0.4240 - val_loss: 0.4270 - val_mae: 0.4705\n",
      "Epoch 42/100\n",
      "363/363 [==============================] - 3s 9ms/step - loss: 0.3555 - mae: 0.4241 - val_loss: 0.4273 - val_mae: 0.4701\n",
      "Epoch 43/100\n",
      "363/363 [==============================] - 3s 9ms/step - loss: 0.3544 - mae: 0.4229 - val_loss: 0.4276 - val_mae: 0.4709\n",
      "Epoch 44/100\n",
      "363/363 [==============================] - 3s 8ms/step - loss: 0.3540 - mae: 0.4225 - val_loss: 0.4277 - val_mae: 0.4756\n",
      "Epoch 45/100\n",
      "363/363 [==============================] - 3s 9ms/step - loss: 0.3534 - mae: 0.4229 - val_loss: 0.4259 - val_mae: 0.4685\n",
      "Epoch 46/100\n",
      "363/363 [==============================] - 3s 9ms/step - loss: 0.3525 - mae: 0.4213 - val_loss: 0.4256 - val_mae: 0.4681\n",
      "Epoch 47/100\n",
      "363/363 [==============================] - 3s 9ms/step - loss: 0.3521 - mae: 0.4219 - val_loss: 0.4240 - val_mae: 0.4656\n",
      "Epoch 48/100\n",
      "363/363 [==============================] - 2s 5ms/step - loss: 0.3513 - mae: 0.4210 - val_loss: 0.4242 - val_mae: 0.4706\n",
      "Epoch 49/100\n",
      "363/363 [==============================] - 2s 5ms/step - loss: 0.3513 - mae: 0.4208 - val_loss: 0.4233 - val_mae: 0.4688\n",
      "Epoch 50/100\n",
      "363/363 [==============================] - 3s 7ms/step - loss: 0.3503 - mae: 0.4206 - val_loss: 0.4247 - val_mae: 0.4678\n",
      "Epoch 51/100\n",
      "363/363 [==============================] - 3s 9ms/step - loss: 0.3496 - mae: 0.4194 - val_loss: 0.4240 - val_mae: 0.4699\n",
      "Epoch 52/100\n",
      "363/363 [==============================] - 3s 7ms/step - loss: 0.3491 - mae: 0.4198 - val_loss: 0.4240 - val_mae: 0.4648\n",
      "Epoch 53/100\n",
      "363/363 [==============================] - 3s 9ms/step - loss: 0.3485 - mae: 0.4193 - val_loss: 0.4257 - val_mae: 0.4675\n",
      "Epoch 54/100\n",
      "363/363 [==============================] - 2s 7ms/step - loss: 0.3482 - mae: 0.4186 - val_loss: 0.4215 - val_mae: 0.4674\n",
      "Epoch 55/100\n",
      "363/363 [==============================] - 3s 9ms/step - loss: 0.3476 - mae: 0.4188 - val_loss: 0.4226 - val_mae: 0.4655\n",
      "Epoch 56/100\n",
      "363/363 [==============================] - 2s 6ms/step - loss: 0.3468 - mae: 0.4180 - val_loss: 0.4229 - val_mae: 0.4671\n",
      "Epoch 57/100\n",
      "363/363 [==============================] - 3s 7ms/step - loss: 0.3461 - mae: 0.4178 - val_loss: 0.4224 - val_mae: 0.4652\n",
      "Epoch 58/100\n",
      "363/363 [==============================] - 3s 7ms/step - loss: 0.3455 - mae: 0.4171 - val_loss: 0.4250 - val_mae: 0.4649\n",
      "Epoch 59/100\n",
      "363/363 [==============================] - 2s 6ms/step - loss: 0.3456 - mae: 0.4170 - val_loss: 0.4218 - val_mae: 0.4662\n",
      "Epoch 60/100\n",
      "363/363 [==============================] - 3s 7ms/step - loss: 0.3446 - mae: 0.4166 - val_loss: 0.4219 - val_mae: 0.4670\n",
      "Epoch 61/100\n",
      "363/363 [==============================] - 3s 8ms/step - loss: 0.3437 - mae: 0.4159 - val_loss: 0.4228 - val_mae: 0.4722\n",
      "Epoch 62/100\n"
     ]
    },
    {
     "name": "stdout",
     "output_type": "stream",
     "text": [
      "363/363 [==============================] - 2s 6ms/step - loss: 0.3436 - mae: 0.4164 - val_loss: 0.4195 - val_mae: 0.4637\n",
      "Epoch 63/100\n",
      "363/363 [==============================] - 2s 6ms/step - loss: 0.3426 - mae: 0.4151 - val_loss: 0.4232 - val_mae: 0.4711\n",
      "Epoch 64/100\n",
      "363/363 [==============================] - 2s 7ms/step - loss: 0.3426 - mae: 0.4155 - val_loss: 0.4196 - val_mae: 0.4652\n",
      "Epoch 65/100\n",
      "363/363 [==============================] - 2s 6ms/step - loss: 0.3419 - mae: 0.4151 - val_loss: 0.4197 - val_mae: 0.4629\n",
      "Epoch 66/100\n",
      "363/363 [==============================] - 2s 6ms/step - loss: 0.3415 - mae: 0.4144 - val_loss: 0.4213 - val_mae: 0.4650\n",
      "Epoch 67/100\n",
      "363/363 [==============================] - 2s 6ms/step - loss: 0.3408 - mae: 0.4140 - val_loss: 0.4187 - val_mae: 0.4652\n",
      "Epoch 68/100\n",
      "363/363 [==============================] - 3s 8ms/step - loss: 0.3405 - mae: 0.4139 - val_loss: 0.4195 - val_mae: 0.4625\n",
      "Epoch 69/100\n",
      "363/363 [==============================] - 2s 6ms/step - loss: 0.3401 - mae: 0.4131 - val_loss: 0.4202 - val_mae: 0.4653\n",
      "Epoch 70/100\n",
      "363/363 [==============================] - 2s 7ms/step - loss: 0.3394 - mae: 0.4136 - val_loss: 0.4186 - val_mae: 0.4606\n",
      "Epoch 71/100\n",
      "363/363 [==============================] - 2s 6ms/step - loss: 0.3392 - mae: 0.4130 - val_loss: 0.4193 - val_mae: 0.4639\n",
      "Epoch 72/100\n",
      "363/363 [==============================] - 2s 5ms/step - loss: 0.3387 - mae: 0.4125 - val_loss: 0.4194 - val_mae: 0.4633\n",
      "Epoch 73/100\n",
      "363/363 [==============================] - 2s 6ms/step - loss: 0.3380 - mae: 0.4124 - val_loss: 0.4180 - val_mae: 0.4597\n",
      "Epoch 74/100\n",
      "363/363 [==============================] - 3s 7ms/step - loss: 0.3379 - mae: 0.4123 - val_loss: 0.4197 - val_mae: 0.4635\n",
      "Epoch 75/100\n",
      "363/363 [==============================] - 3s 8ms/step - loss: 0.3376 - mae: 0.4115 - val_loss: 0.4212 - val_mae: 0.4653\n",
      "Epoch 76/100\n",
      "363/363 [==============================] - 2s 6ms/step - loss: 0.3370 - mae: 0.4117 - val_loss: 0.4187 - val_mae: 0.4611\n",
      "Epoch 77/100\n",
      "363/363 [==============================] - 3s 7ms/step - loss: 0.3363 - mae: 0.4108 - val_loss: 0.4199 - val_mae: 0.4661\n",
      "Epoch 78/100\n",
      "363/363 [==============================] - 2s 6ms/step - loss: 0.3363 - mae: 0.4112 - val_loss: 0.4197 - val_mae: 0.4629\n",
      "Epoch 79/100\n",
      "363/363 [==============================] - 3s 7ms/step - loss: 0.3358 - mae: 0.4104 - val_loss: 0.4192 - val_mae: 0.4621\n",
      "Epoch 80/100\n",
      "363/363 [==============================] - 2s 7ms/step - loss: 0.3354 - mae: 0.4104 - val_loss: 0.4176 - val_mae: 0.4607\n",
      "Epoch 81/100\n",
      "363/363 [==============================] - 2s 6ms/step - loss: 0.3351 - mae: 0.4102 - val_loss: 0.4161 - val_mae: 0.4587\n",
      "Epoch 82/100\n",
      "363/363 [==============================] - 3s 7ms/step - loss: 0.3345 - mae: 0.4098 - val_loss: 0.4163 - val_mae: 0.4602\n",
      "Epoch 83/100\n",
      "363/363 [==============================] - 2s 6ms/step - loss: 0.3341 - mae: 0.4095 - val_loss: 0.4177 - val_mae: 0.4603\n",
      "Epoch 84/100\n",
      "363/363 [==============================] - 2s 5ms/step - loss: 0.3335 - mae: 0.4089 - val_loss: 0.4177 - val_mae: 0.4628\n",
      "Epoch 85/100\n",
      "363/363 [==============================] - 2s 6ms/step - loss: 0.3335 - mae: 0.4090 - val_loss: 0.4177 - val_mae: 0.4563\n",
      "Epoch 86/100\n",
      "363/363 [==============================] - 2s 6ms/step - loss: 0.3330 - mae: 0.4083 - val_loss: 0.4164 - val_mae: 0.4576\n",
      "Epoch 87/100\n",
      "363/363 [==============================] - 2s 5ms/step - loss: 0.3326 - mae: 0.4084 - val_loss: 0.4178 - val_mae: 0.4625\n",
      "Epoch 88/100\n",
      "363/363 [==============================] - 3s 8ms/step - loss: 0.3320 - mae: 0.4082 - val_loss: 0.4154 - val_mae: 0.4566\n",
      "Epoch 89/100\n",
      "363/363 [==============================] - 3s 8ms/step - loss: 0.3316 - mae: 0.4077 - val_loss: 0.4181 - val_mae: 0.4599\n",
      "Epoch 90/100\n",
      "363/363 [==============================] - 2s 6ms/step - loss: 0.3318 - mae: 0.4075 - val_loss: 0.4170 - val_mae: 0.4622\n",
      "Epoch 91/100\n",
      "363/363 [==============================] - 2s 6ms/step - loss: 0.3311 - mae: 0.4071 - val_loss: 0.4172 - val_mae: 0.4583\n",
      "Epoch 92/100\n",
      "363/363 [==============================] - 2s 6ms/step - loss: 0.3308 - mae: 0.4071 - val_loss: 0.4161 - val_mae: 0.4601\n",
      "Epoch 93/100\n",
      "363/363 [==============================] - 3s 7ms/step - loss: 0.3303 - mae: 0.4066 - val_loss: 0.4172 - val_mae: 0.4604\n",
      "Epoch 94/100\n",
      "363/363 [==============================] - 2s 7ms/step - loss: 0.3302 - mae: 0.4060 - val_loss: 0.4156 - val_mae: 0.4625\n",
      "Epoch 95/100\n",
      "363/363 [==============================] - 2s 6ms/step - loss: 0.3295 - mae: 0.4066 - val_loss: 0.4191 - val_mae: 0.4586\n",
      "Epoch 96/100\n",
      "363/363 [==============================] - 3s 7ms/step - loss: 0.3303 - mae: 0.4059 - val_loss: 0.4154 - val_mae: 0.4612\n",
      "Epoch 97/100\n",
      "363/363 [==============================] - 3s 8ms/step - loss: 0.3293 - mae: 0.4059 - val_loss: 0.4169 - val_mae: 0.4585\n",
      "Epoch 98/100\n",
      "363/363 [==============================] - 2s 6ms/step - loss: 0.3294 - mae: 0.4054 - val_loss: 0.4136 - val_mae: 0.4596\n",
      "Epoch 99/100\n",
      "363/363 [==============================] - 2s 6ms/step - loss: 0.3286 - mae: 0.4052 - val_loss: 0.4157 - val_mae: 0.4596\n",
      "Epoch 100/100\n",
      "363/363 [==============================] - 3s 7ms/step - loss: 0.3280 - mae: 0.4052 - val_loss: 0.4154 - val_mae: 0.4592\n"
     ]
    }
   ],
   "source": [
    "history=model.fit(x_train,y_train,epochs=100,\n",
    "                  validation_data=(x_valid,y_valid),callbacks=[checkpoint_cb,early_stopping_cb])\n",
    "#it will be better if the range of epoch is 200.. "
   ]
  },
  {
   "cell_type": "code",
   "execution_count": 124,
   "id": "3a5ab974",
   "metadata": {},
   "outputs": [
    {
     "name": "stdout",
     "output_type": "stream",
     "text": [
      "162/162 [==============================] - 1s 5ms/step - loss: 0.3754 - mae: 0.4383\n"
     ]
    }
   ],
   "source": [
    "model=keras.models.load_model(\"early_stop_model.h5\")\n",
    "mse_test=model.evaluate(x_test,y_test)"
   ]
  },
  {
   "cell_type": "markdown",
   "id": "c7524e11",
   "metadata": {},
   "source": [
    "## CNN Model"
   ]
  },
  {
   "cell_type": "code",
   "execution_count": 126,
   "id": "ba38737c",
   "metadata": {},
   "outputs": [],
   "source": [
    "import numpy as np\n",
    "import pandas as pd\n",
    "import tensorflow as tf\n",
    "from tensorflow import keras\n",
    "import seaborn as sns\n",
    "import matplotlib.pyplot as plt\n",
    "import matplotlib\n",
    "%matplotlib inline\n",
    "matplotlib.rcParams['figure.figsize']=(10,6)"
   ]
  },
  {
   "cell_type": "code",
   "execution_count": 127,
   "id": "6d20931c",
   "metadata": {},
   "outputs": [
    {
     "data": {
      "text/plain": [
       "<module 'keras.api._v2.keras.datasets.fashion_mnist' from 'C:\\\\Anaconda Navigator\\\\lib\\\\site-packages\\\\keras\\\\api\\\\_v2\\\\keras\\\\datasets\\\\fashion_mnist\\\\__init__.py'>"
      ]
     },
     "execution_count": 127,
     "metadata": {},
     "output_type": "execute_result"
    }
   ],
   "source": [
    "fashions_df=keras.datasets.fashion_mnist\n",
    "fashions_df"
   ]
  },
  {
   "cell_type": "code",
   "execution_count": 128,
   "id": "7db1478b",
   "metadata": {},
   "outputs": [],
   "source": [
    "(x_train_full,y_train_full),(x_test,y_test)=fashions_df.load_data()"
   ]
  },
  {
   "cell_type": "code",
   "execution_count": 130,
   "id": "f9d90e47",
   "metadata": {},
   "outputs": [
    {
     "data": {
      "text/plain": [
       "array([[[0, 0, 0, ..., 0, 0, 0],\n",
       "        [0, 0, 0, ..., 0, 0, 0],\n",
       "        [0, 0, 0, ..., 0, 0, 0],\n",
       "        ...,\n",
       "        [0, 0, 0, ..., 0, 0, 0],\n",
       "        [0, 0, 0, ..., 0, 0, 0],\n",
       "        [0, 0, 0, ..., 0, 0, 0]],\n",
       "\n",
       "       [[0, 0, 0, ..., 0, 0, 0],\n",
       "        [0, 0, 0, ..., 0, 0, 0],\n",
       "        [0, 0, 0, ..., 0, 0, 0],\n",
       "        ...,\n",
       "        [0, 0, 0, ..., 0, 0, 0],\n",
       "        [0, 0, 0, ..., 0, 0, 0],\n",
       "        [0, 0, 0, ..., 0, 0, 0]],\n",
       "\n",
       "       [[0, 0, 0, ..., 0, 0, 0],\n",
       "        [0, 0, 0, ..., 0, 0, 0],\n",
       "        [0, 0, 0, ..., 0, 0, 0],\n",
       "        ...,\n",
       "        [0, 0, 0, ..., 0, 0, 0],\n",
       "        [0, 0, 0, ..., 0, 0, 0],\n",
       "        [0, 0, 0, ..., 0, 0, 0]],\n",
       "\n",
       "       ...,\n",
       "\n",
       "       [[0, 0, 0, ..., 0, 0, 0],\n",
       "        [0, 0, 0, ..., 0, 0, 0],\n",
       "        [0, 0, 0, ..., 0, 0, 0],\n",
       "        ...,\n",
       "        [0, 0, 0, ..., 0, 0, 0],\n",
       "        [0, 0, 0, ..., 0, 0, 0],\n",
       "        [0, 0, 0, ..., 0, 0, 0]],\n",
       "\n",
       "       [[0, 0, 0, ..., 0, 0, 0],\n",
       "        [0, 0, 0, ..., 0, 0, 0],\n",
       "        [0, 0, 0, ..., 0, 0, 0],\n",
       "        ...,\n",
       "        [0, 0, 0, ..., 0, 0, 0],\n",
       "        [0, 0, 0, ..., 0, 0, 0],\n",
       "        [0, 0, 0, ..., 0, 0, 0]],\n",
       "\n",
       "       [[0, 0, 0, ..., 0, 0, 0],\n",
       "        [0, 0, 0, ..., 0, 0, 0],\n",
       "        [0, 0, 0, ..., 0, 0, 0],\n",
       "        ...,\n",
       "        [0, 0, 0, ..., 0, 0, 0],\n",
       "        [0, 0, 0, ..., 0, 0, 0],\n",
       "        [0, 0, 0, ..., 0, 0, 0]]], dtype=uint8)"
      ]
     },
     "execution_count": 130,
     "metadata": {},
     "output_type": "execute_result"
    }
   ],
   "source": [
    "x_train_full"
   ]
  },
  {
   "cell_type": "code",
   "execution_count": 131,
   "id": "5894b2a8",
   "metadata": {},
   "outputs": [
    {
     "data": {
      "text/plain": [
       "['T-shirt/top',\n",
       " 'Trouser',\n",
       " 'Pullover',\n",
       " 'Dress',\n",
       " 'Coat',\n",
       " 'Sandal',\n",
       " 'Shirt',\n",
       " 'Sneaker',\n",
       " 'Bag',\n",
       " 'Ankle Boot']"
      ]
     },
     "execution_count": 131,
     "metadata": {},
     "output_type": "execute_result"
    }
   ],
   "source": [
    "class_names=[\"T-shirt/top\",\"Trouser\",\"Pullover\",\"Dress\",\"Coat\",\"Sandal\"\n",
    "            ,\"Shirt\",\"Sneaker\",\"Bag\",\"Ankle Boot\"]\n",
    "class_names"
   ]
  },
  {
   "cell_type": "code",
   "execution_count": 133,
   "id": "c9962c3c",
   "metadata": {},
   "outputs": [],
   "source": [
    "#Data Reshape\n",
    "x_train_fulls=x_train_full.reshape((60000,28,28,1))\n",
    "x_tests=x_test.reshape((10000,28,28,1)) #1-channel"
   ]
  },
  {
   "cell_type": "code",
   "execution_count": 134,
   "id": "47c814d3",
   "metadata": {},
   "outputs": [
    {
     "data": {
      "text/plain": [
       "array([[[[0],\n",
       "         [0],\n",
       "         [0],\n",
       "         ...,\n",
       "         [0],\n",
       "         [0],\n",
       "         [0]],\n",
       "\n",
       "        [[0],\n",
       "         [0],\n",
       "         [0],\n",
       "         ...,\n",
       "         [0],\n",
       "         [0],\n",
       "         [0]],\n",
       "\n",
       "        [[0],\n",
       "         [0],\n",
       "         [0],\n",
       "         ...,\n",
       "         [0],\n",
       "         [0],\n",
       "         [0]],\n",
       "\n",
       "        ...,\n",
       "\n",
       "        [[0],\n",
       "         [0],\n",
       "         [0],\n",
       "         ...,\n",
       "         [0],\n",
       "         [0],\n",
       "         [0]],\n",
       "\n",
       "        [[0],\n",
       "         [0],\n",
       "         [0],\n",
       "         ...,\n",
       "         [0],\n",
       "         [0],\n",
       "         [0]],\n",
       "\n",
       "        [[0],\n",
       "         [0],\n",
       "         [0],\n",
       "         ...,\n",
       "         [0],\n",
       "         [0],\n",
       "         [0]]],\n",
       "\n",
       "\n",
       "       [[[0],\n",
       "         [0],\n",
       "         [0],\n",
       "         ...,\n",
       "         [0],\n",
       "         [0],\n",
       "         [0]],\n",
       "\n",
       "        [[0],\n",
       "         [0],\n",
       "         [0],\n",
       "         ...,\n",
       "         [0],\n",
       "         [0],\n",
       "         [0]],\n",
       "\n",
       "        [[0],\n",
       "         [0],\n",
       "         [0],\n",
       "         ...,\n",
       "         [0],\n",
       "         [0],\n",
       "         [0]],\n",
       "\n",
       "        ...,\n",
       "\n",
       "        [[0],\n",
       "         [0],\n",
       "         [0],\n",
       "         ...,\n",
       "         [0],\n",
       "         [0],\n",
       "         [0]],\n",
       "\n",
       "        [[0],\n",
       "         [0],\n",
       "         [0],\n",
       "         ...,\n",
       "         [0],\n",
       "         [0],\n",
       "         [0]],\n",
       "\n",
       "        [[0],\n",
       "         [0],\n",
       "         [0],\n",
       "         ...,\n",
       "         [0],\n",
       "         [0],\n",
       "         [0]]],\n",
       "\n",
       "\n",
       "       [[[0],\n",
       "         [0],\n",
       "         [0],\n",
       "         ...,\n",
       "         [0],\n",
       "         [0],\n",
       "         [0]],\n",
       "\n",
       "        [[0],\n",
       "         [0],\n",
       "         [0],\n",
       "         ...,\n",
       "         [0],\n",
       "         [0],\n",
       "         [0]],\n",
       "\n",
       "        [[0],\n",
       "         [0],\n",
       "         [0],\n",
       "         ...,\n",
       "         [0],\n",
       "         [0],\n",
       "         [0]],\n",
       "\n",
       "        ...,\n",
       "\n",
       "        [[0],\n",
       "         [0],\n",
       "         [0],\n",
       "         ...,\n",
       "         [0],\n",
       "         [0],\n",
       "         [0]],\n",
       "\n",
       "        [[0],\n",
       "         [0],\n",
       "         [0],\n",
       "         ...,\n",
       "         [0],\n",
       "         [0],\n",
       "         [0]],\n",
       "\n",
       "        [[0],\n",
       "         [0],\n",
       "         [0],\n",
       "         ...,\n",
       "         [0],\n",
       "         [0],\n",
       "         [0]]],\n",
       "\n",
       "\n",
       "       ...,\n",
       "\n",
       "\n",
       "       [[[0],\n",
       "         [0],\n",
       "         [0],\n",
       "         ...,\n",
       "         [0],\n",
       "         [0],\n",
       "         [0]],\n",
       "\n",
       "        [[0],\n",
       "         [0],\n",
       "         [0],\n",
       "         ...,\n",
       "         [0],\n",
       "         [0],\n",
       "         [0]],\n",
       "\n",
       "        [[0],\n",
       "         [0],\n",
       "         [0],\n",
       "         ...,\n",
       "         [0],\n",
       "         [0],\n",
       "         [0]],\n",
       "\n",
       "        ...,\n",
       "\n",
       "        [[0],\n",
       "         [0],\n",
       "         [0],\n",
       "         ...,\n",
       "         [0],\n",
       "         [0],\n",
       "         [0]],\n",
       "\n",
       "        [[0],\n",
       "         [0],\n",
       "         [0],\n",
       "         ...,\n",
       "         [0],\n",
       "         [0],\n",
       "         [0]],\n",
       "\n",
       "        [[0],\n",
       "         [0],\n",
       "         [0],\n",
       "         ...,\n",
       "         [0],\n",
       "         [0],\n",
       "         [0]]],\n",
       "\n",
       "\n",
       "       [[[0],\n",
       "         [0],\n",
       "         [0],\n",
       "         ...,\n",
       "         [0],\n",
       "         [0],\n",
       "         [0]],\n",
       "\n",
       "        [[0],\n",
       "         [0],\n",
       "         [0],\n",
       "         ...,\n",
       "         [0],\n",
       "         [0],\n",
       "         [0]],\n",
       "\n",
       "        [[0],\n",
       "         [0],\n",
       "         [0],\n",
       "         ...,\n",
       "         [0],\n",
       "         [0],\n",
       "         [0]],\n",
       "\n",
       "        ...,\n",
       "\n",
       "        [[0],\n",
       "         [0],\n",
       "         [0],\n",
       "         ...,\n",
       "         [0],\n",
       "         [0],\n",
       "         [0]],\n",
       "\n",
       "        [[0],\n",
       "         [0],\n",
       "         [0],\n",
       "         ...,\n",
       "         [0],\n",
       "         [0],\n",
       "         [0]],\n",
       "\n",
       "        [[0],\n",
       "         [0],\n",
       "         [0],\n",
       "         ...,\n",
       "         [0],\n",
       "         [0],\n",
       "         [0]]],\n",
       "\n",
       "\n",
       "       [[[0],\n",
       "         [0],\n",
       "         [0],\n",
       "         ...,\n",
       "         [0],\n",
       "         [0],\n",
       "         [0]],\n",
       "\n",
       "        [[0],\n",
       "         [0],\n",
       "         [0],\n",
       "         ...,\n",
       "         [0],\n",
       "         [0],\n",
       "         [0]],\n",
       "\n",
       "        [[0],\n",
       "         [0],\n",
       "         [0],\n",
       "         ...,\n",
       "         [0],\n",
       "         [0],\n",
       "         [0]],\n",
       "\n",
       "        ...,\n",
       "\n",
       "        [[0],\n",
       "         [0],\n",
       "         [0],\n",
       "         ...,\n",
       "         [0],\n",
       "         [0],\n",
       "         [0]],\n",
       "\n",
       "        [[0],\n",
       "         [0],\n",
       "         [0],\n",
       "         ...,\n",
       "         [0],\n",
       "         [0],\n",
       "         [0]],\n",
       "\n",
       "        [[0],\n",
       "         [0],\n",
       "         [0],\n",
       "         ...,\n",
       "         [0],\n",
       "         [0],\n",
       "         [0]]]], dtype=uint8)"
      ]
     },
     "execution_count": 134,
     "metadata": {},
     "output_type": "execute_result"
    }
   ],
   "source": [
    "x_train_fulls"
   ]
  },
  {
   "cell_type": "code",
   "execution_count": 135,
   "id": "630fd497",
   "metadata": {},
   "outputs": [
    {
     "data": {
      "text/plain": [
       "array([[[[0],\n",
       "         [0],\n",
       "         [0],\n",
       "         ...,\n",
       "         [0],\n",
       "         [0],\n",
       "         [0]],\n",
       "\n",
       "        [[0],\n",
       "         [0],\n",
       "         [0],\n",
       "         ...,\n",
       "         [0],\n",
       "         [0],\n",
       "         [0]],\n",
       "\n",
       "        [[0],\n",
       "         [0],\n",
       "         [0],\n",
       "         ...,\n",
       "         [0],\n",
       "         [0],\n",
       "         [0]],\n",
       "\n",
       "        ...,\n",
       "\n",
       "        [[0],\n",
       "         [0],\n",
       "         [0],\n",
       "         ...,\n",
       "         [0],\n",
       "         [0],\n",
       "         [0]],\n",
       "\n",
       "        [[0],\n",
       "         [0],\n",
       "         [0],\n",
       "         ...,\n",
       "         [0],\n",
       "         [0],\n",
       "         [0]],\n",
       "\n",
       "        [[0],\n",
       "         [0],\n",
       "         [0],\n",
       "         ...,\n",
       "         [0],\n",
       "         [0],\n",
       "         [0]]],\n",
       "\n",
       "\n",
       "       [[[0],\n",
       "         [0],\n",
       "         [0],\n",
       "         ...,\n",
       "         [0],\n",
       "         [0],\n",
       "         [0]],\n",
       "\n",
       "        [[0],\n",
       "         [0],\n",
       "         [0],\n",
       "         ...,\n",
       "         [0],\n",
       "         [0],\n",
       "         [0]],\n",
       "\n",
       "        [[0],\n",
       "         [0],\n",
       "         [0],\n",
       "         ...,\n",
       "         [0],\n",
       "         [0],\n",
       "         [0]],\n",
       "\n",
       "        ...,\n",
       "\n",
       "        [[0],\n",
       "         [0],\n",
       "         [0],\n",
       "         ...,\n",
       "         [0],\n",
       "         [0],\n",
       "         [0]],\n",
       "\n",
       "        [[0],\n",
       "         [0],\n",
       "         [0],\n",
       "         ...,\n",
       "         [0],\n",
       "         [0],\n",
       "         [0]],\n",
       "\n",
       "        [[0],\n",
       "         [0],\n",
       "         [0],\n",
       "         ...,\n",
       "         [0],\n",
       "         [0],\n",
       "         [0]]],\n",
       "\n",
       "\n",
       "       [[[0],\n",
       "         [0],\n",
       "         [0],\n",
       "         ...,\n",
       "         [0],\n",
       "         [0],\n",
       "         [0]],\n",
       "\n",
       "        [[0],\n",
       "         [0],\n",
       "         [0],\n",
       "         ...,\n",
       "         [0],\n",
       "         [0],\n",
       "         [0]],\n",
       "\n",
       "        [[0],\n",
       "         [0],\n",
       "         [0],\n",
       "         ...,\n",
       "         [0],\n",
       "         [0],\n",
       "         [0]],\n",
       "\n",
       "        ...,\n",
       "\n",
       "        [[0],\n",
       "         [0],\n",
       "         [0],\n",
       "         ...,\n",
       "         [0],\n",
       "         [0],\n",
       "         [0]],\n",
       "\n",
       "        [[0],\n",
       "         [0],\n",
       "         [0],\n",
       "         ...,\n",
       "         [0],\n",
       "         [0],\n",
       "         [0]],\n",
       "\n",
       "        [[0],\n",
       "         [0],\n",
       "         [0],\n",
       "         ...,\n",
       "         [0],\n",
       "         [0],\n",
       "         [0]]],\n",
       "\n",
       "\n",
       "       ...,\n",
       "\n",
       "\n",
       "       [[[0],\n",
       "         [0],\n",
       "         [0],\n",
       "         ...,\n",
       "         [0],\n",
       "         [0],\n",
       "         [0]],\n",
       "\n",
       "        [[0],\n",
       "         [0],\n",
       "         [0],\n",
       "         ...,\n",
       "         [0],\n",
       "         [0],\n",
       "         [0]],\n",
       "\n",
       "        [[0],\n",
       "         [0],\n",
       "         [0],\n",
       "         ...,\n",
       "         [0],\n",
       "         [0],\n",
       "         [0]],\n",
       "\n",
       "        ...,\n",
       "\n",
       "        [[0],\n",
       "         [0],\n",
       "         [0],\n",
       "         ...,\n",
       "         [0],\n",
       "         [0],\n",
       "         [0]],\n",
       "\n",
       "        [[0],\n",
       "         [0],\n",
       "         [0],\n",
       "         ...,\n",
       "         [0],\n",
       "         [0],\n",
       "         [0]],\n",
       "\n",
       "        [[0],\n",
       "         [0],\n",
       "         [0],\n",
       "         ...,\n",
       "         [0],\n",
       "         [0],\n",
       "         [0]]],\n",
       "\n",
       "\n",
       "       [[[0],\n",
       "         [0],\n",
       "         [0],\n",
       "         ...,\n",
       "         [0],\n",
       "         [0],\n",
       "         [0]],\n",
       "\n",
       "        [[0],\n",
       "         [0],\n",
       "         [0],\n",
       "         ...,\n",
       "         [0],\n",
       "         [0],\n",
       "         [0]],\n",
       "\n",
       "        [[0],\n",
       "         [0],\n",
       "         [0],\n",
       "         ...,\n",
       "         [0],\n",
       "         [0],\n",
       "         [0]],\n",
       "\n",
       "        ...,\n",
       "\n",
       "        [[0],\n",
       "         [0],\n",
       "         [0],\n",
       "         ...,\n",
       "         [0],\n",
       "         [0],\n",
       "         [0]],\n",
       "\n",
       "        [[0],\n",
       "         [0],\n",
       "         [0],\n",
       "         ...,\n",
       "         [0],\n",
       "         [0],\n",
       "         [0]],\n",
       "\n",
       "        [[0],\n",
       "         [0],\n",
       "         [0],\n",
       "         ...,\n",
       "         [0],\n",
       "         [0],\n",
       "         [0]]],\n",
       "\n",
       "\n",
       "       [[[0],\n",
       "         [0],\n",
       "         [0],\n",
       "         ...,\n",
       "         [0],\n",
       "         [0],\n",
       "         [0]],\n",
       "\n",
       "        [[0],\n",
       "         [0],\n",
       "         [0],\n",
       "         ...,\n",
       "         [0],\n",
       "         [0],\n",
       "         [0]],\n",
       "\n",
       "        [[0],\n",
       "         [0],\n",
       "         [0],\n",
       "         ...,\n",
       "         [0],\n",
       "         [0],\n",
       "         [0]],\n",
       "\n",
       "        ...,\n",
       "\n",
       "        [[0],\n",
       "         [0],\n",
       "         [0],\n",
       "         ...,\n",
       "         [0],\n",
       "         [0],\n",
       "         [0]],\n",
       "\n",
       "        [[0],\n",
       "         [0],\n",
       "         [0],\n",
       "         ...,\n",
       "         [0],\n",
       "         [0],\n",
       "         [0]],\n",
       "\n",
       "        [[0],\n",
       "         [0],\n",
       "         [0],\n",
       "         ...,\n",
       "         [0],\n",
       "         [0],\n",
       "         [0]]]], dtype=uint8)"
      ]
     },
     "execution_count": 135,
     "metadata": {},
     "output_type": "execute_result"
    }
   ],
   "source": [
    "x_tests"
   ]
  },
  {
   "cell_type": "code",
   "execution_count": 136,
   "id": "0e593f19",
   "metadata": {},
   "outputs": [],
   "source": [
    "#Data Normalization\n",
    "x_train_n=x_train_full/255.\n",
    "x_test_n=x_test/255."
   ]
  },
  {
   "cell_type": "code",
   "execution_count": 137,
   "id": "83d4c569",
   "metadata": {},
   "outputs": [],
   "source": [
    "#Splitting the data\n",
    "x_valid,x_train=x_train_n[:5000],x_train_n[5000:]\n",
    "y_valid,y_train=y_train_full[:5000],y_train_full[5000:]"
   ]
  },
  {
   "cell_type": "code",
   "execution_count": 138,
   "id": "7fcd9618",
   "metadata": {},
   "outputs": [],
   "source": [
    "#creating model architecture \n",
    "np.random.seed(42)\n",
    "tf.random.set_seed(42)"
   ]
  },
  {
   "cell_type": "code",
   "execution_count": 145,
   "id": "315a999f",
   "metadata": {},
   "outputs": [],
   "source": [
    "#pooling\n",
    "model=keras.models.Sequential()\n",
    "model.add(keras.layers.Conv2D(filters=32,kernel_size=(3,3),strides=1,padding='valid',activation='relu',input_shape=(28,28,1)))\n",
    "model.add(keras.layers.MaxPooling2D((2,2)))\n",
    "model.add(keras.layers.Flatten())\n",
    "model.add(keras.layers.Dense(300,activation=\"relu\"))\n",
    "model.add(keras.layers.Dense(100,activation=\"relu\"))\n",
    "model.add(keras.layers.Dense(10,activation=\"softmax\"))"
   ]
  },
  {
   "cell_type": "code",
   "execution_count": 146,
   "id": "31ae0083",
   "metadata": {},
   "outputs": [
    {
     "name": "stdout",
     "output_type": "stream",
     "text": [
      "Model: \"sequential_3\"\n",
      "_________________________________________________________________\n",
      " Layer (type)                Output Shape              Param #   \n",
      "=================================================================\n",
      " conv2d (Conv2D)             (None, 26, 26, 32)        320       \n",
      "                                                                 \n",
      " max_pooling2d (MaxPooling2D  (None, 13, 13, 32)       0         \n",
      " )                                                               \n",
      "                                                                 \n",
      " flatten (Flatten)           (None, 5408)              0         \n",
      "                                                                 \n",
      " dense_3 (Dense)             (None, 300)               1622700   \n",
      "                                                                 \n",
      " dense_4 (Dense)             (None, 100)               30100     \n",
      "                                                                 \n",
      " dense_5 (Dense)             (None, 10)                1010      \n",
      "                                                                 \n",
      "=================================================================\n",
      "Total params: 1,654,130\n",
      "Trainable params: 1,654,130\n",
      "Non-trainable params: 0\n",
      "_________________________________________________________________\n"
     ]
    }
   ],
   "source": [
    "model.summary()"
   ]
  },
  {
   "cell_type": "code",
   "execution_count": 147,
   "id": "4bedb472",
   "metadata": {},
   "outputs": [],
   "source": [
    "model.compile(loss=\"sparse_categorical_crossentropy\",\n",
    "             optimizer=\"sgd\",\n",
    "              metrics=['accuracy'])"
   ]
  },
  {
   "cell_type": "code",
   "execution_count": 148,
   "id": "78295cf3",
   "metadata": {},
   "outputs": [
    {
     "name": "stdout",
     "output_type": "stream",
     "text": [
      "Epoch 1/10\n",
      "860/860 [==============================] - 29s 33ms/step - loss: 0.8531 - accuracy: 0.7139 - val_loss: 0.7951 - val_accuracy: 0.7148\n",
      "Epoch 2/10\n",
      "860/860 [==============================] - 27s 32ms/step - loss: 0.5384 - accuracy: 0.8038 - val_loss: 0.5050 - val_accuracy: 0.8102\n",
      "Epoch 3/10\n",
      "860/860 [==============================] - 29s 34ms/step - loss: 0.4831 - accuracy: 0.8261 - val_loss: 1.0455 - val_accuracy: 0.6932\n",
      "Epoch 4/10\n",
      "860/860 [==============================] - 27s 31ms/step - loss: 0.4458 - accuracy: 0.8409 - val_loss: 0.4120 - val_accuracy: 0.8604\n",
      "Epoch 5/10\n",
      "860/860 [==============================] - 27s 32ms/step - loss: 0.4236 - accuracy: 0.8479 - val_loss: 0.4344 - val_accuracy: 0.8454\n",
      "Epoch 6/10\n",
      "860/860 [==============================] - 26s 30ms/step - loss: 0.3999 - accuracy: 0.8564 - val_loss: 0.3801 - val_accuracy: 0.8676\n",
      "Epoch 7/10\n",
      "860/860 [==============================] - 27s 31ms/step - loss: 0.3828 - accuracy: 0.8631 - val_loss: 0.4115 - val_accuracy: 0.8542\n",
      "Epoch 8/10\n",
      "860/860 [==============================] - 27s 32ms/step - loss: 0.3679 - accuracy: 0.8685 - val_loss: 0.4933 - val_accuracy: 0.8184\n",
      "Epoch 9/10\n",
      "860/860 [==============================] - 25s 29ms/step - loss: 0.3546 - accuracy: 0.8717 - val_loss: 0.3791 - val_accuracy: 0.8626\n",
      "Epoch 10/10\n",
      "860/860 [==============================] - 24s 28ms/step - loss: 0.3430 - accuracy: 0.8759 - val_loss: 0.3968 - val_accuracy: 0.8520\n"
     ]
    }
   ],
   "source": [
    "model_history=model.fit(x_train,y_train,epochs=10,batch_size=64,\n",
    "                  validation_data=(x_valid,y_valid))"
   ]
  },
  {
   "cell_type": "code",
   "execution_count": 150,
   "id": "aa68422a",
   "metadata": {},
   "outputs": [
    {
     "data": {
      "text/plain": [
       "{'loss': [0.8531251549720764,\n",
       "  0.5383834838867188,\n",
       "  0.48307111859321594,\n",
       "  0.44575241208076477,\n",
       "  0.42355725169181824,\n",
       "  0.3998827636241913,\n",
       "  0.38279154896736145,\n",
       "  0.36788180470466614,\n",
       "  0.354586124420166,\n",
       "  0.342979371547699],\n",
       " 'accuracy': [0.7138909101486206,\n",
       "  0.8037999868392944,\n",
       "  0.8261091113090515,\n",
       "  0.840927243232727,\n",
       "  0.8479454517364502,\n",
       "  0.8564363718032837,\n",
       "  0.8631272912025452,\n",
       "  0.8685454726219177,\n",
       "  0.8717091083526611,\n",
       "  0.8758909106254578],\n",
       " 'val_loss': [0.7950780391693115,\n",
       "  0.505018413066864,\n",
       "  1.0454601049423218,\n",
       "  0.41198331117630005,\n",
       "  0.43442681431770325,\n",
       "  0.3800850510597229,\n",
       "  0.4115312099456787,\n",
       "  0.49326401948928833,\n",
       "  0.37907668948173523,\n",
       "  0.3968159556388855],\n",
       " 'val_accuracy': [0.7148000001907349,\n",
       "  0.8101999759674072,\n",
       "  0.6931999921798706,\n",
       "  0.8604000210762024,\n",
       "  0.8453999757766724,\n",
       "  0.8676000237464905,\n",
       "  0.854200005531311,\n",
       "  0.8184000253677368,\n",
       "  0.8626000285148621,\n",
       "  0.8519999980926514]}"
      ]
     },
     "execution_count": 150,
     "metadata": {},
     "output_type": "execute_result"
    }
   ],
   "source": [
    "model_history.history"
   ]
  },
  {
   "cell_type": "code",
   "execution_count": 155,
   "id": "bd62c13f",
   "metadata": {},
   "outputs": [
    {
     "data": {
      "image/png": "[encoded data removed]",
      "text/plain": [
       "<Figure size 720x432 with 1 Axes>"
      ]
     },
     "metadata": {
      "needs_background": "light"
     },
     "output_type": "display_data"
    }
   ],
   "source": [
    "pd.DataFrame(model_history.history)\n",
    "plt.grid(True)\n",
    "plt.gca().set_ylim(0,50)\n",
    "plt.show()"
   ]
  },
  {
   "cell_type": "code",
   "execution_count": 156,
   "id": "2e2b7825",
   "metadata": {},
   "outputs": [
    {
     "name": "stdout",
     "output_type": "stream",
     "text": [
      "313/313 [==============================] - 2s 8ms/step - loss: 0.4360 - accuracy: 0.8370\n"
     ]
    },
    {
     "data": {
      "text/plain": [
       "[0.43601563572883606, 0.8370000123977661]"
      ]
     },
     "execution_count": 156,
     "metadata": {},
     "output_type": "execute_result"
    }
   ],
   "source": [
    "evaluate=model.evaluate(x_test_n,y_test)\n",
    "evaluate"
   ]
  },
  {
   "cell_type": "code",
   "execution_count": 157,
   "id": "bd771e73",
   "metadata": {},
   "outputs": [
    {
     "data": {
      "text/plain": [
       "array([[[[0],\n",
       "         [0],\n",
       "         [0],\n",
       "         ...,\n",
       "         [0],\n",
       "         [0],\n",
       "         [0]],\n",
       "\n",
       "        [[0],\n",
       "         [0],\n",
       "         [0],\n",
       "         ...,\n",
       "         [0],\n",
       "         [0],\n",
       "         [0]],\n",
       "\n",
       "        [[0],\n",
       "         [0],\n",
       "         [0],\n",
       "         ...,\n",
       "         [0],\n",
       "         [0],\n",
       "         [0]],\n",
       "\n",
       "        ...,\n",
       "\n",
       "        [[0],\n",
       "         [0],\n",
       "         [0],\n",
       "         ...,\n",
       "         [0],\n",
       "         [0],\n",
       "         [0]],\n",
       "\n",
       "        [[0],\n",
       "         [0],\n",
       "         [0],\n",
       "         ...,\n",
       "         [0],\n",
       "         [0],\n",
       "         [0]],\n",
       "\n",
       "        [[0],\n",
       "         [0],\n",
       "         [0],\n",
       "         ...,\n",
       "         [0],\n",
       "         [0],\n",
       "         [0]]],\n",
       "\n",
       "\n",
       "       [[[0],\n",
       "         [0],\n",
       "         [0],\n",
       "         ...,\n",
       "         [0],\n",
       "         [0],\n",
       "         [0]],\n",
       "\n",
       "        [[0],\n",
       "         [0],\n",
       "         [0],\n",
       "         ...,\n",
       "         [0],\n",
       "         [0],\n",
       "         [0]],\n",
       "\n",
       "        [[0],\n",
       "         [0],\n",
       "         [0],\n",
       "         ...,\n",
       "         [0],\n",
       "         [0],\n",
       "         [0]],\n",
       "\n",
       "        ...,\n",
       "\n",
       "        [[0],\n",
       "         [0],\n",
       "         [0],\n",
       "         ...,\n",
       "         [0],\n",
       "         [0],\n",
       "         [0]],\n",
       "\n",
       "        [[0],\n",
       "         [0],\n",
       "         [0],\n",
       "         ...,\n",
       "         [0],\n",
       "         [0],\n",
       "         [0]],\n",
       "\n",
       "        [[0],\n",
       "         [0],\n",
       "         [0],\n",
       "         ...,\n",
       "         [0],\n",
       "         [0],\n",
       "         [0]]],\n",
       "\n",
       "\n",
       "       [[[0],\n",
       "         [0],\n",
       "         [0],\n",
       "         ...,\n",
       "         [0],\n",
       "         [0],\n",
       "         [0]],\n",
       "\n",
       "        [[0],\n",
       "         [0],\n",
       "         [0],\n",
       "         ...,\n",
       "         [0],\n",
       "         [0],\n",
       "         [0]],\n",
       "\n",
       "        [[0],\n",
       "         [0],\n",
       "         [0],\n",
       "         ...,\n",
       "         [0],\n",
       "         [0],\n",
       "         [0]],\n",
       "\n",
       "        ...,\n",
       "\n",
       "        [[0],\n",
       "         [0],\n",
       "         [0],\n",
       "         ...,\n",
       "         [0],\n",
       "         [0],\n",
       "         [0]],\n",
       "\n",
       "        [[0],\n",
       "         [0],\n",
       "         [0],\n",
       "         ...,\n",
       "         [0],\n",
       "         [0],\n",
       "         [0]],\n",
       "\n",
       "        [[0],\n",
       "         [0],\n",
       "         [0],\n",
       "         ...,\n",
       "         [0],\n",
       "         [0],\n",
       "         [0]]]], dtype=uint8)"
      ]
     },
     "execution_count": 157,
     "metadata": {},
     "output_type": "execute_result"
    }
   ],
   "source": [
    "x_new=x_test[:3]\n",
    "x_new"
   ]
  },
  {
   "cell_type": "code",
   "execution_count": 159,
   "id": "0ce66888",
   "metadata": {},
   "outputs": [
    {
     "name": "stdout",
     "output_type": "stream",
     "text": [
      "1/1 [==============================] - 0s 95ms/step\n"
     ]
    },
    {
     "data": {
      "text/plain": [
       "array([9, 2, 1], dtype=int64)"
      ]
     },
     "execution_count": 159,
     "metadata": {},
     "output_type": "execute_result"
    }
   ],
   "source": [
    "y_pred=np.argmax(model.predict(x_new),axis=1)\n",
    "y_pred"
   ]
  },
  {
   "cell_type": "code",
   "execution_count": 161,
   "id": "b934b30b",
   "metadata": {},
   "outputs": [
    {
     "data": {
      "text/plain": [
       "array([9, 2, 1], dtype=uint8)"
      ]
     },
     "execution_count": 161,
     "metadata": {},
     "output_type": "execute_result"
    }
   ],
   "source": [
    "y_test[:3]"
   ]
  },
  {
   "cell_type": "code",
   "execution_count": 166,
   "id": "8626133a",
   "metadata": {},
   "outputs": [
    {
     "name": "stdout",
     "output_type": "stream",
     "text": [
      "AxesImage(90,54;558x326.16)\n"
     ]
    },
    {
     "data": {
      "image/png": "[encoded data removed]",
      "text/plain": [
       "<Figure size 720x432 with 1 Axes>"
      ]
     },
     "metadata": {
      "needs_background": "light"
     },
     "output_type": "display_data"
    }
   ],
   "source": [
    "print(plt.imshow(x_test[29].reshape((28,28))))"
   ]
  },
  {
   "cell_type": "code",
   "execution_count": 164,
   "id": "acce114d",
   "metadata": {},
   "outputs": [],
   "source": [
    "keras.backend.clear_session\n",
    "del model"
   ]
  },
  {
   "cell_type": "markdown",
   "id": "24806d59",
   "metadata": {},
   "source": [
    "## Comparison b/w Pooling & without pooling"
   ]
  },
  {
   "cell_type": "code",
   "execution_count": 169,
   "id": "2b616560",
   "metadata": {},
   "outputs": [],
   "source": [
    "#pooling\n",
    "model_pool=keras.models.Sequential()\n",
    "model_pool.add(keras.layers.Conv2D(filters=32,kernel_size=(3,3),strides=1,padding='valid',activation='relu',input_shape=(28,28,1)))\n",
    "model_pool.add(keras.layers.MaxPooling2D((2,2)))\n",
    "model_pool.add(keras.layers.Flatten())\n",
    "model_pool.add(keras.layers.Dense(300,activation=\"relu\"))\n",
    "model_pool.add(keras.layers.Dense(100,activation=\"relu\"))\n",
    "model_pool.add(keras.layers.Dense(10,activation=\"softmax\"))\n",
    "\n",
    "#non-pooling\n",
    "model_non_pool=keras.models.Sequential()\n",
    "model_non_pool.add(keras.layers.Conv2D(filters=32,kernel_size=(3,3),strides=1,padding='valid',activation='relu',input_shape=(28,28,1)))\n",
    "model_non_pool.add(keras.layers.Flatten())\n",
    "model_non_pool.add(keras.layers.Dense(300,activation=\"relu\"))\n",
    "model_non_pool.add(keras.layers.Dense(100,activation=\"relu\"))\n",
    "model_non_pool.add(keras.layers.Dense(10,activation=\"softmax\"))"
   ]
  },
  {
   "cell_type": "code",
   "execution_count": 171,
   "id": "914aff07",
   "metadata": {},
   "outputs": [
    {
     "name": "stdout",
     "output_type": "stream",
     "text": [
      "Model: \"sequential_6\"\n",
      "_________________________________________________________________\n",
      " Layer (type)                Output Shape              Param #   \n",
      "=================================================================\n",
      " conv2d_1 (Conv2D)           (None, 26, 26, 32)        320       \n",
      "                                                                 \n",
      " max_pooling2d_1 (MaxPooling  (None, 13, 13, 32)       0         \n",
      " 2D)                                                             \n",
      "                                                                 \n",
      " flatten_1 (Flatten)         (None, 5408)              0         \n",
      "                                                                 \n",
      " dense_6 (Dense)             (None, 300)               1622700   \n",
      "                                                                 \n",
      " dense_7 (Dense)             (None, 100)               30100     \n",
      "                                                                 \n",
      " dense_8 (Dense)             (None, 10)                1010      \n",
      "                                                                 \n",
      "=================================================================\n",
      "Total params: 1,654,130\n",
      "Trainable params: 1,654,130\n",
      "Non-trainable params: 0\n",
      "_________________________________________________________________\n"
     ]
    }
   ],
   "source": [
    "model_pool.summary()"
   ]
  },
  {
   "cell_type": "code",
   "execution_count": 172,
   "id": "1ad3b6ff",
   "metadata": {},
   "outputs": [
    {
     "name": "stdout",
     "output_type": "stream",
     "text": [
      "Model: \"sequential_7\"\n",
      "_________________________________________________________________\n",
      " Layer (type)                Output Shape              Param #   \n",
      "=================================================================\n",
      " conv2d_2 (Conv2D)           (None, 26, 26, 32)        320       \n",
      "                                                                 \n",
      " flatten_2 (Flatten)         (None, 21632)             0         \n",
      "                                                                 \n",
      " dense_9 (Dense)             (None, 300)               6489900   \n",
      "                                                                 \n",
      " dense_10 (Dense)            (None, 100)               30100     \n",
      "                                                                 \n",
      " dense_11 (Dense)            (None, 10)                1010      \n",
      "                                                                 \n",
      "=================================================================\n",
      "Total params: 6,521,330\n",
      "Trainable params: 6,521,330\n",
      "Non-trainable params: 0\n",
      "_________________________________________________________________\n"
     ]
    }
   ],
   "source": [
    "model_non_pool.summary()"
   ]
  },
  {
   "cell_type": "code",
   "execution_count": 173,
   "id": "564abd6d",
   "metadata": {},
   "outputs": [],
   "source": [
    "model_pool.compile(loss=\"sparse_categorical_crossentropy\",\n",
    "             optimizer=\"sgd\",\n",
    "              metrics=['accuracy'])\n",
    "\n",
    "model_non_pool.compile(loss=\"sparse_categorical_crossentropy\",\n",
    "             optimizer=\"sgd\",\n",
    "              metrics=['accuracy'])"
   ]
  },
  {
   "cell_type": "code",
   "execution_count": 175,
   "id": "5783e453",
   "metadata": {},
   "outputs": [
    {
     "name": "stdout",
     "output_type": "stream",
     "text": [
      "Epoch 1/2\n",
      "860/860 [==============================] - 26s 30ms/step - loss: 0.8771 - accuracy: 0.6990 - val_loss: 0.8200 - val_accuracy: 0.6926\n",
      "Epoch 2/2\n",
      "860/860 [==============================] - 27s 32ms/step - loss: 0.5322 - accuracy: 0.8069 - val_loss: 0.4794 - val_accuracy: 0.8228\n"
     ]
    }
   ],
   "source": [
    "model_history_pool=model_pool.fit(x_train,y_train,epochs=2,batch_size=64,\n",
    "                  validation_data=(x_valid,y_valid))"
   ]
  },
  {
   "cell_type": "code",
   "execution_count": 179,
   "id": "0b898cc5",
   "metadata": {},
   "outputs": [
    {
     "name": "stdout",
     "output_type": "stream",
     "text": [
      "Epoch 1/2\n",
      "860/860 [==============================] - 55s 64ms/step - loss: 0.6351 - accuracy: 0.7738 - val_loss: 0.7274 - val_accuracy: 0.7328\n",
      "Epoch 2/2\n",
      "860/860 [==============================] - 53s 62ms/step - loss: 0.4864 - accuracy: 0.8240 - val_loss: 0.4661 - val_accuracy: 0.8224\n"
     ]
    }
   ],
   "source": [
    "model_history_non_pool=model_non_pool.fit(x_train,y_train,epochs=2,batch_size=64,\n",
    "                  validation_data=(x_valid,y_valid))"
   ]
  }
 ],
 "metadata": {
  "kernelspec": {
   "display_name": "Python 3 (ipykernel)",
   "language": "python",
   "name": "python3"
  },
  "language_info": {
   "codemirror_mode": {
    "name": "ipython",
    "version": 3
   },
   "file_extension": ".py",
   "mimetype": "text/x-python",
   "name": "python",
   "nbconvert_exporter": "python",
   "pygments_lexer": "ipython3",
   "version": "3.9.12"
  }
 },
 "nbformat": 4,
 "nbformat_minor": 5
}
